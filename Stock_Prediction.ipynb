{
  "nbformat": 4,
  "nbformat_minor": 0,
  "metadata": {
    "colab": {
      "name": "Stock Prediction.ipynb",
      "provenance": [],
      "collapsed_sections": []
    },
    "kernelspec": {
      "display_name": "Python 3",
      "name": "python3"
    }
  },
  "cells": [
    {
      "cell_type": "markdown",
      "source": [
        "## **Importing Necessary Libraries**"
      ],
      "metadata": {
        "id": "MxFcqUpAH9Pg"
      }
    },
    {
      "cell_type": "code",
      "source": [
        "pip install jugaad-data"
      ],
      "metadata": {
        "colab": {
          "base_uri": "https://localhost:8080/"
        },
        "id": "_7jjOoMQfyIU",
        "outputId": "5ccf4240-127c-441a-b42f-f73240d628fb"
      },
      "execution_count": null,
      "outputs": [
        {
          "output_type": "stream",
          "name": "stdout",
          "text": [
            "Looking in indexes: https://pypi.org/simple, https://us-python.pkg.dev/colab-wheels/public/simple/\n",
            "Collecting jugaad-data\n",
            "  Downloading jugaad_data-0.24-py3-none-any.whl (26 kB)\n",
            "Requirement already satisfied: click==7.1.2 in /usr/local/lib/python3.7/dist-packages (from jugaad-data) (7.1.2)\n",
            "Requirement already satisfied: requests in /usr/local/lib/python3.7/dist-packages (from jugaad-data) (2.23.0)\n",
            "Collecting beautifulsoup4==4.9.3\n",
            "  Downloading beautifulsoup4-4.9.3-py3-none-any.whl (115 kB)\n",
            "\u001b[K     |████████████████████████████████| 115 kB 6.4 MB/s \n",
            "\u001b[?25hRequirement already satisfied: appdirs==1.4.4 in /usr/local/lib/python3.7/dist-packages (from jugaad-data) (1.4.4)\n",
            "Requirement already satisfied: soupsieve>1.2 in /usr/local/lib/python3.7/dist-packages (from beautifulsoup4==4.9.3->jugaad-data) (2.3.2.post1)\n",
            "Requirement already satisfied: certifi>=2017.4.17 in /usr/local/lib/python3.7/dist-packages (from requests->jugaad-data) (2022.5.18.1)\n",
            "Requirement already satisfied: chardet<4,>=3.0.2 in /usr/local/lib/python3.7/dist-packages (from requests->jugaad-data) (3.0.4)\n",
            "Requirement already satisfied: urllib3!=1.25.0,!=1.25.1,<1.26,>=1.21.1 in /usr/local/lib/python3.7/dist-packages (from requests->jugaad-data) (1.24.3)\n",
            "Requirement already satisfied: idna<3,>=2.5 in /usr/local/lib/python3.7/dist-packages (from requests->jugaad-data) (2.10)\n",
            "Installing collected packages: beautifulsoup4, jugaad-data\n",
            "  Attempting uninstall: beautifulsoup4\n",
            "    Found existing installation: beautifulsoup4 4.6.3\n",
            "    Uninstalling beautifulsoup4-4.6.3:\n",
            "      Successfully uninstalled beautifulsoup4-4.6.3\n",
            "Successfully installed beautifulsoup4-4.9.3 jugaad-data-0.24\n"
          ]
        }
      ]
    },
    {
      "cell_type": "code",
      "metadata": {
        "id": "a92nHELU1gxI"
      },
      "source": [
        "import math\n",
        "import numpy as np\n",
        "import pandas as pd\n",
        "import matplotlib.pyplot as plt\n",
        "\n",
        "import tensorflow as tf\n",
        "from sklearn.metrics import mean_squared_error, mean_absolute_error\n",
        "\n",
        "import warnings\n",
        "warnings.filterwarnings('ignore')"
      ],
      "execution_count": null,
      "outputs": []
    },
    {
      "cell_type": "markdown",
      "source": [
        "## **Data Scraping**"
      ],
      "metadata": {
        "id": "AzMqHqeaIFjH"
      }
    },
    {
      "cell_type": "code",
      "source": [
        "from datetime import date\n",
        "from jugaad_data.nse import bhavcopy_save, bhavcopy_fo_save\n",
        "\n",
        "# Download bhavcopy\n",
        "bhavcopy_save(date(2018,1,1), \"/content/sample_data\")\n",
        "\n",
        "# Download bhavcopy for futures and options\n",
        "bhavcopy_fo_save(date(2018,1,1), \"/content/sample_data\")\n",
        "\n",
        "# Download stock data to pandas dataframe\n",
        "from jugaad_data.nse import stock_df\n",
        "df_SBIN = stock_df(symbol=\"SBIN\", from_date=date(2018,1,1),\n",
        "            to_date=date(2022,5,16), series=\"EQ\")\n",
        "df_TATA = stock_df(symbol=\"TATASTEEL\", from_date=date(2018,1,1),\n",
        "            to_date=date(2022,5,16), series=\"EQ\")\n",
        "df_RELIANCE = stock_df(symbol=\"RELIANCE\", from_date=date(2018,1,1),\n",
        "            to_date=date(2022,5,16), series=\"EQ\")\n",
        "df_WIPRO = stock_df(symbol=\"WIPRO\", from_date=date(2018,1,1),\n",
        "            to_date=date(2022,5,16), series=\"EQ\")\n",
        "df_TCS = stock_df(symbol=\"TCS\", from_date=date(2018,1,1),\n",
        "            to_date=date(2022,5,16), series=\"EQ\")\n",
        "df1 = df_SBIN.to_csv('SBIN_Data.csv')\n",
        "df2 = df_TATA.to_csv('TATA_Data.csv')\n",
        "df3 = df_RELIANCE.to_csv('RELIANCE_Data.csv')\n",
        "df4 = df_WIPRO.to_csv('WIPRO_Data.csv')\n",
        "df5 = df_TCS.to_csv('TCS_Data.csv')"
      ],
      "metadata": {
        "id": "AWzLeu_xfZxx"
      },
      "execution_count": null,
      "outputs": []
    },
    {
      "cell_type": "code",
      "metadata": {
        "id": "cniPewwH16-t"
      },
      "source": [
        "SBI = pd.read_csv(\"SBIN_Data.csv\")\n",
        "TATA = pd.read_csv(\"TATA_Data.csv\")\n",
        "RELIANCE = pd.read_csv(\"RELIANCE_Data.csv\")\n",
        "TCS = pd.read_csv(\"TCS_Data.csv\")\n",
        "WIPRO = pd.read_csv(\"WIPRO_Data.csv\")"
      ],
      "execution_count": null,
      "outputs": []
    },
    {
      "cell_type": "markdown",
      "metadata": {
        "id": "vDdZr0DH0sor"
      },
      "source": [
        "## **Model Building with UDF**"
      ]
    },
    {
      "cell_type": "code",
      "metadata": {
        "id": "kkZs6LC9QPMp"
      },
      "source": [
        "def Dataset(Data, Date):\n",
        "\n",
        "  Train_Data = Data['VWAP'][Data['DATE'] < Date].to_numpy()\n",
        "  Data_Train = []\n",
        "  Data_Train_X = []\n",
        "  Data_Train_Y = []\n",
        "  for i in range(0, len(Train_Data), 5):\n",
        "    try:\n",
        "      Data_Train.append(Train_Data[i : i + 5])\n",
        "    except:\n",
        "      pass\n",
        "\n",
        "  if len(Data_Train[-1]) < 5:\n",
        "    Data_Train.pop(-1)\n",
        "  \n",
        "  Data_Train_X = Data_Train[0 : -1]\n",
        "  Data_Train_X = np.array(Data_Train_X)\n",
        "  Data_Train_X = Data_Train_X.reshape((-1, 5, 1))\n",
        "  Data_Train_Y = Data_Train[1 : len(Data_Train)]\n",
        "  Data_Train_Y = np.array(Data_Train_Y)\n",
        "  Data_Train_Y = Data_Train_Y.reshape((-1, 5, 1))\n",
        "\n",
        "\n",
        "  Test_Data = Data['VWAP'][Data['DATE'] >= Date].to_numpy()\n",
        "  Data_Test = []\n",
        "  Data_Test_X = []\n",
        "  Data_Test_Y = []\n",
        "  for i in range(0, len(Test_Data), 5):\n",
        "    try:\n",
        "      Data_Test.append(Test_Data[i : i + 5])\n",
        "    except:\n",
        "      pass\n",
        "\n",
        "  if len(Data_Test[-1]) < 5:\n",
        "    Data_Test.pop(-1)\n",
        "  \n",
        "  Data_Test_X = Data_Test[0 : -1]\n",
        "  Data_Test_X = np.array(Data_Test_X)\n",
        "  Data_Test_X = Data_Test_X.reshape((-1, 5, 1))\n",
        "  Data_Test_Y = Data_Test[1 : len(Data_Test)]\n",
        "  Data_Test_Y = np.array(Data_Test_Y)\n",
        "  Data_Test_Y = Data_Test_Y.reshape((-1, 5, 1))\n",
        "\n",
        "  return Data_Train_X, Data_Train_Y, Data_Test_X, Data_Test_Y"
      ],
      "execution_count": null,
      "outputs": []
    },
    {
      "cell_type": "markdown",
      "metadata": {
        "id": "fFmGO6j50wbO"
      },
      "source": [
        "### Model"
      ]
    },
    {
      "cell_type": "code",
      "metadata": {
        "id": "DPWMIKGv_7b1"
      },
      "source": [
        "def Model():\n",
        "  model = tf.keras.models.Sequential([\n",
        "                                      tf.keras.layers.LSTM(200, input_shape = (5, 1), activation = tf.nn.leaky_relu, return_sequences = True),\n",
        "                                      tf.keras.layers.LSTM(200, activation = tf.nn.leaky_relu),\n",
        "                                      tf.keras.layers.Dense(200, activation = tf.nn.leaky_relu),\n",
        "                                      tf.keras.layers.Dense(100, activation = tf.nn.leaky_relu),\n",
        "                                      tf.keras.layers.Dense(50, activation = tf.nn.leaky_relu),\n",
        "                                      tf.keras.layers.Dense(5, activation = tf.nn.leaky_relu)\n",
        "                                      ])\n",
        "  return model"
      ],
      "execution_count": null,
      "outputs": []
    },
    {
      "cell_type": "code",
      "metadata": {
        "id": "k-zXwjAyrGm7"
      },
      "source": [
        "model = Model()"
      ],
      "execution_count": null,
      "outputs": []
    },
    {
      "cell_type": "code",
      "metadata": {
        "colab": {
          "base_uri": "https://localhost:8080/",
          "height": 754
        },
        "id": "RAS71VonrLzU",
        "outputId": "5d4e40bb-2c86-4fc8-a199-70d9cef6dd6a"
      },
      "source": [
        "tf.keras.utils.plot_model(model, show_shapes=True)"
      ],
      "execution_count": null,
      "outputs": [
        {
          "output_type": "execute_result",
          "data": {
            "text/plain": [
              "<IPython.core.display.Image object>"
            ],
            "image/png": "[encoded data removed]"
          },
          "metadata": {},
          "execution_count": 11
        }
      ]
    },
    {
      "cell_type": "code",
      "metadata": {
        "colab": {
          "base_uri": "https://localhost:8080/"
        },
        "id": "neXmHN79rO0k",
        "outputId": "30c09454-0239-44f9-e90a-bedae7110e0c"
      },
      "source": [
        "model.summary()"
      ],
      "execution_count": null,
      "outputs": [
        {
          "output_type": "stream",
          "name": "stdout",
          "text": [
            "Model: \"sequential\"\n",
            "_________________________________________________________________\n",
            " Layer (type)                Output Shape              Param #   \n",
            "=================================================================\n",
            " lstm (LSTM)                 (None, 5, 200)            161600    \n",
            "                                                                 \n",
            " lstm_1 (LSTM)               (None, 200)               320800    \n",
            "                                                                 \n",
            " dense (Dense)               (None, 200)               40200     \n",
            "                                                                 \n",
            " dense_1 (Dense)             (None, 100)               20100     \n",
            "                                                                 \n",
            " dense_2 (Dense)             (None, 50)                5050      \n",
            "                                                                 \n",
            " dense_3 (Dense)             (None, 5)                 255       \n",
            "                                                                 \n",
            "=================================================================\n",
            "Total params: 548,005\n",
            "Trainable params: 548,005\n",
            "Non-trainable params: 0\n",
            "_________________________________________________________________\n"
          ]
        }
      ]
    },
    {
      "cell_type": "markdown",
      "metadata": {
        "id": "vJDxyTC40zmg"
      },
      "source": [
        "### Custom Learning Rate"
      ]
    },
    {
      "cell_type": "code",
      "metadata": {
        "id": "vLjevQLkiIoP"
      },
      "source": [
        "def scheduler(epoch):\n",
        "  \n",
        "  if epoch <= 150:\n",
        "    lrate = (10 ** -5) * (epoch / 150) \n",
        "  elif epoch <= 400:\n",
        "    initial_lrate = (10 ** -5)\n",
        "    k = 0.01\n",
        "    lrate = initial_lrate * math.exp(-k * (epoch - 150))\n",
        "  else:\n",
        "    lrate = (10 ** -6)\n",
        "  \n",
        "  return lrate"
      ],
      "execution_count": null,
      "outputs": []
    },
    {
      "cell_type": "code",
      "metadata": {
        "id": "R0NG_mhJiQH_"
      },
      "source": [
        "callback = tf.keras.callbacks.LearningRateScheduler(scheduler)"
      ],
      "execution_count": null,
      "outputs": []
    },
    {
      "cell_type": "markdown",
      "metadata": {
        "id": "P9l6y-jBQL-G"
      },
      "source": [
        "#SBI"
      ]
    },
    {
      "cell_type": "code",
      "metadata": {
        "colab": {
          "base_uri": "https://localhost:8080/"
        },
        "id": "thrQ_-6x7_7m",
        "outputId": "c6db4f47-993e-406b-c04a-a46770c8b55c"
      },
      "source": [
        "SBI.shape"
      ],
      "execution_count": null,
      "outputs": [
        {
          "output_type": "execute_result",
          "data": {
            "text/plain": [
              "(1081, 16)"
            ]
          },
          "metadata": {},
          "execution_count": 16
        }
      ]
    },
    {
      "cell_type": "code",
      "source": [
        "SBI.columns"
      ],
      "metadata": {
        "colab": {
          "base_uri": "https://localhost:8080/"
        },
        "id": "96fn-TcXl5uh",
        "outputId": "77d4f8a9-483f-4a4a-a9a5-d1b08c5b7a7b"
      },
      "execution_count": null,
      "outputs": [
        {
          "output_type": "execute_result",
          "data": {
            "text/plain": [
              "Index(['Unnamed: 0', 'DATE', 'SERIES', 'OPEN', 'HIGH', 'LOW', 'PREV. CLOSE',\n",
              "       'LTP', 'CLOSE', 'VWAP', '52W H', '52W L', 'VOLUME', 'VALUE',\n",
              "       'NO OF TRADES', 'SYMBOL'],\n",
              "      dtype='object')"
            ]
          },
          "metadata": {},
          "execution_count": 17
        }
      ]
    },
    {
      "cell_type": "code",
      "source": [
        "SBI = SBI.drop(columns=['Unnamed: 0','SERIES','PREV. CLOSE','52W H','52W L','SYMBOL'])"
      ],
      "metadata": {
        "id": "kTm9gfz5lV8h"
      },
      "execution_count": null,
      "outputs": []
    },
    {
      "cell_type": "code",
      "metadata": {
        "colab": {
          "base_uri": "https://localhost:8080/"
        },
        "id": "IA_pY7CN8B0x",
        "outputId": "881eb330-3bf1-41a0-8436-332b0d9c23a4"
      },
      "source": [
        "SBI.info()"
      ],
      "execution_count": null,
      "outputs": [
        {
          "output_type": "stream",
          "name": "stdout",
          "text": [
            "<class 'pandas.core.frame.DataFrame'>\n",
            "RangeIndex: 1081 entries, 0 to 1080\n",
            "Data columns (total 10 columns):\n",
            " #   Column        Non-Null Count  Dtype  \n",
            "---  ------        --------------  -----  \n",
            " 0   DATE          1081 non-null   object \n",
            " 1   OPEN          1081 non-null   float64\n",
            " 2   HIGH          1081 non-null   float64\n",
            " 3   LOW           1081 non-null   float64\n",
            " 4   LTP           1081 non-null   float64\n",
            " 5   CLOSE         1081 non-null   float64\n",
            " 6   VWAP          1081 non-null   float64\n",
            " 7   VOLUME        1081 non-null   int64  \n",
            " 8   VALUE         1081 non-null   float64\n",
            " 9   NO OF TRADES  1081 non-null   int64  \n",
            "dtypes: float64(7), int64(2), object(1)\n",
            "memory usage: 84.6+ KB\n"
          ]
        }
      ]
    },
    {
      "cell_type": "code",
      "source": [
        "SBI.head()"
      ],
      "metadata": {
        "colab": {
          "base_uri": "https://localhost:8080/",
          "height": 206
        },
        "id": "rroWVTOKndzk",
        "outputId": "30cea8d1-3cdd-4b6d-e1d7-7f08f37e01af"
      },
      "execution_count": null,
      "outputs": [
        {
          "output_type": "execute_result",
          "data": {
            "text/plain": [
              "         DATE    OPEN    HIGH     LOW    LTP   CLOSE    VWAP    VOLUME  \\\n",
              "0  2022-05-16  445.00  461.50  438.85  456.0  455.00  454.93  27940958   \n",
              "1  2022-05-13  469.45  477.00  439.75  440.5  444.65  461.88  61403008   \n",
              "2  2022-05-12  473.00  473.00  456.35  462.7  462.65  462.77  18947096   \n",
              "3  2022-05-11  475.25  479.00  463.65  478.4  476.55  471.45  14771351   \n",
              "4  2022-05-10  477.00  482.55  473.50  474.0  475.20  477.99  10884328   \n",
              "\n",
              "          VALUE  NO OF TRADES  \n",
              "0  1.271105e+10        283950  \n",
              "1  2.836053e+10        595336  \n",
              "2  8.768076e+09        314035  \n",
              "3  6.963938e+09        241751  \n",
              "4  5.202612e+09        183663  "
            ],
            "text/html": [
              "\n",
              "  <div id=\"df-585115b6-7ea7-473d-9d6d-83fe2d0c760e\">\n",
              "    <div class=\"colab-df-container\">\n",
              "      <div>\n",
              "<style scoped>\n",
              "    .dataframe tbody tr th:only-of-type {\n",
              "        vertical-align: middle;\n",
              "    }\n",
              "\n",
              "    .dataframe tbody tr th {\n",
              "        vertical-align: top;\n",
              "    }\n",
              "\n",
              "    .dataframe thead th {\n",
              "        text-align: right;\n",
              "    }\n",
              "</style>\n",
              "<table border=\"1\" class=\"dataframe\">\n",
              "  <thead>\n",
              "    <tr style=\"text-align: right;\">\n",
              "      <th></th>\n",
              "      <th>DATE</th>\n",
              "      <th>OPEN</th>\n",
              "      <th>HIGH</th>\n",
              "      <th>LOW</th>\n",
              "      <th>LTP</th>\n",
              "      <th>CLOSE</th>\n",
              "      <th>VWAP</th>\n",
              "      <th>VOLUME</th>\n",
              "      <th>VALUE</th>\n",
              "      <th>NO OF TRADES</th>\n",
              "    </tr>\n",
              "  </thead>\n",
              "  <tbody>\n",
              "    <tr>\n",
              "      <th>0</th>\n",
              "      <td>2022-05-16</td>\n",
              "      <td>445.00</td>\n",
              "      <td>461.50</td>\n",
              "      <td>438.85</td>\n",
              "      <td>456.0</td>\n",
              "      <td>455.00</td>\n",
              "      <td>454.93</td>\n",
              "      <td>27940958</td>\n",
              "      <td>1.271105e+10</td>\n",
              "      <td>283950</td>\n",
              "    </tr>\n",
              "    <tr>\n",
              "      <th>1</th>\n",
              "      <td>2022-05-13</td>\n",
              "      <td>469.45</td>\n",
              "      <td>477.00</td>\n",
              "      <td>439.75</td>\n",
              "      <td>440.5</td>\n",
              "      <td>444.65</td>\n",
              "      <td>461.88</td>\n",
              "      <td>61403008</td>\n",
              "      <td>2.836053e+10</td>\n",
              "      <td>595336</td>\n",
              "    </tr>\n",
              "    <tr>\n",
              "      <th>2</th>\n",
              "      <td>2022-05-12</td>\n",
              "      <td>473.00</td>\n",
              "      <td>473.00</td>\n",
              "      <td>456.35</td>\n",
              "      <td>462.7</td>\n",
              "      <td>462.65</td>\n",
              "      <td>462.77</td>\n",
              "      <td>18947096</td>\n",
              "      <td>8.768076e+09</td>\n",
              "      <td>314035</td>\n",
              "    </tr>\n",
              "    <tr>\n",
              "      <th>3</th>\n",
              "      <td>2022-05-11</td>\n",
              "      <td>475.25</td>\n",
              "      <td>479.00</td>\n",
              "      <td>463.65</td>\n",
              "      <td>478.4</td>\n",
              "      <td>476.55</td>\n",
              "      <td>471.45</td>\n",
              "      <td>14771351</td>\n",
              "      <td>6.963938e+09</td>\n",
              "      <td>241751</td>\n",
              "    </tr>\n",
              "    <tr>\n",
              "      <th>4</th>\n",
              "      <td>2022-05-10</td>\n",
              "      <td>477.00</td>\n",
              "      <td>482.55</td>\n",
              "      <td>473.50</td>\n",
              "      <td>474.0</td>\n",
              "      <td>475.20</td>\n",
              "      <td>477.99</td>\n",
              "      <td>10884328</td>\n",
              "      <td>5.202612e+09</td>\n",
              "      <td>183663</td>\n",
              "    </tr>\n",
              "  </tbody>\n",
              "</table>\n",
              "</div>\n",
              "      <button class=\"colab-df-convert\" onclick=\"convertToInteractive('df-585115b6-7ea7-473d-9d6d-83fe2d0c760e')\"\n",
              "              title=\"Convert this dataframe to an interactive table.\"\n",
              "              style=\"display:none;\">\n",
              "        \n",
              "  <svg xmlns=\"http://www.w3.org/2000/svg\" height=\"24px\"viewBox=\"0 0 24 24\"\n",
              "       width=\"24px\">\n",
              "    <path d=\"M0 0h24v24H0V0z\" fill=\"none\"/>\n",
              "    <path d=\"M18.56 5.44l.94 2.06.94-2.06 2.06-.94-2.06-.94-.94-2.06-.94 2.06-2.06.94zm-11 1L8.5 8.5l.94-2.06 2.06-.94-2.06-.94L8.5 2.5l-.94 2.06-2.06.94zm10 10l.94 2.06.94-2.06 2.06-.94-2.06-.94-.94-2.06-.94 2.06-2.06.94z\"/><path d=\"M17.41 7.96l-1.37-1.37c-.4-.4-.92-.59-1.43-.59-.52 0-1.04.2-1.43.59L10.3 9.45l-7.72 7.72c-.78.78-.78 2.05 0 2.83L4 21.41c.39.39.9.59 1.41.59.51 0 1.02-.2 1.41-.59l7.78-7.78 2.81-2.81c.8-.78.8-2.07 0-2.86zM5.41 20L4 18.59l7.72-7.72 1.47 1.35L5.41 20z\"/>\n",
              "  </svg>\n",
              "      </button>\n",
              "      \n",
              "  <style>\n",
              "    .colab-df-container {\n",
              "      display:flex;\n",
              "      flex-wrap:wrap;\n",
              "      gap: 12px;\n",
              "    }\n",
              "\n",
              "    .colab-df-convert {\n",
              "      background-color: #E8F0FE;\n",
              "      border: none;\n",
              "      border-radius: 50%;\n",
              "      cursor: pointer;\n",
              "      display: none;\n",
              "      fill: #1967D2;\n",
              "      height: 32px;\n",
              "      padding: 0 0 0 0;\n",
              "      width: 32px;\n",
              "    }\n",
              "\n",
              "    .colab-df-convert:hover {\n",
              "      background-color: #E2EBFA;\n",
              "      box-shadow: 0px 1px 2px rgba(60, 64, 67, 0.3), 0px 1px 3px 1px rgba(60, 64, 67, 0.15);\n",
              "      fill: #174EA6;\n",
              "    }\n",
              "\n",
              "    [theme=dark] .colab-df-convert {\n",
              "      background-color: #3B4455;\n",
              "      fill: #D2E3FC;\n",
              "    }\n",
              "\n",
              "    [theme=dark] .colab-df-convert:hover {\n",
              "      background-color: #434B5C;\n",
              "      box-shadow: 0px 1px 3px 1px rgba(0, 0, 0, 0.15);\n",
              "      filter: drop-shadow(0px 1px 2px rgba(0, 0, 0, 0.3));\n",
              "      fill: #FFFFFF;\n",
              "    }\n",
              "  </style>\n",
              "\n",
              "      <script>\n",
              "        const buttonEl =\n",
              "          document.querySelector('#df-585115b6-7ea7-473d-9d6d-83fe2d0c760e button.colab-df-convert');\n",
              "        buttonEl.style.display =\n",
              "          google.colab.kernel.accessAllowed ? 'block' : 'none';\n",
              "\n",
              "        async function convertToInteractive(key) {\n",
              "          const element = document.querySelector('#df-585115b6-7ea7-473d-9d6d-83fe2d0c760e');\n",
              "          const dataTable =\n",
              "            await google.colab.kernel.invokeFunction('convertToInteractive',\n",
              "                                                     [key], {});\n",
              "          if (!dataTable) return;\n",
              "\n",
              "          const docLinkHtml = 'Like what you see? Visit the ' +\n",
              "            '<a target=\"_blank\" href=https://colab.research.google.com/notebooks/data_table.ipynb>data table notebook</a>'\n",
              "            + ' to learn more about interactive tables.';\n",
              "          element.innerHTML = '';\n",
              "          dataTable['output_type'] = 'display_data';\n",
              "          await google.colab.output.renderOutput(dataTable, element);\n",
              "          const docLink = document.createElement('div');\n",
              "          docLink.innerHTML = docLinkHtml;\n",
              "          element.appendChild(docLink);\n",
              "        }\n",
              "      </script>\n",
              "    </div>\n",
              "  </div>\n",
              "  "
            ]
          },
          "metadata": {},
          "execution_count": 20
        }
      ]
    },
    {
      "cell_type": "code",
      "metadata": {
        "id": "elqcyE_H3h2S"
      },
      "source": [
        "# Change Dtype of Date column\n",
        "SBI[\"DATE\"] = pd.to_datetime(SBI[\"DATE\"])"
      ],
      "execution_count": null,
      "outputs": []
    },
    {
      "cell_type": "markdown",
      "metadata": {
        "id": "FPawFX7U5VVz"
      },
      "source": [
        "###Split the Data into Training and Test set\n",
        "    Training Period: 2018-01-01 - 2020-09-30\n",
        "\n",
        "    Testing Period:  2020-10-01 - 2022-05-17"
      ]
    },
    {
      "cell_type": "code",
      "metadata": {
        "id": "Cdu0-_N238N2"
      },
      "source": [
        "SBI_Date = '2020-10-01'\n",
        "SBI_Train_X, SBI_Train_Y, SBI_Test_X, SBI_Test_Y = Dataset(SBI, SBI_Date)"
      ],
      "execution_count": null,
      "outputs": []
    },
    {
      "cell_type": "markdown",
      "metadata": {
        "id": "WhsAWnFP1-_t"
      },
      "source": [
        "### Model Fitting"
      ]
    },
    {
      "cell_type": "code",
      "metadata": {
        "id": "yMBW7DTXAOo6"
      },
      "source": [
        "SBI_Model = Model()"
      ],
      "execution_count": null,
      "outputs": []
    },
    {
      "cell_type": "code",
      "metadata": {
        "id": "YIN5tmbx9Pz5"
      },
      "source": [
        "SBI_Model.compile(optimizer = tf.keras.optimizers.Adam(), loss = 'mse', metrics = tf.keras.metrics.RootMeanSquaredError())"
      ],
      "execution_count": null,
      "outputs": []
    },
    {
      "cell_type": "code",
      "metadata": {
        "id": "BNxXmS48BxEb",
        "colab": {
          "base_uri": "https://localhost:8080/"
        },
        "outputId": "b8c48367-f789-4172-f6e5-96131f641b42"
      },
      "source": [
        "SBI_hist = SBI_Model.fit(SBI_Train_X, SBI_Train_Y, epochs = 200, validation_data = (SBI_Test_X, SBI_Test_Y), callbacks=[callback])"
      ],
      "execution_count": null,
      "outputs": [
        {
          "output_type": "stream",
          "name": "stdout",
          "text": [
            "Epoch 1/200\n",
            "5/5 [==============================] - 3s 187ms/step - loss: 77387.2969 - root_mean_squared_error: 278.1857 - val_loss: 173282.2812 - val_root_mean_squared_error: 416.2719 - lr: 0.0000e+00\n",
            "Epoch 2/200\n",
            "5/5 [==============================] - 0s 37ms/step - loss: 77387.1875 - root_mean_squared_error: 278.1855 - val_loss: 173281.9062 - val_root_mean_squared_error: 416.2714 - lr: 6.6667e-08\n",
            "Epoch 3/200\n",
            "5/5 [==============================] - 0s 41ms/step - loss: 77386.6953 - root_mean_squared_error: 278.1847 - val_loss: 173281.1562 - val_root_mean_squared_error: 416.2705 - lr: 1.3333e-07\n",
            "Epoch 4/200\n",
            "5/5 [==============================] - 0s 41ms/step - loss: 77385.8359 - root_mean_squared_error: 278.1831 - val_loss: 173279.9219 - val_root_mean_squared_error: 416.2690 - lr: 2.0000e-07\n",
            "Epoch 5/200\n",
            "5/5 [==============================] - 0s 42ms/step - loss: 77384.6094 - root_mean_squared_error: 278.1809 - val_loss: 173278.2812 - val_root_mean_squared_error: 416.2671 - lr: 2.6667e-07\n",
            "Epoch 6/200\n",
            "5/5 [==============================] - 0s 40ms/step - loss: 77382.9453 - root_mean_squared_error: 278.1779 - val_loss: 173276.1406 - val_root_mean_squared_error: 416.2645 - lr: 3.3333e-07\n",
            "Epoch 7/200\n",
            "5/5 [==============================] - 0s 41ms/step - loss: 77380.7891 - root_mean_squared_error: 278.1740 - val_loss: 173273.4688 - val_root_mean_squared_error: 416.2613 - lr: 4.0000e-07\n",
            "Epoch 8/200\n",
            "5/5 [==============================] - 0s 40ms/step - loss: 77378.1953 - root_mean_squared_error: 278.1694 - val_loss: 173270.2812 - val_root_mean_squared_error: 416.2575 - lr: 4.6667e-07\n",
            "Epoch 9/200\n",
            "5/5 [==============================] - 0s 40ms/step - loss: 77375.0000 - root_mean_squared_error: 278.1636 - val_loss: 173266.4062 - val_root_mean_squared_error: 416.2528 - lr: 5.3333e-07\n",
            "Epoch 10/200\n",
            "5/5 [==============================] - 0s 41ms/step - loss: 77371.2031 - root_mean_squared_error: 278.1568 - val_loss: 173261.6094 - val_root_mean_squared_error: 416.2471 - lr: 6.0000e-07\n",
            "Epoch 11/200\n",
            "5/5 [==============================] - 0s 39ms/step - loss: 77366.4609 - root_mean_squared_error: 278.1483 - val_loss: 173255.6875 - val_root_mean_squared_error: 416.2399 - lr: 6.6667e-07\n",
            "Epoch 12/200\n",
            "5/5 [==============================] - 0s 41ms/step - loss: 77360.7500 - root_mean_squared_error: 278.1380 - val_loss: 173248.1562 - val_root_mean_squared_error: 416.2309 - lr: 7.3333e-07\n",
            "Epoch 13/200\n",
            "5/5 [==============================] - 0s 40ms/step - loss: 77353.8750 - root_mean_squared_error: 278.1256 - val_loss: 173238.6406 - val_root_mean_squared_error: 416.2195 - lr: 8.0000e-07\n",
            "Epoch 14/200\n",
            "5/5 [==============================] - 0s 37ms/step - loss: 77346.2969 - root_mean_squared_error: 278.1120 - val_loss: 173226.4375 - val_root_mean_squared_error: 416.2048 - lr: 8.6667e-07\n",
            "Epoch 15/200\n",
            "5/5 [==============================] - 0s 43ms/step - loss: 77337.6875 - root_mean_squared_error: 278.0966 - val_loss: 173211.0156 - val_root_mean_squared_error: 416.1862 - lr: 9.3333e-07\n",
            "Epoch 16/200\n",
            "5/5 [==============================] - 0s 41ms/step - loss: 77328.2266 - root_mean_squared_error: 278.0796 - val_loss: 173192.7500 - val_root_mean_squared_error: 416.1643 - lr: 1.0000e-06\n",
            "Epoch 17/200\n",
            "5/5 [==============================] - 0s 39ms/step - loss: 77317.7344 - root_mean_squared_error: 278.0607 - val_loss: 173171.7031 - val_root_mean_squared_error: 416.1390 - lr: 1.0667e-06\n",
            "Epoch 18/200\n",
            "5/5 [==============================] - 0s 41ms/step - loss: 77306.7031 - root_mean_squared_error: 278.0408 - val_loss: 173148.7500 - val_root_mean_squared_error: 416.1115 - lr: 1.1333e-06\n",
            "Epoch 19/200\n",
            "5/5 [==============================] - 0s 39ms/step - loss: 77294.2500 - root_mean_squared_error: 278.0184 - val_loss: 173124.1562 - val_root_mean_squared_error: 416.0819 - lr: 1.2000e-06\n",
            "Epoch 20/200\n",
            "5/5 [==============================] - 0s 43ms/step - loss: 77281.1406 - root_mean_squared_error: 277.9948 - val_loss: 173096.7969 - val_root_mean_squared_error: 416.0490 - lr: 1.2667e-06\n",
            "Epoch 21/200\n",
            "5/5 [==============================] - 0s 41ms/step - loss: 77266.8672 - root_mean_squared_error: 277.9692 - val_loss: 173066.8906 - val_root_mean_squared_error: 416.0131 - lr: 1.3333e-06\n",
            "Epoch 22/200\n",
            "5/5 [==============================] - 0s 41ms/step - loss: 77251.0938 - root_mean_squared_error: 277.9408 - val_loss: 173034.1406 - val_root_mean_squared_error: 415.9737 - lr: 1.4000e-06\n",
            "Epoch 23/200\n",
            "5/5 [==============================] - 0s 42ms/step - loss: 77233.0703 - root_mean_squared_error: 277.9084 - val_loss: 172997.1875 - val_root_mean_squared_error: 415.9293 - lr: 1.4667e-06\n",
            "Epoch 24/200\n",
            "5/5 [==============================] - 0s 40ms/step - loss: 77211.3984 - root_mean_squared_error: 277.8694 - val_loss: 172952.5938 - val_root_mean_squared_error: 415.8757 - lr: 1.5333e-06\n",
            "Epoch 25/200\n",
            "5/5 [==============================] - 0s 40ms/step - loss: 77185.0078 - root_mean_squared_error: 277.8219 - val_loss: 172897.6719 - val_root_mean_squared_error: 415.8097 - lr: 1.6000e-06\n",
            "Epoch 26/200\n",
            "5/5 [==============================] - 0s 40ms/step - loss: 77151.2891 - root_mean_squared_error: 277.7612 - val_loss: 172831.9062 - val_root_mean_squared_error: 415.7306 - lr: 1.6667e-06\n",
            "Epoch 27/200\n",
            "5/5 [==============================] - 0s 40ms/step - loss: 77112.4766 - root_mean_squared_error: 277.6913 - val_loss: 172745.8125 - val_root_mean_squared_error: 415.6270 - lr: 1.7333e-06\n",
            "Epoch 28/200\n",
            "5/5 [==============================] - 0s 43ms/step - loss: 77069.3984 - root_mean_squared_error: 277.6137 - val_loss: 172637.3906 - val_root_mean_squared_error: 415.4966 - lr: 1.8000e-06\n",
            "Epoch 29/200\n",
            "5/5 [==============================] - 0s 41ms/step - loss: 77023.6016 - root_mean_squared_error: 277.5312 - val_loss: 172512.5625 - val_root_mean_squared_error: 415.3463 - lr: 1.8667e-06\n",
            "Epoch 30/200\n",
            "5/5 [==============================] - 0s 44ms/step - loss: 76977.3203 - root_mean_squared_error: 277.4479 - val_loss: 172378.5938 - val_root_mean_squared_error: 415.1850 - lr: 1.9333e-06\n",
            "Epoch 31/200\n",
            "5/5 [==============================] - 0s 43ms/step - loss: 76930.3203 - root_mean_squared_error: 277.3632 - val_loss: 172244.8281 - val_root_mean_squared_error: 415.0239 - lr: 2.0000e-06\n",
            "Epoch 32/200\n",
            "5/5 [==============================] - 0s 38ms/step - loss: 76883.6172 - root_mean_squared_error: 277.2790 - val_loss: 172114.9688 - val_root_mean_squared_error: 414.8674 - lr: 2.0667e-06\n",
            "Epoch 33/200\n",
            "5/5 [==============================] - 0s 42ms/step - loss: 76836.6875 - root_mean_squared_error: 277.1943 - val_loss: 171990.4219 - val_root_mean_squared_error: 414.7173 - lr: 2.1333e-06\n",
            "Epoch 34/200\n",
            "5/5 [==============================] - 0s 41ms/step - loss: 76790.2969 - root_mean_squared_error: 277.1106 - val_loss: 171869.5312 - val_root_mean_squared_error: 414.5715 - lr: 2.2000e-06\n",
            "Epoch 35/200\n",
            "5/5 [==============================] - 0s 42ms/step - loss: 76742.9453 - root_mean_squared_error: 277.0252 - val_loss: 171748.0938 - val_root_mean_squared_error: 414.4250 - lr: 2.2667e-06\n",
            "Epoch 36/200\n",
            "5/5 [==============================] - 0s 41ms/step - loss: 76695.4922 - root_mean_squared_error: 276.9395 - val_loss: 171626.0312 - val_root_mean_squared_error: 414.2777 - lr: 2.3333e-06\n",
            "Epoch 37/200\n",
            "5/5 [==============================] - 0s 41ms/step - loss: 76645.6250 - root_mean_squared_error: 276.8495 - val_loss: 171506.9219 - val_root_mean_squared_error: 414.1340 - lr: 2.4000e-06\n",
            "Epoch 38/200\n",
            "5/5 [==============================] - 0s 41ms/step - loss: 76596.8594 - root_mean_squared_error: 276.7614 - val_loss: 171386.2812 - val_root_mean_squared_error: 413.9883 - lr: 2.4667e-06\n",
            "Epoch 39/200\n",
            "5/5 [==============================] - 0s 41ms/step - loss: 76546.6875 - root_mean_squared_error: 276.6707 - val_loss: 171263.5625 - val_root_mean_squared_error: 413.8400 - lr: 2.5333e-06\n",
            "Epoch 40/200\n",
            "5/5 [==============================] - 0s 43ms/step - loss: 76494.6328 - root_mean_squared_error: 276.5766 - val_loss: 171138.5625 - val_root_mean_squared_error: 413.6890 - lr: 2.6000e-06\n",
            "Epoch 41/200\n",
            "5/5 [==============================] - 0s 40ms/step - loss: 76441.9297 - root_mean_squared_error: 276.4814 - val_loss: 171009.2812 - val_root_mean_squared_error: 413.5327 - lr: 2.6667e-06\n",
            "Epoch 42/200\n",
            "5/5 [==============================] - 0s 42ms/step - loss: 76387.3828 - root_mean_squared_error: 276.3827 - val_loss: 170878.0312 - val_root_mean_squared_error: 413.3740 - lr: 2.7333e-06\n",
            "Epoch 43/200\n",
            "5/5 [==============================] - 0s 43ms/step - loss: 76332.1328 - root_mean_squared_error: 276.2827 - val_loss: 170745.7188 - val_root_mean_squared_error: 413.2139 - lr: 2.8000e-06\n",
            "Epoch 44/200\n",
            "5/5 [==============================] - 0s 40ms/step - loss: 76276.3125 - root_mean_squared_error: 276.1817 - val_loss: 170611.5469 - val_root_mean_squared_error: 413.0515 - lr: 2.8667e-06\n",
            "Epoch 45/200\n",
            "5/5 [==============================] - 0s 46ms/step - loss: 76219.8828 - root_mean_squared_error: 276.0795 - val_loss: 170474.8438 - val_root_mean_squared_error: 412.8860 - lr: 2.9333e-06\n",
            "Epoch 46/200\n",
            "5/5 [==============================] - 0s 40ms/step - loss: 76162.0703 - root_mean_squared_error: 275.9748 - val_loss: 170338.5781 - val_root_mean_squared_error: 412.7209 - lr: 3.0000e-06\n",
            "Epoch 47/200\n",
            "5/5 [==============================] - 0s 41ms/step - loss: 76103.7422 - root_mean_squared_error: 275.8691 - val_loss: 170199.6250 - val_root_mean_squared_error: 412.5526 - lr: 3.0667e-06\n",
            "Epoch 48/200\n",
            "5/5 [==============================] - 0s 40ms/step - loss: 76043.7656 - root_mean_squared_error: 275.7603 - val_loss: 170054.7188 - val_root_mean_squared_error: 412.3769 - lr: 3.1333e-06\n",
            "Epoch 49/200\n",
            "5/5 [==============================] - 0s 41ms/step - loss: 75982.9922 - root_mean_squared_error: 275.6501 - val_loss: 169903.8125 - val_root_mean_squared_error: 412.1939 - lr: 3.2000e-06\n",
            "Epoch 50/200\n",
            "5/5 [==============================] - 0s 44ms/step - loss: 75920.2656 - root_mean_squared_error: 275.5363 - val_loss: 169747.0469 - val_root_mean_squared_error: 412.0037 - lr: 3.2667e-06\n",
            "Epoch 51/200\n",
            "5/5 [==============================] - 0s 41ms/step - loss: 75854.6875 - root_mean_squared_error: 275.4173 - val_loss: 169586.5000 - val_root_mean_squared_error: 411.8088 - lr: 3.3333e-06\n",
            "Epoch 52/200\n",
            "5/5 [==============================] - 0s 42ms/step - loss: 75787.1719 - root_mean_squared_error: 275.2947 - val_loss: 169415.3125 - val_root_mean_squared_error: 411.6009 - lr: 3.4000e-06\n",
            "Epoch 53/200\n",
            "5/5 [==============================] - 0s 41ms/step - loss: 75718.0391 - root_mean_squared_error: 275.1691 - val_loss: 169233.1875 - val_root_mean_squared_error: 411.3796 - lr: 3.4667e-06\n",
            "Epoch 54/200\n",
            "5/5 [==============================] - 0s 41ms/step - loss: 75644.7812 - root_mean_squared_error: 275.0359 - val_loss: 169046.0312 - val_root_mean_squared_error: 411.1521 - lr: 3.5333e-06\n",
            "Epoch 55/200\n",
            "5/5 [==============================] - 0s 43ms/step - loss: 75571.2344 - root_mean_squared_error: 274.9022 - val_loss: 168850.6406 - val_root_mean_squared_error: 410.9144 - lr: 3.6000e-06\n",
            "Epoch 56/200\n",
            "5/5 [==============================] - 0s 43ms/step - loss: 75491.7188 - root_mean_squared_error: 274.7576 - val_loss: 168649.1406 - val_root_mean_squared_error: 410.6691 - lr: 3.6667e-06\n",
            "Epoch 57/200\n",
            "5/5 [==============================] - 0s 41ms/step - loss: 75410.5156 - root_mean_squared_error: 274.6097 - val_loss: 168433.5938 - val_root_mean_squared_error: 410.4066 - lr: 3.7333e-06\n",
            "Epoch 58/200\n",
            "5/5 [==============================] - 0s 43ms/step - loss: 75321.8516 - root_mean_squared_error: 274.4483 - val_loss: 168209.0781 - val_root_mean_squared_error: 410.1330 - lr: 3.8000e-06\n",
            "Epoch 59/200\n",
            "5/5 [==============================] - 0s 42ms/step - loss: 75229.7500 - root_mean_squared_error: 274.2804 - val_loss: 167977.4219 - val_root_mean_squared_error: 409.8505 - lr: 3.8667e-06\n",
            "Epoch 60/200\n",
            "5/5 [==============================] - 0s 44ms/step - loss: 75134.1250 - root_mean_squared_error: 274.1060 - val_loss: 167753.8750 - val_root_mean_squared_error: 409.5777 - lr: 3.9333e-06\n",
            "Epoch 61/200\n",
            "5/5 [==============================] - 0s 40ms/step - loss: 75035.4766 - root_mean_squared_error: 273.9261 - val_loss: 167535.9688 - val_root_mean_squared_error: 409.3116 - lr: 4.0000e-06\n",
            "Epoch 62/200\n",
            "5/5 [==============================] - 0s 41ms/step - loss: 74930.8281 - root_mean_squared_error: 273.7350 - val_loss: 167334.1875 - val_root_mean_squared_error: 409.0650 - lr: 4.0667e-06\n",
            "Epoch 63/200\n",
            "5/5 [==============================] - 0s 40ms/step - loss: 74825.6641 - root_mean_squared_error: 273.5428 - val_loss: 167139.1875 - val_root_mean_squared_error: 408.8266 - lr: 4.1333e-06\n",
            "Epoch 64/200\n",
            "5/5 [==============================] - 0s 41ms/step - loss: 74712.3906 - root_mean_squared_error: 273.3357 - val_loss: 166945.3281 - val_root_mean_squared_error: 408.5894 - lr: 4.2000e-06\n",
            "Epoch 65/200\n",
            "5/5 [==============================] - 0s 40ms/step - loss: 74595.5000 - root_mean_squared_error: 273.1218 - val_loss: 166743.0625 - val_root_mean_squared_error: 408.3419 - lr: 4.2667e-06\n",
            "Epoch 66/200\n",
            "5/5 [==============================] - 0s 42ms/step - loss: 74471.7812 - root_mean_squared_error: 272.8952 - val_loss: 166524.7656 - val_root_mean_squared_error: 408.0745 - lr: 4.3333e-06\n",
            "Epoch 67/200\n",
            "5/5 [==============================] - 0s 39ms/step - loss: 74348.7344 - root_mean_squared_error: 272.6696 - val_loss: 166282.0469 - val_root_mean_squared_error: 407.7770 - lr: 4.4000e-06\n",
            "Epoch 68/200\n",
            "5/5 [==============================] - 0s 42ms/step - loss: 74224.1094 - root_mean_squared_error: 272.4410 - val_loss: 166013.7031 - val_root_mean_squared_error: 407.4478 - lr: 4.4667e-06\n",
            "Epoch 69/200\n",
            "5/5 [==============================] - 0s 41ms/step - loss: 74099.9062 - root_mean_squared_error: 272.2130 - val_loss: 165707.7031 - val_root_mean_squared_error: 407.0721 - lr: 4.5333e-06\n",
            "Epoch 70/200\n",
            "5/5 [==============================] - 0s 42ms/step - loss: 73968.7500 - root_mean_squared_error: 271.9720 - val_loss: 165386.8594 - val_root_mean_squared_error: 406.6778 - lr: 4.6000e-06\n",
            "Epoch 71/200\n",
            "5/5 [==============================] - 0s 40ms/step - loss: 73841.3828 - root_mean_squared_error: 271.7377 - val_loss: 165073.0625 - val_root_mean_squared_error: 406.2919 - lr: 4.6667e-06\n",
            "Epoch 72/200\n",
            "5/5 [==============================] - 0s 41ms/step - loss: 73713.1797 - root_mean_squared_error: 271.5017 - val_loss: 164790.0312 - val_root_mean_squared_error: 405.9434 - lr: 4.7333e-06\n",
            "Epoch 73/200\n",
            "5/5 [==============================] - 0s 41ms/step - loss: 73583.2031 - root_mean_squared_error: 271.2622 - val_loss: 164511.3438 - val_root_mean_squared_error: 405.6000 - lr: 4.8000e-06\n",
            "Epoch 74/200\n",
            "5/5 [==============================] - 0s 42ms/step - loss: 73454.5000 - root_mean_squared_error: 271.0249 - val_loss: 164204.1406 - val_root_mean_squared_error: 405.2211 - lr: 4.8667e-06\n",
            "Epoch 75/200\n",
            "5/5 [==============================] - 0s 44ms/step - loss: 73322.9297 - root_mean_squared_error: 270.7820 - val_loss: 163867.8594 - val_root_mean_squared_error: 404.8059 - lr: 4.9333e-06\n",
            "Epoch 76/200\n",
            "5/5 [==============================] - 0s 41ms/step - loss: 73185.7578 - root_mean_squared_error: 270.5287 - val_loss: 163529.3594 - val_root_mean_squared_error: 404.3876 - lr: 5.0000e-06\n",
            "Epoch 77/200\n",
            "5/5 [==============================] - 0s 42ms/step - loss: 73044.2109 - root_mean_squared_error: 270.2669 - val_loss: 163178.6406 - val_root_mean_squared_error: 403.9538 - lr: 5.0667e-06\n",
            "Epoch 78/200\n",
            "5/5 [==============================] - 0s 42ms/step - loss: 72897.9062 - root_mean_squared_error: 269.9961 - val_loss: 162800.1094 - val_root_mean_squared_error: 403.4850 - lr: 5.1333e-06\n",
            "Epoch 79/200\n",
            "5/5 [==============================] - 0s 41ms/step - loss: 72743.7422 - root_mean_squared_error: 269.7104 - val_loss: 162404.9688 - val_root_mean_squared_error: 402.9950 - lr: 5.2000e-06\n",
            "Epoch 80/200\n",
            "5/5 [==============================] - 0s 43ms/step - loss: 72585.7422 - root_mean_squared_error: 269.4174 - val_loss: 161998.0625 - val_root_mean_squared_error: 402.4898 - lr: 5.2667e-06\n",
            "Epoch 81/200\n",
            "5/5 [==============================] - 0s 42ms/step - loss: 72415.5312 - root_mean_squared_error: 269.1013 - val_loss: 161574.1562 - val_root_mean_squared_error: 401.9629 - lr: 5.3333e-06\n",
            "Epoch 82/200\n",
            "5/5 [==============================] - 0s 40ms/step - loss: 72237.9688 - root_mean_squared_error: 268.7712 - val_loss: 161124.2344 - val_root_mean_squared_error: 401.4028 - lr: 5.4000e-06\n",
            "Epoch 83/200\n",
            "5/5 [==============================] - 0s 40ms/step - loss: 72046.9062 - root_mean_squared_error: 268.4155 - val_loss: 160661.1250 - val_root_mean_squared_error: 400.8255 - lr: 5.4667e-06\n",
            "Epoch 84/200\n",
            "5/5 [==============================] - 0s 40ms/step - loss: 71843.0703 - root_mean_squared_error: 268.0356 - val_loss: 160172.8281 - val_root_mean_squared_error: 400.2160 - lr: 5.5333e-06\n",
            "Epoch 85/200\n",
            "5/5 [==============================] - 0s 46ms/step - loss: 71618.1172 - root_mean_squared_error: 267.6156 - val_loss: 159663.2969 - val_root_mean_squared_error: 399.5789 - lr: 5.6000e-06\n",
            "Epoch 86/200\n",
            "5/5 [==============================] - 0s 41ms/step - loss: 71382.9219 - root_mean_squared_error: 267.1758 - val_loss: 159119.9062 - val_root_mean_squared_error: 398.8984 - lr: 5.6667e-06\n",
            "Epoch 87/200\n",
            "5/5 [==============================] - 0s 42ms/step - loss: 71129.4531 - root_mean_squared_error: 266.7010 - val_loss: 158542.6094 - val_root_mean_squared_error: 398.1741 - lr: 5.7333e-06\n",
            "Epoch 88/200\n",
            "5/5 [==============================] - 0s 41ms/step - loss: 70864.1875 - root_mean_squared_error: 266.2033 - val_loss: 157920.3438 - val_root_mean_squared_error: 397.3919 - lr: 5.8000e-06\n",
            "Epoch 89/200\n",
            "5/5 [==============================] - 0s 43ms/step - loss: 70578.9219 - root_mean_squared_error: 265.6669 - val_loss: 157259.5781 - val_root_mean_squared_error: 396.5597 - lr: 5.8667e-06\n",
            "Epoch 90/200\n",
            "5/5 [==============================] - 0s 47ms/step - loss: 70280.0781 - root_mean_squared_error: 265.1039 - val_loss: 156535.0469 - val_root_mean_squared_error: 395.6451 - lr: 5.9333e-06\n",
            "Epoch 91/200\n",
            "5/5 [==============================] - 0s 44ms/step - loss: 69955.1094 - root_mean_squared_error: 264.4903 - val_loss: 155776.7344 - val_root_mean_squared_error: 394.6856 - lr: 6.0000e-06\n",
            "Epoch 92/200\n",
            "5/5 [==============================] - 0s 42ms/step - loss: 69621.2031 - root_mean_squared_error: 263.8583 - val_loss: 154971.9375 - val_root_mean_squared_error: 393.6647 - lr: 6.0667e-06\n",
            "Epoch 93/200\n",
            "5/5 [==============================] - 0s 42ms/step - loss: 69262.7656 - root_mean_squared_error: 263.1782 - val_loss: 154117.3594 - val_root_mean_squared_error: 392.5779 - lr: 6.1333e-06\n",
            "Epoch 94/200\n",
            "5/5 [==============================] - 0s 41ms/step - loss: 68885.9688 - root_mean_squared_error: 262.4614 - val_loss: 153198.4844 - val_root_mean_squared_error: 391.4058 - lr: 6.2000e-06\n",
            "Epoch 95/200\n",
            "5/5 [==============================] - 0s 42ms/step - loss: 68494.4766 - root_mean_squared_error: 261.7145 - val_loss: 152221.5781 - val_root_mean_squared_error: 390.1558 - lr: 6.2667e-06\n",
            "Epoch 96/200\n",
            "5/5 [==============================] - 0s 42ms/step - loss: 68081.3984 - root_mean_squared_error: 260.9241 - val_loss: 151228.7656 - val_root_mean_squared_error: 388.8814 - lr: 6.3333e-06\n",
            "Epoch 97/200\n",
            "5/5 [==============================] - 0s 43ms/step - loss: 67647.5391 - root_mean_squared_error: 260.0914 - val_loss: 150245.4844 - val_root_mean_squared_error: 387.6151 - lr: 6.4000e-06\n",
            "Epoch 98/200\n",
            "5/5 [==============================] - 0s 42ms/step - loss: 67196.9922 - root_mean_squared_error: 259.2238 - val_loss: 149222.8438 - val_root_mean_squared_error: 386.2937 - lr: 6.4667e-06\n",
            "Epoch 99/200\n",
            "5/5 [==============================] - 0s 43ms/step - loss: 66720.1641 - root_mean_squared_error: 258.3025 - val_loss: 148101.1719 - val_root_mean_squared_error: 384.8392 - lr: 6.5333e-06\n",
            "Epoch 100/200\n",
            "5/5 [==============================] - 0s 44ms/step - loss: 66206.8750 - root_mean_squared_error: 257.3070 - val_loss: 146847.1094 - val_root_mean_squared_error: 383.2064 - lr: 6.6000e-06\n",
            "Epoch 101/200\n",
            "5/5 [==============================] - 0s 42ms/step - loss: 65650.5234 - root_mean_squared_error: 256.2236 - val_loss: 145466.3750 - val_root_mean_squared_error: 381.4005 - lr: 6.6667e-06\n",
            "Epoch 102/200\n",
            "5/5 [==============================] - 0s 42ms/step - loss: 65049.1719 - root_mean_squared_error: 255.0474 - val_loss: 144032.7656 - val_root_mean_squared_error: 379.5165 - lr: 6.7333e-06\n",
            "Epoch 103/200\n",
            "5/5 [==============================] - 0s 43ms/step - loss: 64398.0234 - root_mean_squared_error: 253.7677 - val_loss: 142502.0312 - val_root_mean_squared_error: 377.4944 - lr: 6.8000e-06\n",
            "Epoch 104/200\n",
            "5/5 [==============================] - 0s 46ms/step - loss: 63709.8086 - root_mean_squared_error: 252.4080 - val_loss: 140838.1875 - val_root_mean_squared_error: 375.2841 - lr: 6.8667e-06\n",
            "Epoch 105/200\n",
            "5/5 [==============================] - 0s 41ms/step - loss: 62984.0742 - root_mean_squared_error: 250.9663 - val_loss: 139236.0625 - val_root_mean_squared_error: 373.1435 - lr: 6.9333e-06\n",
            "Epoch 106/200\n",
            "5/5 [==============================] - 0s 42ms/step - loss: 62223.2461 - root_mean_squared_error: 249.4459 - val_loss: 137605.8125 - val_root_mean_squared_error: 370.9525 - lr: 7.0000e-06\n",
            "Epoch 107/200\n",
            "5/5 [==============================] - 0s 43ms/step - loss: 61464.9766 - root_mean_squared_error: 247.9213 - val_loss: 135838.0000 - val_root_mean_squared_error: 368.5621 - lr: 7.0667e-06\n",
            "Epoch 108/200\n",
            "5/5 [==============================] - 0s 43ms/step - loss: 60664.2695 - root_mean_squared_error: 246.3012 - val_loss: 133969.6562 - val_root_mean_squared_error: 366.0186 - lr: 7.1333e-06\n",
            "Epoch 109/200\n",
            "5/5 [==============================] - 0s 44ms/step - loss: 59810.9492 - root_mean_squared_error: 244.5628 - val_loss: 131926.6406 - val_root_mean_squared_error: 363.2171 - lr: 7.2000e-06\n",
            "Epoch 110/200\n",
            "5/5 [==============================] - 0s 42ms/step - loss: 58929.8203 - root_mean_squared_error: 242.7547 - val_loss: 129780.4844 - val_root_mean_squared_error: 360.2506 - lr: 7.2667e-06\n",
            "Epoch 111/200\n",
            "5/5 [==============================] - 0s 42ms/step - loss: 58061.4805 - root_mean_squared_error: 240.9595 - val_loss: 127753.7344 - val_root_mean_squared_error: 357.4265 - lr: 7.3333e-06\n",
            "Epoch 112/200\n",
            "5/5 [==============================] - 0s 41ms/step - loss: 57194.6328 - root_mean_squared_error: 239.1540 - val_loss: 125685.6562 - val_root_mean_squared_error: 354.5217 - lr: 7.4000e-06\n",
            "Epoch 113/200\n",
            "5/5 [==============================] - 0s 43ms/step - loss: 56273.2891 - root_mean_squared_error: 237.2199 - val_loss: 123589.3906 - val_root_mean_squared_error: 351.5528 - lr: 7.4667e-06\n",
            "Epoch 114/200\n",
            "5/5 [==============================] - 0s 43ms/step - loss: 55341.9570 - root_mean_squared_error: 235.2487 - val_loss: 121478.7109 - val_root_mean_squared_error: 348.5380 - lr: 7.5333e-06\n",
            "Epoch 115/200\n",
            "5/5 [==============================] - 0s 41ms/step - loss: 54442.3398 - root_mean_squared_error: 233.3288 - val_loss: 119557.2188 - val_root_mean_squared_error: 345.7704 - lr: 7.6000e-06\n",
            "Epoch 116/200\n",
            "5/5 [==============================] - 0s 44ms/step - loss: 53576.9570 - root_mean_squared_error: 231.4670 - val_loss: 118001.0000 - val_root_mean_squared_error: 343.5128 - lr: 7.6667e-06\n",
            "Epoch 117/200\n",
            "5/5 [==============================] - 0s 42ms/step - loss: 52784.4102 - root_mean_squared_error: 229.7486 - val_loss: 116667.9375 - val_root_mean_squared_error: 341.5669 - lr: 7.7333e-06\n",
            "Epoch 118/200\n",
            "5/5 [==============================] - 0s 42ms/step - loss: 52125.1055 - root_mean_squared_error: 228.3092 - val_loss: 115428.7344 - val_root_mean_squared_error: 339.7480 - lr: 7.8000e-06\n",
            "Epoch 119/200\n",
            "5/5 [==============================] - 0s 45ms/step - loss: 51529.3398 - root_mean_squared_error: 227.0008 - val_loss: 114222.5938 - val_root_mean_squared_error: 337.9684 - lr: 7.8667e-06\n",
            "Epoch 120/200\n",
            "5/5 [==============================] - 0s 42ms/step - loss: 51000.6055 - root_mean_squared_error: 225.8331 - val_loss: 113232.9219 - val_root_mean_squared_error: 336.5010 - lr: 7.9333e-06\n",
            "Epoch 121/200\n",
            "5/5 [==============================] - 0s 40ms/step - loss: 50537.2188 - root_mean_squared_error: 224.8049 - val_loss: 112384.2500 - val_root_mean_squared_error: 335.2376 - lr: 8.0000e-06\n",
            "Epoch 122/200\n",
            "5/5 [==============================] - 0s 41ms/step - loss: 50110.0469 - root_mean_squared_error: 223.8527 - val_loss: 111632.7812 - val_root_mean_squared_error: 334.1149 - lr: 8.0667e-06\n",
            "Epoch 123/200\n",
            "5/5 [==============================] - 0s 41ms/step - loss: 49690.0391 - root_mean_squared_error: 222.9126 - val_loss: 110272.5703 - val_root_mean_squared_error: 332.0732 - lr: 8.1333e-06\n",
            "Epoch 124/200\n",
            "5/5 [==============================] - 0s 46ms/step - loss: 48426.9883 - root_mean_squared_error: 220.0613 - val_loss: 104787.6484 - val_root_mean_squared_error: 323.7092 - lr: 8.2000e-06\n",
            "Epoch 125/200\n",
            "5/5 [==============================] - 0s 41ms/step - loss: 45916.9648 - root_mean_squared_error: 214.2824 - val_loss: 99062.0469 - val_root_mean_squared_error: 314.7412 - lr: 8.2667e-06\n",
            "Epoch 126/200\n",
            "5/5 [==============================] - 0s 40ms/step - loss: 43467.6250 - root_mean_squared_error: 208.4889 - val_loss: 93679.6484 - val_root_mean_squared_error: 306.0713 - lr: 8.3333e-06\n",
            "Epoch 127/200\n",
            "5/5 [==============================] - 0s 42ms/step - loss: 41308.7461 - root_mean_squared_error: 203.2455 - val_loss: 88928.6797 - val_root_mean_squared_error: 298.2091 - lr: 8.4000e-06\n",
            "Epoch 128/200\n",
            "5/5 [==============================] - 0s 40ms/step - loss: 39399.2148 - root_mean_squared_error: 198.4924 - val_loss: 84941.7266 - val_root_mean_squared_error: 291.4476 - lr: 8.4667e-06\n",
            "Epoch 129/200\n",
            "5/5 [==============================] - 0s 44ms/step - loss: 37691.3125 - root_mean_squared_error: 194.1425 - val_loss: 81443.4453 - val_root_mean_squared_error: 285.3830 - lr: 8.5333e-06\n",
            "Epoch 130/200\n",
            "5/5 [==============================] - 0s 41ms/step - loss: 36242.9766 - root_mean_squared_error: 190.3759 - val_loss: 78635.2578 - val_root_mean_squared_error: 280.4198 - lr: 8.6000e-06\n",
            "Epoch 131/200\n",
            "5/5 [==============================] - 0s 39ms/step - loss: 34982.6680 - root_mean_squared_error: 187.0365 - val_loss: 76157.3438 - val_root_mean_squared_error: 275.9662 - lr: 8.6667e-06\n",
            "Epoch 132/200\n",
            "5/5 [==============================] - 0s 41ms/step - loss: 33900.7500 - root_mean_squared_error: 184.1216 - val_loss: 74097.5234 - val_root_mean_squared_error: 272.2086 - lr: 8.7333e-06\n",
            "Epoch 133/200\n",
            "5/5 [==============================] - 0s 41ms/step - loss: 32951.7812 - root_mean_squared_error: 181.5263 - val_loss: 70892.0234 - val_root_mean_squared_error: 266.2556 - lr: 8.8000e-06\n",
            "Epoch 134/200\n",
            "5/5 [==============================] - 0s 45ms/step - loss: 31168.5781 - root_mean_squared_error: 176.5462 - val_loss: 66679.7656 - val_root_mean_squared_error: 258.2243 - lr: 8.8667e-06\n",
            "Epoch 135/200\n",
            "5/5 [==============================] - 0s 42ms/step - loss: 28896.0176 - root_mean_squared_error: 169.9883 - val_loss: 61577.7422 - val_root_mean_squared_error: 248.1486 - lr: 8.9333e-06\n",
            "Epoch 136/200\n",
            "5/5 [==============================] - 0s 42ms/step - loss: 26721.6523 - root_mean_squared_error: 163.4676 - val_loss: 56619.9102 - val_root_mean_squared_error: 237.9494 - lr: 9.0000e-06\n",
            "Epoch 137/200\n",
            "5/5 [==============================] - 0s 42ms/step - loss: 24792.1953 - root_mean_squared_error: 157.4554 - val_loss: 52553.0938 - val_root_mean_squared_error: 229.2446 - lr: 9.0667e-06\n",
            "Epoch 138/200\n",
            "5/5 [==============================] - 0s 41ms/step - loss: 23066.9609 - root_mean_squared_error: 151.8781 - val_loss: 48793.6562 - val_root_mean_squared_error: 220.8929 - lr: 9.1333e-06\n",
            "Epoch 139/200\n",
            "5/5 [==============================] - 0s 47ms/step - loss: 21486.7109 - root_mean_squared_error: 146.5835 - val_loss: 45355.0742 - val_root_mean_squared_error: 212.9673 - lr: 9.2000e-06\n",
            "Epoch 140/200\n",
            "5/5 [==============================] - 0s 42ms/step - loss: 19790.5527 - root_mean_squared_error: 140.6789 - val_loss: 40682.9375 - val_root_mean_squared_error: 201.7001 - lr: 9.2667e-06\n",
            "Epoch 141/200\n",
            "5/5 [==============================] - 0s 44ms/step - loss: 17497.4941 - root_mean_squared_error: 132.2781 - val_loss: 34926.3086 - val_root_mean_squared_error: 186.8858 - lr: 9.3333e-06\n",
            "Epoch 142/200\n",
            "5/5 [==============================] - 0s 43ms/step - loss: 14966.4824 - root_mean_squared_error: 122.3376 - val_loss: 28838.2344 - val_root_mean_squared_error: 169.8182 - lr: 9.4000e-06\n",
            "Epoch 143/200\n",
            "5/5 [==============================] - 0s 42ms/step - loss: 12103.1104 - root_mean_squared_error: 110.0141 - val_loss: 22288.8398 - val_root_mean_squared_error: 149.2945 - lr: 9.4667e-06\n",
            "Epoch 144/200\n",
            "5/5 [==============================] - 0s 43ms/step - loss: 9777.4980 - root_mean_squared_error: 98.8812 - val_loss: 17700.1699 - val_root_mean_squared_error: 133.0420 - lr: 9.5333e-06\n",
            "Epoch 145/200\n",
            "5/5 [==============================] - 0s 41ms/step - loss: 7896.5869 - root_mean_squared_error: 88.8627 - val_loss: 13793.2344 - val_root_mean_squared_error: 117.4446 - lr: 9.6000e-06\n",
            "Epoch 146/200\n",
            "5/5 [==============================] - 0s 45ms/step - loss: 6078.0039 - root_mean_squared_error: 77.9616 - val_loss: 10507.6279 - val_root_mean_squared_error: 102.5067 - lr: 9.6667e-06\n",
            "Epoch 147/200\n",
            "5/5 [==============================] - 0s 45ms/step - loss: 4613.6621 - root_mean_squared_error: 67.9239 - val_loss: 7897.9365 - val_root_mean_squared_error: 88.8703 - lr: 9.7333e-06\n",
            "Epoch 148/200\n",
            "5/5 [==============================] - 0s 47ms/step - loss: 3481.7673 - root_mean_squared_error: 59.0065 - val_loss: 5864.9761 - val_root_mean_squared_error: 76.5831 - lr: 9.8000e-06\n",
            "Epoch 149/200\n",
            "5/5 [==============================] - 0s 43ms/step - loss: 2583.1885 - root_mean_squared_error: 50.8251 - val_loss: 4262.4219 - val_root_mean_squared_error: 65.2872 - lr: 9.8667e-06\n",
            "Epoch 150/200\n",
            "5/5 [==============================] - 0s 40ms/step - loss: 1861.4375 - root_mean_squared_error: 43.1444 - val_loss: 2947.3674 - val_root_mean_squared_error: 54.2897 - lr: 9.9333e-06\n",
            "Epoch 151/200\n",
            "5/5 [==============================] - 0s 45ms/step - loss: 1321.5132 - root_mean_squared_error: 36.3526 - val_loss: 2023.4037 - val_root_mean_squared_error: 44.9823 - lr: 1.0000e-05\n",
            "Epoch 152/200\n",
            "5/5 [==============================] - 0s 41ms/step - loss: 942.3893 - root_mean_squared_error: 30.6984 - val_loss: 1421.2306 - val_root_mean_squared_error: 37.6992 - lr: 9.9005e-06\n",
            "Epoch 153/200\n",
            "5/5 [==============================] - 0s 45ms/step - loss: 685.9350 - root_mean_squared_error: 26.1904 - val_loss: 1092.6344 - val_root_mean_squared_error: 33.0550 - lr: 9.8020e-06\n",
            "Epoch 154/200\n",
            "5/5 [==============================] - 0s 41ms/step - loss: 534.3472 - root_mean_squared_error: 23.1160 - val_loss: 923.3806 - val_root_mean_squared_error: 30.3872 - lr: 9.7045e-06\n",
            "Epoch 155/200\n",
            "5/5 [==============================] - 0s 43ms/step - loss: 441.0582 - root_mean_squared_error: 21.0014 - val_loss: 792.3051 - val_root_mean_squared_error: 28.1479 - lr: 9.6079e-06\n",
            "Epoch 156/200\n",
            "5/5 [==============================] - 0s 44ms/step - loss: 380.1169 - root_mean_squared_error: 19.4966 - val_loss: 691.8223 - val_root_mean_squared_error: 26.3025 - lr: 9.5123e-06\n",
            "Epoch 157/200\n",
            "5/5 [==============================] - 0s 42ms/step - loss: 338.2425 - root_mean_squared_error: 18.3914 - val_loss: 638.5791 - val_root_mean_squared_error: 25.2701 - lr: 9.4176e-06\n",
            "Epoch 158/200\n",
            "5/5 [==============================] - 0s 44ms/step - loss: 308.9797 - root_mean_squared_error: 17.5778 - val_loss: 607.9598 - val_root_mean_squared_error: 24.6568 - lr: 9.3239e-06\n",
            "Epoch 159/200\n",
            "5/5 [==============================] - 0s 43ms/step - loss: 291.2120 - root_mean_squared_error: 17.0649 - val_loss: 595.8279 - val_root_mean_squared_error: 24.4096 - lr: 9.2312e-06\n",
            "Epoch 160/200\n",
            "5/5 [==============================] - 0s 43ms/step - loss: 279.1610 - root_mean_squared_error: 16.7081 - val_loss: 580.8036 - val_root_mean_squared_error: 24.0999 - lr: 9.1393e-06\n",
            "Epoch 161/200\n",
            "5/5 [==============================] - 0s 42ms/step - loss: 271.4373 - root_mean_squared_error: 16.4754 - val_loss: 575.6191 - val_root_mean_squared_error: 23.9921 - lr: 9.0484e-06\n",
            "Epoch 162/200\n",
            "5/5 [==============================] - 0s 42ms/step - loss: 264.8379 - root_mean_squared_error: 16.2738 - val_loss: 594.7290 - val_root_mean_squared_error: 24.3871 - lr: 8.9583e-06\n",
            "Epoch 163/200\n",
            "5/5 [==============================] - 0s 45ms/step - loss: 262.8903 - root_mean_squared_error: 16.2139 - val_loss: 610.6389 - val_root_mean_squared_error: 24.7111 - lr: 8.8692e-06\n",
            "Epoch 164/200\n",
            "5/5 [==============================] - 0s 43ms/step - loss: 260.6653 - root_mean_squared_error: 16.1451 - val_loss: 607.2944 - val_root_mean_squared_error: 24.6433 - lr: 8.7810e-06\n",
            "Epoch 165/200\n",
            "5/5 [==============================] - 0s 41ms/step - loss: 257.7589 - root_mean_squared_error: 16.0549 - val_loss: 585.6041 - val_root_mean_squared_error: 24.1993 - lr: 8.6936e-06\n",
            "Epoch 166/200\n",
            "5/5 [==============================] - 0s 43ms/step - loss: 255.3109 - root_mean_squared_error: 15.9785 - val_loss: 550.1829 - val_root_mean_squared_error: 23.4560 - lr: 8.6071e-06\n",
            "Epoch 167/200\n",
            "5/5 [==============================] - 0s 44ms/step - loss: 253.5148 - root_mean_squared_error: 15.9221 - val_loss: 537.1246 - val_root_mean_squared_error: 23.1760 - lr: 8.5214e-06\n",
            "Epoch 168/200\n",
            "5/5 [==============================] - 0s 41ms/step - loss: 251.7554 - root_mean_squared_error: 15.8668 - val_loss: 529.7512 - val_root_mean_squared_error: 23.0163 - lr: 8.4366e-06\n",
            "Epoch 169/200\n",
            "5/5 [==============================] - 0s 42ms/step - loss: 249.3501 - root_mean_squared_error: 15.7908 - val_loss: 530.1852 - val_root_mean_squared_error: 23.0258 - lr: 8.3527e-06\n",
            "Epoch 170/200\n",
            "5/5 [==============================] - 0s 44ms/step - loss: 247.1133 - root_mean_squared_error: 15.7198 - val_loss: 537.1853 - val_root_mean_squared_error: 23.1773 - lr: 8.2696e-06\n",
            "Epoch 171/200\n",
            "5/5 [==============================] - 0s 42ms/step - loss: 246.0278 - root_mean_squared_error: 15.6853 - val_loss: 544.1829 - val_root_mean_squared_error: 23.3277 - lr: 8.1873e-06\n",
            "Epoch 172/200\n",
            "5/5 [==============================] - 0s 42ms/step - loss: 245.0186 - root_mean_squared_error: 15.6531 - val_loss: 542.7597 - val_root_mean_squared_error: 23.2972 - lr: 8.1058e-06\n",
            "Epoch 173/200\n",
            "5/5 [==============================] - 0s 43ms/step - loss: 242.2447 - root_mean_squared_error: 15.5642 - val_loss: 525.4517 - val_root_mean_squared_error: 22.9227 - lr: 8.0252e-06\n",
            "Epoch 174/200\n",
            "5/5 [==============================] - 0s 42ms/step - loss: 240.8877 - root_mean_squared_error: 15.5206 - val_loss: 509.9007 - val_root_mean_squared_error: 22.5810 - lr: 7.9453e-06\n",
            "Epoch 175/200\n",
            "5/5 [==============================] - 0s 41ms/step - loss: 240.2991 - root_mean_squared_error: 15.5016 - val_loss: 499.4401 - val_root_mean_squared_error: 22.3482 - lr: 7.8663e-06\n",
            "Epoch 176/200\n",
            "5/5 [==============================] - 0s 41ms/step - loss: 239.5894 - root_mean_squared_error: 15.4787 - val_loss: 496.2602 - val_root_mean_squared_error: 22.2769 - lr: 7.7880e-06\n",
            "Epoch 177/200\n",
            "5/5 [==============================] - 0s 44ms/step - loss: 238.2727 - root_mean_squared_error: 15.4361 - val_loss: 493.9456 - val_root_mean_squared_error: 22.2249 - lr: 7.7105e-06\n",
            "Epoch 178/200\n",
            "5/5 [==============================] - 0s 50ms/step - loss: 237.2173 - root_mean_squared_error: 15.4019 - val_loss: 493.2938 - val_root_mean_squared_error: 22.2102 - lr: 7.6338e-06\n",
            "Epoch 179/200\n",
            "5/5 [==============================] - 0s 43ms/step - loss: 236.2291 - root_mean_squared_error: 15.3697 - val_loss: 497.6205 - val_root_mean_squared_error: 22.3074 - lr: 7.5578e-06\n",
            "Epoch 180/200\n",
            "5/5 [==============================] - 0s 42ms/step - loss: 234.7182 - root_mean_squared_error: 15.3205 - val_loss: 495.4680 - val_root_mean_squared_error: 22.2591 - lr: 7.4826e-06\n",
            "Epoch 181/200\n",
            "5/5 [==============================] - 0s 44ms/step - loss: 233.8566 - root_mean_squared_error: 15.2924 - val_loss: 493.7684 - val_root_mean_squared_error: 22.2209 - lr: 7.4082e-06\n",
            "Epoch 182/200\n",
            "5/5 [==============================] - 0s 44ms/step - loss: 233.6730 - root_mean_squared_error: 15.2864 - val_loss: 500.4721 - val_root_mean_squared_error: 22.3712 - lr: 7.3345e-06\n",
            "Epoch 183/200\n",
            "5/5 [==============================] - 0s 42ms/step - loss: 231.1811 - root_mean_squared_error: 15.2046 - val_loss: 500.7128 - val_root_mean_squared_error: 22.3766 - lr: 7.2615e-06\n",
            "Epoch 184/200\n",
            "5/5 [==============================] - 0s 41ms/step - loss: 230.3825 - root_mean_squared_error: 15.1784 - val_loss: 502.5490 - val_root_mean_squared_error: 22.4176 - lr: 7.1892e-06\n",
            "Epoch 185/200\n",
            "5/5 [==============================] - 0s 42ms/step - loss: 228.8848 - root_mean_squared_error: 15.1289 - val_loss: 492.5165 - val_root_mean_squared_error: 22.1927 - lr: 7.1177e-06\n",
            "Epoch 186/200\n",
            "5/5 [==============================] - 0s 39ms/step - loss: 226.9623 - root_mean_squared_error: 15.0653 - val_loss: 474.4223 - val_root_mean_squared_error: 21.7812 - lr: 7.0469e-06\n",
            "Epoch 187/200\n",
            "5/5 [==============================] - 0s 56ms/step - loss: 226.4851 - root_mean_squared_error: 15.0494 - val_loss: 462.3989 - val_root_mean_squared_error: 21.5035 - lr: 6.9768e-06\n",
            "Epoch 188/200\n",
            "5/5 [==============================] - 0s 43ms/step - loss: 225.3851 - root_mean_squared_error: 15.0128 - val_loss: 459.9611 - val_root_mean_squared_error: 21.4467 - lr: 6.9073e-06\n",
            "Epoch 189/200\n",
            "5/5 [==============================] - 0s 41ms/step - loss: 222.9073 - root_mean_squared_error: 14.9301 - val_loss: 460.8146 - val_root_mean_squared_error: 21.4666 - lr: 6.8386e-06\n",
            "Epoch 190/200\n",
            "5/5 [==============================] - 0s 42ms/step - loss: 222.4900 - root_mean_squared_error: 14.9161 - val_loss: 464.1045 - val_root_mean_squared_error: 21.5431 - lr: 6.7706e-06\n",
            "Epoch 191/200\n",
            "5/5 [==============================] - 0s 42ms/step - loss: 220.7686 - root_mean_squared_error: 14.8583 - val_loss: 457.4822 - val_root_mean_squared_error: 21.3888 - lr: 6.7032e-06\n",
            "Epoch 192/200\n",
            "5/5 [==============================] - 0s 44ms/step - loss: 220.0751 - root_mean_squared_error: 14.8349 - val_loss: 452.0623 - val_root_mean_squared_error: 21.2618 - lr: 6.6365e-06\n",
            "Epoch 193/200\n",
            "5/5 [==============================] - 0s 45ms/step - loss: 218.6506 - root_mean_squared_error: 14.7868 - val_loss: 453.4974 - val_root_mean_squared_error: 21.2955 - lr: 6.5705e-06\n",
            "Epoch 194/200\n",
            "5/5 [==============================] - 0s 41ms/step - loss: 217.5457 - root_mean_squared_error: 14.7494 - val_loss: 449.4191 - val_root_mean_squared_error: 21.1995 - lr: 6.5051e-06\n",
            "Epoch 195/200\n",
            "5/5 [==============================] - 0s 41ms/step - loss: 216.4852 - root_mean_squared_error: 14.7134 - val_loss: 447.4394 - val_root_mean_squared_error: 21.1528 - lr: 6.4404e-06\n",
            "Epoch 196/200\n",
            "5/5 [==============================] - 0s 41ms/step - loss: 215.5012 - root_mean_squared_error: 14.6800 - val_loss: 444.0979 - val_root_mean_squared_error: 21.0736 - lr: 6.3763e-06\n",
            "Epoch 197/200\n",
            "5/5 [==============================] - 0s 41ms/step - loss: 215.6990 - root_mean_squared_error: 14.6867 - val_loss: 435.7369 - val_root_mean_squared_error: 20.8743 - lr: 6.3128e-06\n",
            "Epoch 198/200\n",
            "5/5 [==============================] - 0s 43ms/step - loss: 214.2424 - root_mean_squared_error: 14.6370 - val_loss: 430.6118 - val_root_mean_squared_error: 20.7512 - lr: 6.2500e-06\n",
            "Epoch 199/200\n",
            "5/5 [==============================] - 0s 42ms/step - loss: 213.1266 - root_mean_squared_error: 14.5989 - val_loss: 426.7995 - val_root_mean_squared_error: 20.6591 - lr: 6.1878e-06\n",
            "Epoch 200/200\n",
            "5/5 [==============================] - 0s 43ms/step - loss: 212.1512 - root_mean_squared_error: 14.5654 - val_loss: 426.4435 - val_root_mean_squared_error: 20.6505 - lr: 6.1263e-06\n"
          ]
        }
      ]
    },
    {
      "cell_type": "code",
      "metadata": {
        "id": "GI_rlBQ4HBim"
      },
      "source": [
        "history_dict = SBI_hist.history\n",
        "\n",
        "loss = history_dict[\"loss\"]\n",
        "root_mean_squared_error = history_dict[\"root_mean_squared_error\"]\n",
        "val_loss = history_dict[\"val_loss\"]\n",
        "val_root_mean_squared_error = history_dict[\"val_root_mean_squared_error\"]\n",
        "\n",
        "epochs = range(1, len(loss) + 1)"
      ],
      "execution_count": null,
      "outputs": []
    },
    {
      "cell_type": "code",
      "metadata": {
        "colab": {
          "base_uri": "https://localhost:8080/",
          "height": 334
        },
        "id": "ExABS58lFHrS",
        "outputId": "8c8e8517-ef91-4eef-f265-fb1c3b71e324"
      },
      "source": [
        "fig, (ax1, ax2) = plt.subplots(1, 2)\n",
        "\n",
        "fig.set_figheight(5)\n",
        "fig.set_figwidth(15)\n",
        "\n",
        "ax1.plot(epochs, loss, label = 'Training Loss')\n",
        "ax1.plot(epochs, val_loss, label = 'Validation Loss')\n",
        "ax1.set(xlabel = \"Epochs\", ylabel = \"Loss\")\n",
        "ax1.legend()\n",
        "\n",
        "ax2.plot(epochs, root_mean_squared_error, label = \"Training Root Mean Squared Error\")\n",
        "ax2.plot(epochs, val_root_mean_squared_error, label = \"Validation Root Mean Squared Error\")\n",
        "ax2.set(xlabel = \"Epochs\", ylabel = \"Loss\")\n",
        "ax2.legend()\n",
        "\n",
        "plt.show()"
      ],
      "execution_count": null,
      "outputs": [
        {
          "output_type": "display_data",
          "data": {
            "text/plain": [
              "<Figure size 1080x360 with 2 Axes>"
            ],
            "image/png": "[encoded data removed]"
          },
          "metadata": {
            "needs_background": "light"
          }
        }
      ]
    },
    {
      "cell_type": "markdown",
      "metadata": {
        "id": "zrM4MV_A1Y26"
      },
      "source": [
        "### Predicting the closing stock price of SBI"
      ]
    },
    {
      "cell_type": "code",
      "metadata": {
        "id": "BlBhKm6dEye7"
      },
      "source": [
        "SBI_prediction = SBI_Model.predict(SBI_Test_X)"
      ],
      "execution_count": null,
      "outputs": []
    },
    {
      "cell_type": "code",
      "metadata": {
        "colab": {
          "base_uri": "https://localhost:8080/",
          "height": 497
        },
        "id": "zKt-0GuXEFbL",
        "outputId": "60233141-34d7-48b2-b665-5c6f432f1ac7"
      },
      "source": [
        "plt.figure(figsize=(20,8))\n",
        "plt.plot(SBI['DATE'][SBI['DATE'] < '2020-10-12'], SBI['VWAP'][SBI['DATE'] < '2020-10-12'], label = 'Training')\n",
        "plt.plot(SBI['DATE'][SBI['DATE'] >= '2020-10-09'], SBI['VWAP'][SBI['DATE'] >= '2020-10-09'], label = 'Testing')\n",
        "plt.plot(SBI['DATE'][SBI['DATE'] >= '2020-10-12'], SBI_prediction.reshape(-1), label = 'Predictions')\n",
        "plt.xlabel('Time')\n",
        "plt.ylabel('Closing Price')\n",
        "plt.legend(loc = 'best')\n",
        "plt.show()"
      ],
      "execution_count": null,
      "outputs": [
        {
          "output_type": "display_data",
          "data": {
            "text/plain": [
              "<Figure size 1440x576 with 1 Axes>"
            ],
            "image/png": "[encoded data removed]"
          },
          "metadata": {
            "needs_background": "light"
          }
        }
      ]
    },
    {
      "cell_type": "code",
      "metadata": {
        "colab": {
          "base_uri": "https://localhost:8080/"
        },
        "id": "Rk9tSItpFveZ",
        "outputId": "c46b3e9e-c2de-444c-a19b-cd9131946397"
      },
      "source": [
        "rmse = math.sqrt(mean_squared_error(SBI_Test_Y.reshape(-1, 5), SBI_prediction))\n",
        "mape = np.mean(np.abs(SBI_prediction - SBI_Test_Y.reshape(-1, 5))/np.abs(SBI_Test_Y.reshape(-1, 5)))\n",
        "print(f'RMSE: {rmse}')\n",
        "print(f'MAPE: {mape}')"
      ],
      "execution_count": null,
      "outputs": [
        {
          "output_type": "stream",
          "name": "stdout",
          "text": [
            "RMSE: 20.650508361965503\n",
            "MAPE: 0.0415961714833739\n"
          ]
        }
      ]
    },
    {
      "cell_type": "markdown",
      "metadata": {
        "id": "ypf8ZYJOLDBM"
      },
      "source": [
        "#TATA"
      ]
    },
    {
      "cell_type": "code",
      "metadata": {
        "colab": {
          "base_uri": "https://localhost:8080/",
          "height": 206
        },
        "id": "QJq_CWY6TPHd",
        "outputId": "729c2bb4-f8e0-4a7c-c96b-ace2bce81c61"
      },
      "source": [
        "TATA.head()"
      ],
      "execution_count": null,
      "outputs": [
        {
          "output_type": "execute_result",
          "data": {
            "text/plain": [
              "   Unnamed: 0        DATE SERIES    OPEN     HIGH      LOW  PREV. CLOSE  \\\n",
              "0           0  2022-05-16     EQ  1119.0  1134.80  1094.00      1097.00   \n",
              "1           1  2022-05-13     EQ  1135.0  1151.80  1092.00      1117.70   \n",
              "2           2  2022-05-12     EQ  1156.9  1162.40  1103.00      1165.70   \n",
              "3           3  2022-05-11     EQ  1175.0  1190.90  1123.40      1164.90   \n",
              "4           4  2022-05-10     EQ  1251.0  1254.65  1158.55      1252.25   \n",
              "\n",
              "       LTP   CLOSE     VWAP   52W H    52W L    VOLUME         VALUE  \\\n",
              "0  1109.00  1103.5  1113.49  1534.5  1050.25   6266527  6.977733e+09   \n",
              "1  1094.85  1097.0  1121.87  1534.5  1050.25   8292441  9.303075e+09   \n",
              "2  1118.90  1117.7  1123.94  1534.5  1050.25   9419161  1.058661e+10   \n",
              "3  1172.90  1165.7  1156.89  1534.5  1050.25  10706315  1.238605e+10   \n",
              "4  1161.25  1164.9  1196.85  1534.5  1050.25  14553742  1.741867e+10   \n",
              "\n",
              "   NO OF TRADES     SYMBOL  \n",
              "0        166059  TATASTEEL  \n",
              "1        216773  TATASTEEL  \n",
              "2        258893  TATASTEEL  \n",
              "3        243457  TATASTEEL  \n",
              "4        344143  TATASTEEL  "
            ],
            "text/html": [
              "\n",
              "  <div id=\"df-5486dc9a-0621-4d49-8507-86789c8272c6\">\n",
              "    <div class=\"colab-df-container\">\n",
              "      <div>\n",
              "<style scoped>\n",
              "    .dataframe tbody tr th:only-of-type {\n",
              "        vertical-align: middle;\n",
              "    }\n",
              "\n",
              "    .dataframe tbody tr th {\n",
              "        vertical-align: top;\n",
              "    }\n",
              "\n",
              "    .dataframe thead th {\n",
              "        text-align: right;\n",
              "    }\n",
              "</style>\n",
              "<table border=\"1\" class=\"dataframe\">\n",
              "  <thead>\n",
              "    <tr style=\"text-align: right;\">\n",
              "      <th></th>\n",
              "      <th>Unnamed: 0</th>\n",
              "      <th>DATE</th>\n",
              "      <th>SERIES</th>\n",
              "      <th>OPEN</th>\n",
              "      <th>HIGH</th>\n",
              "      <th>LOW</th>\n",
              "      <th>PREV. CLOSE</th>\n",
              "      <th>LTP</th>\n",
              "      <th>CLOSE</th>\n",
              "      <th>VWAP</th>\n",
              "      <th>52W H</th>\n",
              "      <th>52W L</th>\n",
              "      <th>VOLUME</th>\n",
              "      <th>VALUE</th>\n",
              "      <th>NO OF TRADES</th>\n",
              "      <th>SYMBOL</th>\n",
              "    </tr>\n",
              "  </thead>\n",
              "  <tbody>\n",
              "    <tr>\n",
              "      <th>0</th>\n",
              "      <td>0</td>\n",
              "      <td>2022-05-16</td>\n",
              "      <td>EQ</td>\n",
              "      <td>1119.0</td>\n",
              "      <td>1134.80</td>\n",
              "      <td>1094.00</td>\n",
              "      <td>1097.00</td>\n",
              "      <td>1109.00</td>\n",
              "      <td>1103.5</td>\n",
              "      <td>1113.49</td>\n",
              "      <td>1534.5</td>\n",
              "      <td>1050.25</td>\n",
              "      <td>6266527</td>\n",
              "      <td>6.977733e+09</td>\n",
              "      <td>166059</td>\n",
              "      <td>TATASTEEL</td>\n",
              "    </tr>\n",
              "    <tr>\n",
              "      <th>1</th>\n",
              "      <td>1</td>\n",
              "      <td>2022-05-13</td>\n",
              "      <td>EQ</td>\n",
              "      <td>1135.0</td>\n",
              "      <td>1151.80</td>\n",
              "      <td>1092.00</td>\n",
              "      <td>1117.70</td>\n",
              "      <td>1094.85</td>\n",
              "      <td>1097.0</td>\n",
              "      <td>1121.87</td>\n",
              "      <td>1534.5</td>\n",
              "      <td>1050.25</td>\n",
              "      <td>8292441</td>\n",
              "      <td>9.303075e+09</td>\n",
              "      <td>216773</td>\n",
              "      <td>TATASTEEL</td>\n",
              "    </tr>\n",
              "    <tr>\n",
              "      <th>2</th>\n",
              "      <td>2</td>\n",
              "      <td>2022-05-12</td>\n",
              "      <td>EQ</td>\n",
              "      <td>1156.9</td>\n",
              "      <td>1162.40</td>\n",
              "      <td>1103.00</td>\n",
              "      <td>1165.70</td>\n",
              "      <td>1118.90</td>\n",
              "      <td>1117.7</td>\n",
              "      <td>1123.94</td>\n",
              "      <td>1534.5</td>\n",
              "      <td>1050.25</td>\n",
              "      <td>9419161</td>\n",
              "      <td>1.058661e+10</td>\n",
              "      <td>258893</td>\n",
              "      <td>TATASTEEL</td>\n",
              "    </tr>\n",
              "    <tr>\n",
              "      <th>3</th>\n",
              "      <td>3</td>\n",
              "      <td>2022-05-11</td>\n",
              "      <td>EQ</td>\n",
              "      <td>1175.0</td>\n",
              "      <td>1190.90</td>\n",
              "      <td>1123.40</td>\n",
              "      <td>1164.90</td>\n",
              "      <td>1172.90</td>\n",
              "      <td>1165.7</td>\n",
              "      <td>1156.89</td>\n",
              "      <td>1534.5</td>\n",
              "      <td>1050.25</td>\n",
              "      <td>10706315</td>\n",
              "      <td>1.238605e+10</td>\n",
              "      <td>243457</td>\n",
              "      <td>TATASTEEL</td>\n",
              "    </tr>\n",
              "    <tr>\n",
              "      <th>4</th>\n",
              "      <td>4</td>\n",
              "      <td>2022-05-10</td>\n",
              "      <td>EQ</td>\n",
              "      <td>1251.0</td>\n",
              "      <td>1254.65</td>\n",
              "      <td>1158.55</td>\n",
              "      <td>1252.25</td>\n",
              "      <td>1161.25</td>\n",
              "      <td>1164.9</td>\n",
              "      <td>1196.85</td>\n",
              "      <td>1534.5</td>\n",
              "      <td>1050.25</td>\n",
              "      <td>14553742</td>\n",
              "      <td>1.741867e+10</td>\n",
              "      <td>344143</td>\n",
              "      <td>TATASTEEL</td>\n",
              "    </tr>\n",
              "  </tbody>\n",
              "</table>\n",
              "</div>\n",
              "      <button class=\"colab-df-convert\" onclick=\"convertToInteractive('df-5486dc9a-0621-4d49-8507-86789c8272c6')\"\n",
              "              title=\"Convert this dataframe to an interactive table.\"\n",
              "              style=\"display:none;\">\n",
              "        \n",
              "  <svg xmlns=\"http://www.w3.org/2000/svg\" height=\"24px\"viewBox=\"0 0 24 24\"\n",
              "       width=\"24px\">\n",
              "    <path d=\"M0 0h24v24H0V0z\" fill=\"none\"/>\n",
              "    <path d=\"M18.56 5.44l.94 2.06.94-2.06 2.06-.94-2.06-.94-.94-2.06-.94 2.06-2.06.94zm-11 1L8.5 8.5l.94-2.06 2.06-.94-2.06-.94L8.5 2.5l-.94 2.06-2.06.94zm10 10l.94 2.06.94-2.06 2.06-.94-2.06-.94-.94-2.06-.94 2.06-2.06.94z\"/><path d=\"M17.41 7.96l-1.37-1.37c-.4-.4-.92-.59-1.43-.59-.52 0-1.04.2-1.43.59L10.3 9.45l-7.72 7.72c-.78.78-.78 2.05 0 2.83L4 21.41c.39.39.9.59 1.41.59.51 0 1.02-.2 1.41-.59l7.78-7.78 2.81-2.81c.8-.78.8-2.07 0-2.86zM5.41 20L4 18.59l7.72-7.72 1.47 1.35L5.41 20z\"/>\n",
              "  </svg>\n",
              "      </button>\n",
              "      \n",
              "  <style>\n",
              "    .colab-df-container {\n",
              "      display:flex;\n",
              "      flex-wrap:wrap;\n",
              "      gap: 12px;\n",
              "    }\n",
              "\n",
              "    .colab-df-convert {\n",
              "      background-color: #E8F0FE;\n",
              "      border: none;\n",
              "      border-radius: 50%;\n",
              "      cursor: pointer;\n",
              "      display: none;\n",
              "      fill: #1967D2;\n",
              "      height: 32px;\n",
              "      padding: 0 0 0 0;\n",
              "      width: 32px;\n",
              "    }\n",
              "\n",
              "    .colab-df-convert:hover {\n",
              "      background-color: #E2EBFA;\n",
              "      box-shadow: 0px 1px 2px rgba(60, 64, 67, 0.3), 0px 1px 3px 1px rgba(60, 64, 67, 0.15);\n",
              "      fill: #174EA6;\n",
              "    }\n",
              "\n",
              "    [theme=dark] .colab-df-convert {\n",
              "      background-color: #3B4455;\n",
              "      fill: #D2E3FC;\n",
              "    }\n",
              "\n",
              "    [theme=dark] .colab-df-convert:hover {\n",
              "      background-color: #434B5C;\n",
              "      box-shadow: 0px 1px 3px 1px rgba(0, 0, 0, 0.15);\n",
              "      filter: drop-shadow(0px 1px 2px rgba(0, 0, 0, 0.3));\n",
              "      fill: #FFFFFF;\n",
              "    }\n",
              "  </style>\n",
              "\n",
              "      <script>\n",
              "        const buttonEl =\n",
              "          document.querySelector('#df-5486dc9a-0621-4d49-8507-86789c8272c6 button.colab-df-convert');\n",
              "        buttonEl.style.display =\n",
              "          google.colab.kernel.accessAllowed ? 'block' : 'none';\n",
              "\n",
              "        async function convertToInteractive(key) {\n",
              "          const element = document.querySelector('#df-5486dc9a-0621-4d49-8507-86789c8272c6');\n",
              "          const dataTable =\n",
              "            await google.colab.kernel.invokeFunction('convertToInteractive',\n",
              "                                                     [key], {});\n",
              "          if (!dataTable) return;\n",
              "\n",
              "          const docLinkHtml = 'Like what you see? Visit the ' +\n",
              "            '<a target=\"_blank\" href=https://colab.research.google.com/notebooks/data_table.ipynb>data table notebook</a>'\n",
              "            + ' to learn more about interactive tables.';\n",
              "          element.innerHTML = '';\n",
              "          dataTable['output_type'] = 'display_data';\n",
              "          await google.colab.output.renderOutput(dataTable, element);\n",
              "          const docLink = document.createElement('div');\n",
              "          docLink.innerHTML = docLinkHtml;\n",
              "          element.appendChild(docLink);\n",
              "        }\n",
              "      </script>\n",
              "    </div>\n",
              "  </div>\n",
              "  "
            ]
          },
          "metadata": {},
          "execution_count": 31
        }
      ]
    },
    {
      "cell_type": "code",
      "source": [
        "TATA = TATA.drop(columns=['Unnamed: 0','SERIES','PREV. CLOSE','52W H','52W L','SYMBOL'])"
      ],
      "metadata": {
        "id": "d2jq-iCqthgo"
      },
      "execution_count": null,
      "outputs": []
    },
    {
      "cell_type": "code",
      "metadata": {
        "colab": {
          "base_uri": "https://localhost:8080/"
        },
        "id": "pyL1B3uMTUNv",
        "outputId": "123ff505-1426-4063-e595-5c4120b0093d"
      },
      "source": [
        "TATA.info()"
      ],
      "execution_count": null,
      "outputs": [
        {
          "output_type": "stream",
          "name": "stdout",
          "text": [
            "<class 'pandas.core.frame.DataFrame'>\n",
            "RangeIndex: 1081 entries, 0 to 1080\n",
            "Data columns (total 10 columns):\n",
            " #   Column        Non-Null Count  Dtype  \n",
            "---  ------        --------------  -----  \n",
            " 0   DATE          1081 non-null   object \n",
            " 1   OPEN          1081 non-null   float64\n",
            " 2   HIGH          1081 non-null   float64\n",
            " 3   LOW           1081 non-null   float64\n",
            " 4   LTP           1081 non-null   float64\n",
            " 5   CLOSE         1081 non-null   float64\n",
            " 6   VWAP          1081 non-null   float64\n",
            " 7   VOLUME        1081 non-null   int64  \n",
            " 8   VALUE         1081 non-null   float64\n",
            " 9   NO OF TRADES  1081 non-null   int64  \n",
            "dtypes: float64(7), int64(2), object(1)\n",
            "memory usage: 84.6+ KB\n"
          ]
        }
      ]
    },
    {
      "cell_type": "code",
      "metadata": {
        "id": "acJ0D4D8TbuT"
      },
      "source": [
        "# Change Dtype of Date column\n",
        "TATA[\"DATE\"] = pd.to_datetime(TATA[\"DATE\"])"
      ],
      "execution_count": null,
      "outputs": []
    },
    {
      "cell_type": "markdown",
      "metadata": {
        "id": "fdCQQVG36NtH"
      },
      "source": [
        "###Split the Data into Training and Test set\n",
        "    Training Period: 2018-01-01 - 2020-09-30\n",
        "\n",
        "    Testing Period:  2020-10-01 - 2022-05-17"
      ]
    },
    {
      "cell_type": "code",
      "metadata": {
        "id": "MJ4YxPbLTogR"
      },
      "source": [
        "TATA_Date = '2020-10-01'\n",
        "TATA_Train_X, TATA_Train_Y, TATA_Test_X, TATA_Test_Y = Dataset(TATA, TATA_Date)"
      ],
      "execution_count": null,
      "outputs": []
    },
    {
      "cell_type": "markdown",
      "metadata": {
        "id": "aYKWpHMa17Kh"
      },
      "source": [
        "### Model Fitting"
      ]
    },
    {
      "cell_type": "code",
      "metadata": {
        "id": "SH2GuSX6T2Cm"
      },
      "source": [
        "TATA_Model = Model()"
      ],
      "execution_count": null,
      "outputs": []
    },
    {
      "cell_type": "code",
      "metadata": {
        "id": "w-nr1vkYT_JJ"
      },
      "source": [
        "TATA_Model.compile(optimizer = tf.keras.optimizers.Adam(), loss = 'mse', metrics = tf.keras.metrics.RootMeanSquaredError())"
      ],
      "execution_count": null,
      "outputs": []
    },
    {
      "cell_type": "code",
      "metadata": {
        "id": "GcfkNJk2ULD0",
        "colab": {
          "base_uri": "https://localhost:8080/"
        },
        "outputId": "e46e5d92-4086-49d0-d1dc-a9d070a2d33f"
      },
      "source": [
        "TATA_hist = TATA_Model.fit(TATA_Train_X, TATA_Train_Y, epochs = 200, validation_data = (TATA_Test_X, TATA_Test_Y), callbacks=[callback])"
      ],
      "execution_count": null,
      "outputs": [
        {
          "output_type": "stream",
          "name": "stdout",
          "text": [
            "Epoch 1/200\n",
            "5/5 [==============================] - 3s 131ms/step - loss: 242939.5000 - root_mean_squared_error: 492.8889 - val_loss: 1155164.3750 - val_root_mean_squared_error: 1074.7858 - lr: 0.0000e+00\n",
            "Epoch 2/200\n",
            "5/5 [==============================] - 0s 39ms/step - loss: 242937.5000 - root_mean_squared_error: 492.8869 - val_loss: 1155155.5000 - val_root_mean_squared_error: 1074.7816 - lr: 6.6667e-08\n",
            "Epoch 3/200\n",
            "5/5 [==============================] - 0s 38ms/step - loss: 242929.3750 - root_mean_squared_error: 492.8787 - val_loss: 1155138.0000 - val_root_mean_squared_error: 1074.7734 - lr: 1.3333e-07\n",
            "Epoch 4/200\n",
            "5/5 [==============================] - 0s 40ms/step - loss: 242914.6562 - root_mean_squared_error: 492.8637 - val_loss: 1155113.8750 - val_root_mean_squared_error: 1074.7623 - lr: 2.0000e-07\n",
            "Epoch 5/200\n",
            "5/5 [==============================] - 0s 38ms/step - loss: 242893.3594 - root_mean_squared_error: 492.8421 - val_loss: 1155080.2500 - val_root_mean_squared_error: 1074.7466 - lr: 2.6667e-07\n",
            "Epoch 6/200\n",
            "5/5 [==============================] - 0s 45ms/step - loss: 242864.6875 - root_mean_squared_error: 492.8130 - val_loss: 1155034.5000 - val_root_mean_squared_error: 1074.7253 - lr: 3.3333e-07\n",
            "Epoch 7/200\n",
            "5/5 [==============================] - 0s 40ms/step - loss: 242827.0156 - root_mean_squared_error: 492.7748 - val_loss: 1154979.1250 - val_root_mean_squared_error: 1074.6996 - lr: 4.0000e-07\n",
            "Epoch 8/200\n",
            "5/5 [==============================] - 0s 40ms/step - loss: 242781.6875 - root_mean_squared_error: 492.7288 - val_loss: 1154913.1250 - val_root_mean_squared_error: 1074.6689 - lr: 4.6667e-07\n",
            "Epoch 9/200\n",
            "5/5 [==============================] - 0s 39ms/step - loss: 242727.8438 - root_mean_squared_error: 492.6742 - val_loss: 1154835.6250 - val_root_mean_squared_error: 1074.6327 - lr: 5.3333e-07\n",
            "Epoch 10/200\n",
            "5/5 [==============================] - 0s 37ms/step - loss: 242666.5000 - root_mean_squared_error: 492.6119 - val_loss: 1154749.1250 - val_root_mean_squared_error: 1074.5925 - lr: 6.0000e-07\n",
            "Epoch 11/200\n",
            "5/5 [==============================] - 0s 41ms/step - loss: 242605.2969 - root_mean_squared_error: 492.5498 - val_loss: 1154654.0000 - val_root_mean_squared_error: 1074.5482 - lr: 6.6667e-07\n",
            "Epoch 12/200\n",
            "5/5 [==============================] - 0s 39ms/step - loss: 242541.9688 - root_mean_squared_error: 492.4855 - val_loss: 1154555.1250 - val_root_mean_squared_error: 1074.5023 - lr: 7.3333e-07\n",
            "Epoch 13/200\n",
            "5/5 [==============================] - 0s 39ms/step - loss: 242473.4531 - root_mean_squared_error: 492.4159 - val_loss: 1154448.7500 - val_root_mean_squared_error: 1074.4528 - lr: 8.0000e-07\n",
            "Epoch 14/200\n",
            "5/5 [==============================] - 0s 39ms/step - loss: 242401.3906 - root_mean_squared_error: 492.3427 - val_loss: 1154327.7500 - val_root_mean_squared_error: 1074.3964 - lr: 8.6667e-07\n",
            "Epoch 15/200\n",
            "5/5 [==============================] - 0s 37ms/step - loss: 242322.5000 - root_mean_squared_error: 492.2626 - val_loss: 1154204.1250 - val_root_mean_squared_error: 1074.3389 - lr: 9.3333e-07\n",
            "Epoch 16/200\n",
            "5/5 [==============================] - 0s 45ms/step - loss: 242240.4531 - root_mean_squared_error: 492.1793 - val_loss: 1154062.6250 - val_root_mean_squared_error: 1074.2731 - lr: 1.0000e-06\n",
            "Epoch 17/200\n",
            "5/5 [==============================] - 0s 41ms/step - loss: 242155.4688 - root_mean_squared_error: 492.0930 - val_loss: 1153933.5000 - val_root_mean_squared_error: 1074.2130 - lr: 1.0667e-06\n",
            "Epoch 18/200\n",
            "5/5 [==============================] - 0s 40ms/step - loss: 242069.9688 - root_mean_squared_error: 492.0061 - val_loss: 1153797.1250 - val_root_mean_squared_error: 1074.1494 - lr: 1.1333e-06\n",
            "Epoch 19/200\n",
            "5/5 [==============================] - 0s 41ms/step - loss: 241982.0781 - root_mean_squared_error: 491.9167 - val_loss: 1153635.3750 - val_root_mean_squared_error: 1074.0742 - lr: 1.2000e-06\n",
            "Epoch 20/200\n",
            "5/5 [==============================] - 0s 40ms/step - loss: 241886.8125 - root_mean_squared_error: 491.8199 - val_loss: 1153465.3750 - val_root_mean_squared_error: 1073.9951 - lr: 1.2667e-06\n",
            "Epoch 21/200\n",
            "5/5 [==============================] - 0s 44ms/step - loss: 241788.2500 - root_mean_squared_error: 491.7197 - val_loss: 1153269.0000 - val_root_mean_squared_error: 1073.9036 - lr: 1.3333e-06\n",
            "Epoch 22/200\n",
            "5/5 [==============================] - 0s 39ms/step - loss: 241686.7188 - root_mean_squared_error: 491.6164 - val_loss: 1153057.3750 - val_root_mean_squared_error: 1073.8052 - lr: 1.4000e-06\n",
            "Epoch 23/200\n",
            "5/5 [==============================] - 0s 41ms/step - loss: 241574.7188 - root_mean_squared_error: 491.5025 - val_loss: 1152830.6250 - val_root_mean_squared_error: 1073.6995 - lr: 1.4667e-06\n",
            "Epoch 24/200\n",
            "5/5 [==============================] - 0s 42ms/step - loss: 241463.0938 - root_mean_squared_error: 491.3889 - val_loss: 1152590.7500 - val_root_mean_squared_error: 1073.5879 - lr: 1.5333e-06\n",
            "Epoch 25/200\n",
            "5/5 [==============================] - 0s 39ms/step - loss: 241355.1094 - root_mean_squared_error: 491.2791 - val_loss: 1152344.6250 - val_root_mean_squared_error: 1073.4731 - lr: 1.6000e-06\n",
            "Epoch 26/200\n",
            "5/5 [==============================] - 0s 39ms/step - loss: 241243.8906 - root_mean_squared_error: 491.1659 - val_loss: 1152082.6250 - val_root_mean_squared_error: 1073.3511 - lr: 1.6667e-06\n",
            "Epoch 27/200\n",
            "5/5 [==============================] - 0s 41ms/step - loss: 241132.8906 - root_mean_squared_error: 491.0528 - val_loss: 1151799.5000 - val_root_mean_squared_error: 1073.2192 - lr: 1.7333e-06\n",
            "Epoch 28/200\n",
            "5/5 [==============================] - 0s 42ms/step - loss: 241023.0000 - root_mean_squared_error: 490.9409 - val_loss: 1151484.8750 - val_root_mean_squared_error: 1073.0726 - lr: 1.8000e-06\n",
            "Epoch 29/200\n",
            "5/5 [==============================] - 0s 43ms/step - loss: 240915.0781 - root_mean_squared_error: 490.8311 - val_loss: 1151159.7500 - val_root_mean_squared_error: 1072.9211 - lr: 1.8667e-06\n",
            "Epoch 30/200\n",
            "5/5 [==============================] - 0s 41ms/step - loss: 240805.7969 - root_mean_squared_error: 490.7197 - val_loss: 1150811.6250 - val_root_mean_squared_error: 1072.7589 - lr: 1.9333e-06\n",
            "Epoch 31/200\n",
            "5/5 [==============================] - 0s 41ms/step - loss: 240697.5156 - root_mean_squared_error: 490.6093 - val_loss: 1150441.3750 - val_root_mean_squared_error: 1072.5863 - lr: 2.0000e-06\n",
            "Epoch 32/200\n",
            "5/5 [==============================] - 0s 40ms/step - loss: 240586.1875 - root_mean_squared_error: 490.4958 - val_loss: 1150028.8750 - val_root_mean_squared_error: 1072.3939 - lr: 2.0667e-06\n",
            "Epoch 33/200\n",
            "5/5 [==============================] - 0s 41ms/step - loss: 240474.1875 - root_mean_squared_error: 490.3817 - val_loss: 1149589.0000 - val_root_mean_squared_error: 1072.1888 - lr: 2.1333e-06\n",
            "Epoch 34/200\n",
            "5/5 [==============================] - 0s 39ms/step - loss: 240363.0312 - root_mean_squared_error: 490.2683 - val_loss: 1149127.7500 - val_root_mean_squared_error: 1071.9739 - lr: 2.2000e-06\n",
            "Epoch 35/200\n",
            "5/5 [==============================] - 0s 41ms/step - loss: 240244.6562 - root_mean_squared_error: 490.1476 - val_loss: 1148655.0000 - val_root_mean_squared_error: 1071.7533 - lr: 2.2667e-06\n",
            "Epoch 36/200\n",
            "5/5 [==============================] - 0s 41ms/step - loss: 240123.9531 - root_mean_squared_error: 490.0244 - val_loss: 1148161.0000 - val_root_mean_squared_error: 1071.5227 - lr: 2.3333e-06\n",
            "Epoch 37/200\n",
            "5/5 [==============================] - 0s 41ms/step - loss: 239998.6562 - root_mean_squared_error: 489.8966 - val_loss: 1147638.1250 - val_root_mean_squared_error: 1071.2787 - lr: 2.4000e-06\n",
            "Epoch 38/200\n",
            "5/5 [==============================] - 0s 42ms/step - loss: 239865.3906 - root_mean_squared_error: 489.7606 - val_loss: 1147077.0000 - val_root_mean_squared_error: 1071.0168 - lr: 2.4667e-06\n",
            "Epoch 39/200\n",
            "5/5 [==============================] - 0s 45ms/step - loss: 239726.1719 - root_mean_squared_error: 489.6184 - val_loss: 1146507.5000 - val_root_mean_squared_error: 1070.7509 - lr: 2.5333e-06\n",
            "Epoch 40/200\n",
            "5/5 [==============================] - 0s 41ms/step - loss: 239574.3438 - root_mean_squared_error: 489.4633 - val_loss: 1145925.5000 - val_root_mean_squared_error: 1070.4791 - lr: 2.6000e-06\n",
            "Epoch 41/200\n",
            "5/5 [==============================] - 0s 44ms/step - loss: 239414.7656 - root_mean_squared_error: 489.3003 - val_loss: 1145316.1250 - val_root_mean_squared_error: 1070.1945 - lr: 2.6667e-06\n",
            "Epoch 42/200\n",
            "5/5 [==============================] - 0s 42ms/step - loss: 239248.0312 - root_mean_squared_error: 489.1299 - val_loss: 1144649.7500 - val_root_mean_squared_error: 1069.8831 - lr: 2.7333e-06\n",
            "Epoch 43/200\n",
            "5/5 [==============================] - 0s 40ms/step - loss: 239067.5469 - root_mean_squared_error: 488.9453 - val_loss: 1143908.6250 - val_root_mean_squared_error: 1069.5367 - lr: 2.8000e-06\n",
            "Epoch 44/200\n",
            "5/5 [==============================] - 0s 42ms/step - loss: 238881.4219 - root_mean_squared_error: 488.7549 - val_loss: 1143089.1250 - val_root_mean_squared_error: 1069.1534 - lr: 2.8667e-06\n",
            "Epoch 45/200\n",
            "5/5 [==============================] - 0s 42ms/step - loss: 238693.2188 - root_mean_squared_error: 488.5624 - val_loss: 1142189.1250 - val_root_mean_squared_error: 1068.7325 - lr: 2.9333e-06\n",
            "Epoch 46/200\n",
            "5/5 [==============================] - 0s 44ms/step - loss: 238497.1250 - root_mean_squared_error: 488.3617 - val_loss: 1141227.3750 - val_root_mean_squared_error: 1068.2825 - lr: 3.0000e-06\n",
            "Epoch 47/200\n",
            "5/5 [==============================] - 0s 41ms/step - loss: 238298.0469 - root_mean_squared_error: 488.1578 - val_loss: 1140197.6250 - val_root_mean_squared_error: 1067.8004 - lr: 3.0667e-06\n",
            "Epoch 48/200\n",
            "5/5 [==============================] - 0s 43ms/step - loss: 238099.3750 - root_mean_squared_error: 487.9543 - val_loss: 1139155.7500 - val_root_mean_squared_error: 1067.3124 - lr: 3.1333e-06\n",
            "Epoch 49/200\n",
            "5/5 [==============================] - 0s 43ms/step - loss: 237907.0469 - root_mean_squared_error: 487.7571 - val_loss: 1138067.3750 - val_root_mean_squared_error: 1066.8024 - lr: 3.2000e-06\n",
            "Epoch 50/200\n",
            "5/5 [==============================] - 0s 39ms/step - loss: 237714.5625 - root_mean_squared_error: 487.5598 - val_loss: 1136920.1250 - val_root_mean_squared_error: 1066.2645 - lr: 3.2667e-06\n",
            "Epoch 51/200\n",
            "5/5 [==============================] - 0s 44ms/step - loss: 237521.3906 - root_mean_squared_error: 487.3617 - val_loss: 1135728.2500 - val_root_mean_squared_error: 1065.7056 - lr: 3.3333e-06\n",
            "Epoch 52/200\n",
            "5/5 [==============================] - 0s 40ms/step - loss: 237329.4844 - root_mean_squared_error: 487.1647 - val_loss: 1134496.5000 - val_root_mean_squared_error: 1065.1276 - lr: 3.4000e-06\n",
            "Epoch 53/200\n",
            "5/5 [==============================] - 0s 42ms/step - loss: 237131.5469 - root_mean_squared_error: 486.9615 - val_loss: 1133157.6250 - val_root_mean_squared_error: 1064.4988 - lr: 3.4667e-06\n",
            "Epoch 54/200\n",
            "5/5 [==============================] - 0s 40ms/step - loss: 236912.1250 - root_mean_squared_error: 486.7362 - val_loss: 1131722.2500 - val_root_mean_squared_error: 1063.8243 - lr: 3.5333e-06\n",
            "Epoch 55/200\n",
            "5/5 [==============================] - 0s 41ms/step - loss: 236663.0000 - root_mean_squared_error: 486.4802 - val_loss: 1130204.3750 - val_root_mean_squared_error: 1063.1107 - lr: 3.6000e-06\n",
            "Epoch 56/200\n",
            "5/5 [==============================] - 0s 44ms/step - loss: 236395.2656 - root_mean_squared_error: 486.2049 - val_loss: 1128618.8750 - val_root_mean_squared_error: 1062.3647 - lr: 3.6667e-06\n",
            "Epoch 57/200\n",
            "5/5 [==============================] - 0s 43ms/step - loss: 236112.4219 - root_mean_squared_error: 485.9140 - val_loss: 1126965.5000 - val_root_mean_squared_error: 1061.5863 - lr: 3.7333e-06\n",
            "Epoch 58/200\n",
            "5/5 [==============================] - 0s 44ms/step - loss: 235833.4219 - root_mean_squared_error: 485.6269 - val_loss: 1125260.1250 - val_root_mean_squared_error: 1060.7828 - lr: 3.8000e-06\n",
            "Epoch 59/200\n",
            "5/5 [==============================] - 0s 42ms/step - loss: 235526.3906 - root_mean_squared_error: 485.3106 - val_loss: 1123629.2500 - val_root_mean_squared_error: 1060.0139 - lr: 3.8667e-06\n",
            "Epoch 60/200\n",
            "5/5 [==============================] - 0s 41ms/step - loss: 235237.4375 - root_mean_squared_error: 485.0128 - val_loss: 1121954.0000 - val_root_mean_squared_error: 1059.2233 - lr: 3.9333e-06\n",
            "Epoch 61/200\n",
            "5/5 [==============================] - 0s 43ms/step - loss: 234937.0938 - root_mean_squared_error: 484.7031 - val_loss: 1120244.0000 - val_root_mean_squared_error: 1058.4158 - lr: 4.0000e-06\n",
            "Epoch 62/200\n",
            "5/5 [==============================] - 0s 41ms/step - loss: 234635.8750 - root_mean_squared_error: 484.3923 - val_loss: 1118554.8750 - val_root_mean_squared_error: 1057.6176 - lr: 4.0667e-06\n",
            "Epoch 63/200\n",
            "5/5 [==============================] - 0s 40ms/step - loss: 234332.1094 - root_mean_squared_error: 484.0786 - val_loss: 1116841.5000 - val_root_mean_squared_error: 1056.8073 - lr: 4.1333e-06\n",
            "Epoch 64/200\n",
            "5/5 [==============================] - 0s 41ms/step - loss: 234016.9375 - root_mean_squared_error: 483.7530 - val_loss: 1115171.0000 - val_root_mean_squared_error: 1056.0166 - lr: 4.2000e-06\n",
            "Epoch 65/200\n",
            "5/5 [==============================] - 0s 42ms/step - loss: 233712.3906 - root_mean_squared_error: 483.4381 - val_loss: 1113508.5000 - val_root_mean_squared_error: 1055.2291 - lr: 4.2667e-06\n",
            "Epoch 66/200\n",
            "5/5 [==============================] - 0s 43ms/step - loss: 233397.1562 - root_mean_squared_error: 483.1120 - val_loss: 1111870.1250 - val_root_mean_squared_error: 1054.4526 - lr: 4.3333e-06\n",
            "Epoch 67/200\n",
            "5/5 [==============================] - 0s 42ms/step - loss: 233075.9688 - root_mean_squared_error: 482.7794 - val_loss: 1110182.8750 - val_root_mean_squared_error: 1053.6521 - lr: 4.4000e-06\n",
            "Epoch 68/200\n",
            "5/5 [==============================] - 0s 39ms/step - loss: 232743.7031 - root_mean_squared_error: 482.4352 - val_loss: 1108459.8750 - val_root_mean_squared_error: 1052.8342 - lr: 4.4667e-06\n",
            "Epoch 69/200\n",
            "5/5 [==============================] - 0s 42ms/step - loss: 232394.9375 - root_mean_squared_error: 482.0736 - val_loss: 1106688.1250 - val_root_mean_squared_error: 1051.9926 - lr: 4.5333e-06\n",
            "Epoch 70/200\n",
            "5/5 [==============================] - 0s 41ms/step - loss: 232037.5781 - root_mean_squared_error: 481.7028 - val_loss: 1104798.2500 - val_root_mean_squared_error: 1051.0939 - lr: 4.6000e-06\n",
            "Epoch 71/200\n",
            "5/5 [==============================] - 0s 45ms/step - loss: 231663.9844 - root_mean_squared_error: 481.3149 - val_loss: 1102843.7500 - val_root_mean_squared_error: 1050.1637 - lr: 4.6667e-06\n",
            "Epoch 72/200\n",
            "5/5 [==============================] - 0s 43ms/step - loss: 231277.0625 - root_mean_squared_error: 480.9128 - val_loss: 1100987.2500 - val_root_mean_squared_error: 1049.2794 - lr: 4.7333e-06\n",
            "Epoch 73/200\n",
            "5/5 [==============================] - 0s 41ms/step - loss: 230890.9844 - root_mean_squared_error: 480.5111 - val_loss: 1099028.8750 - val_root_mean_squared_error: 1048.3458 - lr: 4.8000e-06\n",
            "Epoch 74/200\n",
            "5/5 [==============================] - 0s 41ms/step - loss: 230484.7031 - root_mean_squared_error: 480.0883 - val_loss: 1096965.1250 - val_root_mean_squared_error: 1047.3611 - lr: 4.8667e-06\n",
            "Epoch 75/200\n",
            "5/5 [==============================] - 0s 40ms/step - loss: 230061.9062 - root_mean_squared_error: 479.6477 - val_loss: 1094848.3750 - val_root_mean_squared_error: 1046.3500 - lr: 4.9333e-06\n",
            "Epoch 76/200\n",
            "5/5 [==============================] - 0s 43ms/step - loss: 229626.0156 - root_mean_squared_error: 479.1931 - val_loss: 1092594.8750 - val_root_mean_squared_error: 1045.2726 - lr: 5.0000e-06\n",
            "Epoch 77/200\n",
            "5/5 [==============================] - 0s 41ms/step - loss: 229176.7812 - root_mean_squared_error: 478.7241 - val_loss: 1090233.8750 - val_root_mean_squared_error: 1044.1427 - lr: 5.0667e-06\n",
            "Epoch 78/200\n",
            "5/5 [==============================] - 0s 43ms/step - loss: 228707.6406 - root_mean_squared_error: 478.2339 - val_loss: 1087817.2500 - val_root_mean_squared_error: 1042.9847 - lr: 5.1333e-06\n",
            "Epoch 79/200\n",
            "5/5 [==============================] - 0s 40ms/step - loss: 228222.0156 - root_mean_squared_error: 477.7259 - val_loss: 1085281.6250 - val_root_mean_squared_error: 1041.7686 - lr: 5.2000e-06\n",
            "Epoch 80/200\n",
            "5/5 [==============================] - 0s 41ms/step - loss: 227717.0938 - root_mean_squared_error: 477.1971 - val_loss: 1082637.3750 - val_root_mean_squared_error: 1040.4985 - lr: 5.2667e-06\n",
            "Epoch 81/200\n",
            "5/5 [==============================] - 0s 45ms/step - loss: 227176.8125 - root_mean_squared_error: 476.6307 - val_loss: 1079951.2500 - val_root_mean_squared_error: 1039.2070 - lr: 5.3333e-06\n",
            "Epoch 82/200\n",
            "5/5 [==============================] - 0s 41ms/step - loss: 226608.1250 - root_mean_squared_error: 476.0338 - val_loss: 1077177.8750 - val_root_mean_squared_error: 1037.8718 - lr: 5.4000e-06\n",
            "Epoch 83/200\n",
            "5/5 [==============================] - 0s 41ms/step - loss: 226034.6719 - root_mean_squared_error: 475.4310 - val_loss: 1074273.3750 - val_root_mean_squared_error: 1036.4717 - lr: 5.4667e-06\n",
            "Epoch 84/200\n",
            "5/5 [==============================] - 0s 41ms/step - loss: 225434.9844 - root_mean_squared_error: 474.8000 - val_loss: 1071372.7500 - val_root_mean_squared_error: 1035.0713 - lr: 5.5333e-06\n",
            "Epoch 85/200\n",
            "5/5 [==============================] - 0s 40ms/step - loss: 224832.9531 - root_mean_squared_error: 474.1655 - val_loss: 1068524.1250 - val_root_mean_squared_error: 1033.6945 - lr: 5.6000e-06\n",
            "Epoch 86/200\n",
            "5/5 [==============================] - 0s 45ms/step - loss: 224217.9844 - root_mean_squared_error: 473.5166 - val_loss: 1065681.7500 - val_root_mean_squared_error: 1032.3186 - lr: 5.6667e-06\n",
            "Epoch 87/200\n",
            "5/5 [==============================] - 0s 43ms/step - loss: 223598.5000 - root_mean_squared_error: 472.8620 - val_loss: 1062759.0000 - val_root_mean_squared_error: 1030.9020 - lr: 5.7333e-06\n",
            "Epoch 88/200\n",
            "5/5 [==============================] - 0s 40ms/step - loss: 222957.8281 - root_mean_squared_error: 472.1841 - val_loss: 1059694.5000 - val_root_mean_squared_error: 1029.4147 - lr: 5.8000e-06\n",
            "Epoch 89/200\n",
            "5/5 [==============================] - 0s 43ms/step - loss: 222283.2188 - root_mean_squared_error: 471.4692 - val_loss: 1056407.1250 - val_root_mean_squared_error: 1027.8167 - lr: 5.8667e-06\n",
            "Epoch 90/200\n",
            "5/5 [==============================] - 0s 41ms/step - loss: 221562.6406 - root_mean_squared_error: 470.7044 - val_loss: 1052744.8750 - val_root_mean_squared_error: 1026.0336 - lr: 5.9333e-06\n",
            "Epoch 91/200\n",
            "5/5 [==============================] - 0s 45ms/step - loss: 220789.7500 - root_mean_squared_error: 469.8827 - val_loss: 1048647.7500 - val_root_mean_squared_error: 1024.0350 - lr: 6.0000e-06\n",
            "Epoch 92/200\n",
            "5/5 [==============================] - 0s 42ms/step - loss: 219963.6719 - root_mean_squared_error: 469.0029 - val_loss: 1044512.9375 - val_root_mean_squared_error: 1022.0142 - lr: 6.0667e-06\n",
            "Epoch 93/200\n",
            "5/5 [==============================] - 0s 42ms/step - loss: 219122.9531 - root_mean_squared_error: 468.1057 - val_loss: 1040299.4375 - val_root_mean_squared_error: 1019.9507 - lr: 6.1333e-06\n",
            "Epoch 94/200\n",
            "5/5 [==============================] - 0s 43ms/step - loss: 218212.1094 - root_mean_squared_error: 467.1318 - val_loss: 1035974.8750 - val_root_mean_squared_error: 1017.8285 - lr: 6.2000e-06\n",
            "Epoch 95/200\n",
            "5/5 [==============================] - 0s 41ms/step - loss: 217278.8750 - root_mean_squared_error: 466.1318 - val_loss: 1031466.3125 - val_root_mean_squared_error: 1015.6113 - lr: 6.2667e-06\n",
            "Epoch 96/200\n",
            "5/5 [==============================] - 0s 44ms/step - loss: 216294.6094 - root_mean_squared_error: 465.0748 - val_loss: 1026928.9375 - val_root_mean_squared_error: 1013.3750 - lr: 6.3333e-06\n",
            "Epoch 97/200\n",
            "5/5 [==============================] - 0s 41ms/step - loss: 215302.4688 - root_mean_squared_error: 464.0070 - val_loss: 1022200.3125 - val_root_mean_squared_error: 1011.0392 - lr: 6.4000e-06\n",
            "Epoch 98/200\n",
            "5/5 [==============================] - 0s 42ms/step - loss: 214274.1875 - root_mean_squared_error: 462.8976 - val_loss: 1017322.3125 - val_root_mean_squared_error: 1008.6240 - lr: 6.4667e-06\n",
            "Epoch 99/200\n",
            "5/5 [==============================] - 0s 41ms/step - loss: 213226.6094 - root_mean_squared_error: 461.7647 - val_loss: 1012186.5625 - val_root_mean_squared_error: 1006.0748 - lr: 6.5333e-06\n",
            "Epoch 100/200\n",
            "5/5 [==============================] - 0s 44ms/step - loss: 212187.9219 - root_mean_squared_error: 460.6386 - val_loss: 1006566.5000 - val_root_mean_squared_error: 1003.2779 - lr: 6.6000e-06\n",
            "Epoch 101/200\n",
            "5/5 [==============================] - 0s 44ms/step - loss: 211051.8594 - root_mean_squared_error: 459.4038 - val_loss: 1000401.9375 - val_root_mean_squared_error: 1000.2009 - lr: 6.6667e-06\n",
            "Epoch 102/200\n",
            "5/5 [==============================] - 0s 42ms/step - loss: 209842.0000 - root_mean_squared_error: 458.0851 - val_loss: 993355.0625 - val_root_mean_squared_error: 996.6720 - lr: 6.7333e-06\n",
            "Epoch 103/200\n",
            "5/5 [==============================] - 0s 42ms/step - loss: 208566.1406 - root_mean_squared_error: 456.6904 - val_loss: 985854.1875 - val_root_mean_squared_error: 992.9020 - lr: 6.8000e-06\n",
            "Epoch 104/200\n",
            "5/5 [==============================] - 0s 42ms/step - loss: 207274.9531 - root_mean_squared_error: 455.2746 - val_loss: 978318.5625 - val_root_mean_squared_error: 989.0999 - lr: 6.8667e-06\n",
            "Epoch 105/200\n",
            "5/5 [==============================] - 0s 43ms/step - loss: 205908.0469 - root_mean_squared_error: 453.7709 - val_loss: 970812.3750 - val_root_mean_squared_error: 985.2980 - lr: 6.9333e-06\n",
            "Epoch 106/200\n",
            "5/5 [==============================] - 0s 41ms/step - loss: 204485.6875 - root_mean_squared_error: 452.2009 - val_loss: 962923.5625 - val_root_mean_squared_error: 981.2867 - lr: 7.0000e-06\n",
            "Epoch 107/200\n",
            "5/5 [==============================] - 0s 42ms/step - loss: 202978.9531 - root_mean_squared_error: 450.5319 - val_loss: 954897.8125 - val_root_mean_squared_error: 977.1887 - lr: 7.0667e-06\n",
            "Epoch 108/200\n",
            "5/5 [==============================] - 0s 41ms/step - loss: 201341.2812 - root_mean_squared_error: 448.7107 - val_loss: 946996.4375 - val_root_mean_squared_error: 973.1374 - lr: 7.1333e-06\n",
            "Epoch 109/200\n",
            "5/5 [==============================] - 0s 43ms/step - loss: 199537.6250 - root_mean_squared_error: 446.6963 - val_loss: 939197.3750 - val_root_mean_squared_error: 969.1220 - lr: 7.2000e-06\n",
            "Epoch 110/200\n",
            "5/5 [==============================] - 0s 44ms/step - loss: 197591.4219 - root_mean_squared_error: 444.5126 - val_loss: 930283.2500 - val_root_mean_squared_error: 964.5119 - lr: 7.2667e-06\n",
            "Epoch 111/200\n",
            "5/5 [==============================] - 0s 43ms/step - loss: 195526.3125 - root_mean_squared_error: 442.1836 - val_loss: 919724.3750 - val_root_mean_squared_error: 959.0226 - lr: 7.3333e-06\n",
            "Epoch 112/200\n",
            "5/5 [==============================] - 0s 42ms/step - loss: 193357.7344 - root_mean_squared_error: 439.7246 - val_loss: 906913.3125 - val_root_mean_squared_error: 952.3199 - lr: 7.4000e-06\n",
            "Epoch 113/200\n",
            "5/5 [==============================] - 0s 41ms/step - loss: 190985.8594 - root_mean_squared_error: 437.0193 - val_loss: 893054.8125 - val_root_mean_squared_error: 945.0157 - lr: 7.4667e-06\n",
            "Epoch 114/200\n",
            "5/5 [==============================] - 0s 43ms/step - loss: 188396.8906 - root_mean_squared_error: 434.0471 - val_loss: 877979.3125 - val_root_mean_squared_error: 937.0056 - lr: 7.5333e-06\n",
            "Epoch 115/200\n",
            "5/5 [==============================] - 0s 54ms/step - loss: 185491.3594 - root_mean_squared_error: 430.6871 - val_loss: 861757.4375 - val_root_mean_squared_error: 928.3090 - lr: 7.6000e-06\n",
            "Epoch 116/200\n",
            "5/5 [==============================] - 0s 43ms/step - loss: 182349.3438 - root_mean_squared_error: 427.0238 - val_loss: 845173.8750 - val_root_mean_squared_error: 919.3334 - lr: 7.6667e-06\n",
            "Epoch 117/200\n",
            "5/5 [==============================] - 0s 41ms/step - loss: 179001.5156 - root_mean_squared_error: 423.0857 - val_loss: 829225.7500 - val_root_mean_squared_error: 910.6183 - lr: 7.7333e-06\n",
            "Epoch 118/200\n",
            "5/5 [==============================] - 0s 43ms/step - loss: 175395.4844 - root_mean_squared_error: 418.8024 - val_loss: 816146.0000 - val_root_mean_squared_error: 903.4080 - lr: 7.8000e-06\n",
            "Epoch 119/200\n",
            "5/5 [==============================] - 0s 42ms/step - loss: 171581.2344 - root_mean_squared_error: 414.2237 - val_loss: 797931.7500 - val_root_mean_squared_error: 893.2702 - lr: 7.8667e-06\n",
            "Epoch 120/200\n",
            "5/5 [==============================] - 0s 44ms/step - loss: 167256.5625 - root_mean_squared_error: 408.9702 - val_loss: 776463.0625 - val_root_mean_squared_error: 881.1714 - lr: 7.9333e-06\n",
            "Epoch 121/200\n",
            "5/5 [==============================] - 0s 41ms/step - loss: 162357.4844 - root_mean_squared_error: 402.9360 - val_loss: 747694.6875 - val_root_mean_squared_error: 864.6934 - lr: 8.0000e-06\n",
            "Epoch 122/200\n",
            "5/5 [==============================] - 0s 41ms/step - loss: 156101.2656 - root_mean_squared_error: 395.0965 - val_loss: 710502.1875 - val_root_mean_squared_error: 842.9130 - lr: 8.0667e-06\n",
            "Epoch 123/200\n",
            "5/5 [==============================] - 0s 42ms/step - loss: 147752.9219 - root_mean_squared_error: 384.3864 - val_loss: 681235.6875 - val_root_mean_squared_error: 825.3701 - lr: 8.1333e-06\n",
            "Epoch 124/200\n",
            "5/5 [==============================] - 0s 42ms/step - loss: 139686.0312 - root_mean_squared_error: 373.7460 - val_loss: 639576.3750 - val_root_mean_squared_error: 799.7352 - lr: 8.2000e-06\n",
            "Epoch 125/200\n",
            "5/5 [==============================] - 0s 45ms/step - loss: 130488.6797 - root_mean_squared_error: 361.2321 - val_loss: 566111.3125 - val_root_mean_squared_error: 752.4037 - lr: 8.2667e-06\n",
            "Epoch 126/200\n",
            "5/5 [==============================] - 0s 42ms/step - loss: 120719.1875 - root_mean_squared_error: 347.4467 - val_loss: 529133.4375 - val_root_mean_squared_error: 727.4156 - lr: 8.3333e-06\n",
            "Epoch 127/200\n",
            "5/5 [==============================] - 0s 41ms/step - loss: 112946.6875 - root_mean_squared_error: 336.0754 - val_loss: 480448.3438 - val_root_mean_squared_error: 693.1439 - lr: 8.4000e-06\n",
            "Epoch 128/200\n",
            "5/5 [==============================] - 0s 42ms/step - loss: 104618.5781 - root_mean_squared_error: 323.4479 - val_loss: 437653.3750 - val_root_mean_squared_error: 661.5537 - lr: 8.4667e-06\n",
            "Epoch 129/200\n",
            "5/5 [==============================] - 0s 42ms/step - loss: 95527.9141 - root_mean_squared_error: 309.0759 - val_loss: 383175.6875 - val_root_mean_squared_error: 619.0118 - lr: 8.5333e-06\n",
            "Epoch 130/200\n",
            "5/5 [==============================] - 0s 47ms/step - loss: 86992.6953 - root_mean_squared_error: 294.9453 - val_loss: 339526.0312 - val_root_mean_squared_error: 582.6886 - lr: 8.6000e-06\n",
            "Epoch 131/200\n",
            "5/5 [==============================] - 0s 42ms/step - loss: 75269.6953 - root_mean_squared_error: 274.3532 - val_loss: 304161.5938 - val_root_mean_squared_error: 551.5085 - lr: 8.6667e-06\n",
            "Epoch 132/200\n",
            "5/5 [==============================] - 0s 42ms/step - loss: 66434.0625 - root_mean_squared_error: 257.7480 - val_loss: 269890.4688 - val_root_mean_squared_error: 519.5098 - lr: 8.7333e-06\n",
            "Epoch 133/200\n",
            "5/5 [==============================] - 0s 44ms/step - loss: 59046.3242 - root_mean_squared_error: 242.9945 - val_loss: 239990.8594 - val_root_mean_squared_error: 489.8886 - lr: 8.8000e-06\n",
            "Epoch 134/200\n",
            "5/5 [==============================] - 0s 42ms/step - loss: 52066.7734 - root_mean_squared_error: 228.1815 - val_loss: 211057.6250 - val_root_mean_squared_error: 459.4101 - lr: 8.8667e-06\n",
            "Epoch 135/200\n",
            "5/5 [==============================] - 0s 43ms/step - loss: 45304.1445 - root_mean_squared_error: 212.8477 - val_loss: 176631.2344 - val_root_mean_squared_error: 420.2752 - lr: 8.9333e-06\n",
            "Epoch 136/200\n",
            "5/5 [==============================] - 0s 42ms/step - loss: 38590.7500 - root_mean_squared_error: 196.4453 - val_loss: 154539.5000 - val_root_mean_squared_error: 393.1151 - lr: 9.0000e-06\n",
            "Epoch 137/200\n",
            "5/5 [==============================] - 0s 43ms/step - loss: 33431.4453 - root_mean_squared_error: 182.8427 - val_loss: 133796.2500 - val_root_mean_squared_error: 365.7817 - lr: 9.0667e-06\n",
            "Epoch 138/200\n",
            "5/5 [==============================] - 0s 42ms/step - loss: 28803.2441 - root_mean_squared_error: 169.7152 - val_loss: 115315.5703 - val_root_mean_squared_error: 339.5815 - lr: 9.1333e-06\n",
            "Epoch 139/200\n",
            "5/5 [==============================] - 0s 42ms/step - loss: 24520.3555 - root_mean_squared_error: 156.5898 - val_loss: 98376.2422 - val_root_mean_squared_error: 313.6499 - lr: 9.2000e-06\n",
            "Epoch 140/200\n",
            "5/5 [==============================] - 0s 43ms/step - loss: 20344.5332 - root_mean_squared_error: 142.6343 - val_loss: 82136.4141 - val_root_mean_squared_error: 286.5945 - lr: 9.2667e-06\n",
            "Epoch 141/200\n",
            "5/5 [==============================] - 0s 40ms/step - loss: 16920.6016 - root_mean_squared_error: 130.0792 - val_loss: 69625.2656 - val_root_mean_squared_error: 263.8660 - lr: 9.3333e-06\n",
            "Epoch 142/200\n",
            "5/5 [==============================] - 0s 44ms/step - loss: 14180.2871 - root_mean_squared_error: 119.0810 - val_loss: 56913.4102 - val_root_mean_squared_error: 238.5653 - lr: 9.4000e-06\n",
            "Epoch 143/200\n",
            "5/5 [==============================] - 0s 43ms/step - loss: 11657.5742 - root_mean_squared_error: 107.9703 - val_loss: 46714.1836 - val_root_mean_squared_error: 216.1346 - lr: 9.4667e-06\n",
            "Epoch 144/200\n",
            "5/5 [==============================] - 0s 49ms/step - loss: 9516.7871 - root_mean_squared_error: 97.5540 - val_loss: 38151.4141 - val_root_mean_squared_error: 195.3239 - lr: 9.5333e-06\n",
            "Epoch 145/200\n",
            "5/5 [==============================] - 0s 41ms/step - loss: 7678.8003 - root_mean_squared_error: 87.6288 - val_loss: 31318.5371 - val_root_mean_squared_error: 176.9704 - lr: 9.6000e-06\n",
            "Epoch 146/200\n",
            "5/5 [==============================] - 0s 43ms/step - loss: 6196.7798 - root_mean_squared_error: 78.7196 - val_loss: 25620.4941 - val_root_mean_squared_error: 160.0640 - lr: 9.6667e-06\n",
            "Epoch 147/200\n",
            "5/5 [==============================] - 0s 43ms/step - loss: 4950.8164 - root_mean_squared_error: 70.3620 - val_loss: 20608.7637 - val_root_mean_squared_error: 143.5575 - lr: 9.7333e-06\n",
            "Epoch 148/200\n",
            "5/5 [==============================] - 0s 53ms/step - loss: 3889.1926 - root_mean_squared_error: 62.3634 - val_loss: 16062.7295 - val_root_mean_squared_error: 126.7388 - lr: 9.8000e-06\n",
            "Epoch 149/200\n",
            "5/5 [==============================] - 0s 44ms/step - loss: 2965.4663 - root_mean_squared_error: 54.4561 - val_loss: 12430.3203 - val_root_mean_squared_error: 111.4913 - lr: 9.8667e-06\n",
            "Epoch 150/200\n",
            "5/5 [==============================] - 0s 44ms/step - loss: 2225.0669 - root_mean_squared_error: 47.1706 - val_loss: 9498.5811 - val_root_mean_squared_error: 97.4607 - lr: 9.9333e-06\n",
            "Epoch 151/200\n",
            "5/5 [==============================] - 0s 43ms/step - loss: 1631.5793 - root_mean_squared_error: 40.3928 - val_loss: 7342.4209 - val_root_mean_squared_error: 85.6879 - lr: 1.0000e-05\n",
            "Epoch 152/200\n",
            "5/5 [==============================] - 0s 43ms/step - loss: 1198.1912 - root_mean_squared_error: 34.6149 - val_loss: 5765.6030 - val_root_mean_squared_error: 75.9316 - lr: 9.9005e-06\n",
            "Epoch 153/200\n",
            "5/5 [==============================] - 0s 42ms/step - loss: 931.9796 - root_mean_squared_error: 30.5283 - val_loss: 5264.7241 - val_root_mean_squared_error: 72.5584 - lr: 9.8020e-06\n",
            "Epoch 154/200\n",
            "5/5 [==============================] - 0s 43ms/step - loss: 785.5400 - root_mean_squared_error: 28.0275 - val_loss: 4819.9004 - val_root_mean_squared_error: 69.4255 - lr: 9.7045e-06\n",
            "Epoch 155/200\n",
            "5/5 [==============================] - 0s 42ms/step - loss: 715.1237 - root_mean_squared_error: 26.7418 - val_loss: 4652.6250 - val_root_mean_squared_error: 68.2102 - lr: 9.6079e-06\n",
            "Epoch 156/200\n",
            "5/5 [==============================] - 0s 45ms/step - loss: 676.7475 - root_mean_squared_error: 26.0144 - val_loss: 4610.1636 - val_root_mean_squared_error: 67.8982 - lr: 9.5123e-06\n",
            "Epoch 157/200\n",
            "5/5 [==============================] - 0s 42ms/step - loss: 657.6543 - root_mean_squared_error: 25.6448 - val_loss: 4497.9761 - val_root_mean_squared_error: 67.0670 - lr: 9.4176e-06\n",
            "Epoch 158/200\n",
            "5/5 [==============================] - 0s 45ms/step - loss: 645.9472 - root_mean_squared_error: 25.4155 - val_loss: 4415.9175 - val_root_mean_squared_error: 66.4524 - lr: 9.3239e-06\n",
            "Epoch 159/200\n",
            "5/5 [==============================] - 0s 42ms/step - loss: 633.4474 - root_mean_squared_error: 25.1684 - val_loss: 4384.7827 - val_root_mean_squared_error: 66.2177 - lr: 9.2312e-06\n",
            "Epoch 160/200\n",
            "5/5 [==============================] - 0s 43ms/step - loss: 623.0967 - root_mean_squared_error: 24.9619 - val_loss: 4501.3228 - val_root_mean_squared_error: 67.0919 - lr: 9.1393e-06\n",
            "Epoch 161/200\n",
            "5/5 [==============================] - 0s 42ms/step - loss: 609.4850 - root_mean_squared_error: 24.6877 - val_loss: 4388.4946 - val_root_mean_squared_error: 66.2457 - lr: 9.0484e-06\n",
            "Epoch 162/200\n",
            "5/5 [==============================] - 0s 42ms/step - loss: 590.7512 - root_mean_squared_error: 24.3054 - val_loss: 4249.0513 - val_root_mean_squared_error: 65.1848 - lr: 8.9583e-06\n",
            "Epoch 163/200\n",
            "5/5 [==============================] - 0s 44ms/step - loss: 581.1904 - root_mean_squared_error: 24.1079 - val_loss: 4286.2271 - val_root_mean_squared_error: 65.4693 - lr: 8.8692e-06\n",
            "Epoch 164/200\n",
            "5/5 [==============================] - 0s 44ms/step - loss: 566.5821 - root_mean_squared_error: 23.8030 - val_loss: 4414.8257 - val_root_mean_squared_error: 66.4442 - lr: 8.7810e-06\n",
            "Epoch 165/200\n",
            "5/5 [==============================] - 0s 42ms/step - loss: 560.3190 - root_mean_squared_error: 23.6711 - val_loss: 4460.5059 - val_root_mean_squared_error: 66.7870 - lr: 8.6936e-06\n",
            "Epoch 166/200\n",
            "5/5 [==============================] - 0s 42ms/step - loss: 554.6292 - root_mean_squared_error: 23.5506 - val_loss: 4727.6362 - val_root_mean_squared_error: 68.7578 - lr: 8.6071e-06\n",
            "Epoch 167/200\n",
            "5/5 [==============================] - 0s 42ms/step - loss: 535.9857 - root_mean_squared_error: 23.1514 - val_loss: 5111.4292 - val_root_mean_squared_error: 71.4943 - lr: 8.5214e-06\n",
            "Epoch 168/200\n",
            "5/5 [==============================] - 0s 48ms/step - loss: 533.8981 - root_mean_squared_error: 23.1062 - val_loss: 5232.8726 - val_root_mean_squared_error: 72.3386 - lr: 8.4366e-06\n",
            "Epoch 169/200\n",
            "5/5 [==============================] - 0s 43ms/step - loss: 518.3333 - root_mean_squared_error: 22.7669 - val_loss: 5365.5029 - val_root_mean_squared_error: 73.2496 - lr: 8.3527e-06\n",
            "Epoch 170/200\n",
            "5/5 [==============================] - 0s 42ms/step - loss: 512.5407 - root_mean_squared_error: 22.6394 - val_loss: 5448.7969 - val_root_mean_squared_error: 73.8160 - lr: 8.2696e-06\n",
            "Epoch 171/200\n",
            "5/5 [==============================] - 0s 44ms/step - loss: 502.5768 - root_mean_squared_error: 22.4182 - val_loss: 5620.4204 - val_root_mean_squared_error: 74.9695 - lr: 8.1873e-06\n",
            "Epoch 172/200\n",
            "5/5 [==============================] - 0s 44ms/step - loss: 492.6966 - root_mean_squared_error: 22.1968 - val_loss: 5727.3140 - val_root_mean_squared_error: 75.6790 - lr: 8.1058e-06\n",
            "Epoch 173/200\n",
            "5/5 [==============================] - 0s 45ms/step - loss: 488.1143 - root_mean_squared_error: 22.0933 - val_loss: 5775.9946 - val_root_mean_squared_error: 76.0000 - lr: 8.0252e-06\n",
            "Epoch 174/200\n",
            "5/5 [==============================] - 0s 42ms/step - loss: 478.0979 - root_mean_squared_error: 21.8654 - val_loss: 5937.4390 - val_root_mean_squared_error: 77.0548 - lr: 7.9453e-06\n",
            "Epoch 175/200\n",
            "5/5 [==============================] - 0s 44ms/step - loss: 480.5882 - root_mean_squared_error: 21.9223 - val_loss: 5887.1641 - val_root_mean_squared_error: 76.7279 - lr: 7.8663e-06\n",
            "Epoch 176/200\n",
            "5/5 [==============================] - 0s 41ms/step - loss: 469.8485 - root_mean_squared_error: 21.6760 - val_loss: 5841.7109 - val_root_mean_squared_error: 76.4311 - lr: 7.7880e-06\n",
            "Epoch 177/200\n",
            "5/5 [==============================] - 0s 44ms/step - loss: 466.0703 - root_mean_squared_error: 21.5887 - val_loss: 5821.9668 - val_root_mean_squared_error: 76.3018 - lr: 7.7105e-06\n",
            "Epoch 178/200\n",
            "5/5 [==============================] - 0s 43ms/step - loss: 463.5538 - root_mean_squared_error: 21.5303 - val_loss: 5751.9023 - val_root_mean_squared_error: 75.8413 - lr: 7.6338e-06\n",
            "Epoch 179/200\n",
            "5/5 [==============================] - 0s 43ms/step - loss: 459.6626 - root_mean_squared_error: 21.4397 - val_loss: 5667.9785 - val_root_mean_squared_error: 75.2860 - lr: 7.5578e-06\n",
            "Epoch 180/200\n",
            "5/5 [==============================] - 0s 44ms/step - loss: 459.3945 - root_mean_squared_error: 21.4335 - val_loss: 5655.3677 - val_root_mean_squared_error: 75.2022 - lr: 7.4826e-06\n",
            "Epoch 181/200\n",
            "5/5 [==============================] - 0s 41ms/step - loss: 456.3609 - root_mean_squared_error: 21.3626 - val_loss: 5676.4927 - val_root_mean_squared_error: 75.3425 - lr: 7.4082e-06\n",
            "Epoch 182/200\n",
            "5/5 [==============================] - 0s 46ms/step - loss: 460.3503 - root_mean_squared_error: 21.4558 - val_loss: 5651.6738 - val_root_mean_squared_error: 75.1776 - lr: 7.3345e-06\n",
            "Epoch 183/200\n",
            "5/5 [==============================] - 0s 42ms/step - loss: 449.1346 - root_mean_squared_error: 21.1928 - val_loss: 5529.4614 - val_root_mean_squared_error: 74.3603 - lr: 7.2615e-06\n",
            "Epoch 184/200\n",
            "5/5 [==============================] - 0s 41ms/step - loss: 450.3448 - root_mean_squared_error: 21.2213 - val_loss: 5529.0864 - val_root_mean_squared_error: 74.3578 - lr: 7.1892e-06\n",
            "Epoch 185/200\n",
            "5/5 [==============================] - 0s 42ms/step - loss: 447.1039 - root_mean_squared_error: 21.1448 - val_loss: 5508.5327 - val_root_mean_squared_error: 74.2195 - lr: 7.1177e-06\n",
            "Epoch 186/200\n",
            "5/5 [==============================] - 0s 46ms/step - loss: 443.1062 - root_mean_squared_error: 21.0501 - val_loss: 5359.6704 - val_root_mean_squared_error: 73.2098 - lr: 7.0469e-06\n",
            "Epoch 187/200\n",
            "5/5 [==============================] - 0s 45ms/step - loss: 439.4975 - root_mean_squared_error: 20.9642 - val_loss: 5356.6655 - val_root_mean_squared_error: 73.1892 - lr: 6.9768e-06\n",
            "Epoch 188/200\n",
            "5/5 [==============================] - 0s 44ms/step - loss: 444.1277 - root_mean_squared_error: 21.0743 - val_loss: 5327.6558 - val_root_mean_squared_error: 72.9908 - lr: 6.9073e-06\n",
            "Epoch 189/200\n",
            "5/5 [==============================] - 0s 44ms/step - loss: 436.7789 - root_mean_squared_error: 20.8993 - val_loss: 5127.2383 - val_root_mean_squared_error: 71.6047 - lr: 6.8386e-06\n",
            "Epoch 190/200\n",
            "5/5 [==============================] - 0s 42ms/step - loss: 431.1269 - root_mean_squared_error: 20.7636 - val_loss: 5056.0967 - val_root_mean_squared_error: 71.1062 - lr: 6.7706e-06\n",
            "Epoch 191/200\n",
            "5/5 [==============================] - 0s 44ms/step - loss: 426.2583 - root_mean_squared_error: 20.6460 - val_loss: 5014.3667 - val_root_mean_squared_error: 70.8122 - lr: 6.7032e-06\n",
            "Epoch 192/200\n",
            "5/5 [==============================] - 0s 44ms/step - loss: 420.7954 - root_mean_squared_error: 20.5133 - val_loss: 4889.2832 - val_root_mean_squared_error: 69.9234 - lr: 6.6365e-06\n",
            "Epoch 193/200\n",
            "5/5 [==============================] - 0s 43ms/step - loss: 417.8952 - root_mean_squared_error: 20.4425 - val_loss: 4885.6963 - val_root_mean_squared_error: 69.8978 - lr: 6.5705e-06\n",
            "Epoch 194/200\n",
            "5/5 [==============================] - 0s 44ms/step - loss: 411.8221 - root_mean_squared_error: 20.2934 - val_loss: 4896.4746 - val_root_mean_squared_error: 69.9748 - lr: 6.5051e-06\n",
            "Epoch 195/200\n",
            "5/5 [==============================] - 0s 45ms/step - loss: 407.6703 - root_mean_squared_error: 20.1908 - val_loss: 4934.8179 - val_root_mean_squared_error: 70.2483 - lr: 6.4404e-06\n",
            "Epoch 196/200\n",
            "5/5 [==============================] - 0s 43ms/step - loss: 404.9757 - root_mean_squared_error: 20.1240 - val_loss: 5082.8906 - val_root_mean_squared_error: 71.2944 - lr: 6.3763e-06\n",
            "Epoch 197/200\n",
            "5/5 [==============================] - 0s 44ms/step - loss: 400.9952 - root_mean_squared_error: 20.0249 - val_loss: 5128.4229 - val_root_mean_squared_error: 71.6130 - lr: 6.3128e-06\n",
            "Epoch 198/200\n",
            "5/5 [==============================] - 0s 42ms/step - loss: 398.8453 - root_mean_squared_error: 19.9711 - val_loss: 5093.3286 - val_root_mean_squared_error: 71.3676 - lr: 6.2500e-06\n",
            "Epoch 199/200\n",
            "5/5 [==============================] - 0s 45ms/step - loss: 395.9576 - root_mean_squared_error: 19.8987 - val_loss: 5074.6543 - val_root_mean_squared_error: 71.2366 - lr: 6.1878e-06\n",
            "Epoch 200/200\n",
            "5/5 [==============================] - 0s 45ms/step - loss: 393.4097 - root_mean_squared_error: 19.8346 - val_loss: 5097.0596 - val_root_mean_squared_error: 71.3937 - lr: 6.1263e-06\n"
          ]
        }
      ]
    },
    {
      "cell_type": "code",
      "metadata": {
        "id": "ZXWgxxkkUXt-"
      },
      "source": [
        "history_dict = TATA_hist.history\n",
        "loss = history_dict[\"loss\"]\n",
        "root_mean_squared_error = history_dict[\"root_mean_squared_error\"]\n",
        "val_loss = history_dict[\"val_loss\"]\n",
        "val_root_mean_squared_error = history_dict[\"val_root_mean_squared_error\"]\n",
        "\n",
        "epochs = range(1, len(loss) + 1)"
      ],
      "execution_count": null,
      "outputs": []
    },
    {
      "cell_type": "code",
      "metadata": {
        "colab": {
          "base_uri": "https://localhost:8080/",
          "height": 345
        },
        "id": "fkrETLmdUy88",
        "outputId": "6b47fe8a-cfea-4d7b-ae32-1420129edc13"
      },
      "source": [
        "fig, (ax1, ax2) = plt.subplots(1, 2)\n",
        "\n",
        "fig.set_figheight(5)\n",
        "fig.set_figwidth(15)\n",
        "\n",
        "ax1.plot(epochs, loss, label = \"Training Loss\")\n",
        "ax1.plot(epochs, val_loss, label = \"Validation Loss\")\n",
        "ax1.set(xlabel = \"Epochs\", ylabel = \"Loss\")\n",
        "ax1.legend()\n",
        "\n",
        "ax2.plot(epochs, root_mean_squared_error, label = \"Training Root Mean Squared Error\")\n",
        "ax2.plot(epochs, val_root_mean_squared_error, label = \"Validation Root Mean Squared Error\")\n",
        "ax2.set(xlabel = \"Epochs\", ylabel = \"Loss\")\n",
        "ax2.legend()\n",
        "\n",
        "plt.show()"
      ],
      "execution_count": null,
      "outputs": [
        {
          "output_type": "display_data",
          "data": {
            "text/plain": [
              "<Figure size 1080x360 with 2 Axes>"
            ],
            "image/png": "[encoded data removed]"
          },
          "metadata": {
            "needs_background": "light"
          }
        }
      ]
    },
    {
      "cell_type": "markdown",
      "metadata": {
        "id": "kz5vH7re1Unf"
      },
      "source": [
        "### Predicting the closing stock price of TATA"
      ]
    },
    {
      "cell_type": "code",
      "metadata": {
        "id": "LvaeZqRJUe1C"
      },
      "source": [
        "TATA_prediction = TATA_Model.predict(TATA_Test_X)"
      ],
      "execution_count": null,
      "outputs": []
    },
    {
      "cell_type": "code",
      "metadata": {
        "colab": {
          "base_uri": "https://localhost:8080/",
          "height": 497
        },
        "id": "2wuKdS85Ut1t",
        "outputId": "d458ddd3-5874-4c37-f590-b482c81c13f0"
      },
      "source": [
        "plt.figure(figsize=(20, 8))\n",
        "plt.plot(TATA['DATE'][TATA['DATE'] < '2020-10-12'], TATA['VWAP'][TATA['DATE'] < '2020-10-12'], label = 'Training')\n",
        "plt.plot(TATA['DATE'][TATA['DATE'] >= '2020-10-09'], TATA['VWAP'][TATA['DATE'] >= '2020-10-09'], label = 'Testing')\n",
        "plt.plot(TATA['DATE'][TATA['DATE'] >= '2020-10-12'], TATA_prediction.reshape(-1), label = 'Predictions')\n",
        "plt.xlabel('Time')\n",
        "plt.ylabel('Closing Price')\n",
        "plt.legend(loc = 'best')\n",
        "plt.show()"
      ],
      "execution_count": null,
      "outputs": [
        {
          "output_type": "display_data",
          "data": {
            "text/plain": [
              "<Figure size 1440x576 with 1 Axes>"
            ],
            "image/png": "[encoded data removed]"
          },
          "metadata": {
            "needs_background": "light"
          }
        }
      ]
    },
    {
      "cell_type": "code",
      "metadata": {
        "id": "GtI6XOGNUmqG",
        "colab": {
          "base_uri": "https://localhost:8080/"
        },
        "outputId": "79185415-e869-41a5-efac-78382ccee4fb"
      },
      "source": [
        "rmse = math.sqrt(mean_squared_error(TATA_Test_Y.reshape(-1, 5), TATA_prediction))\n",
        "mape = np.mean(np.abs(TATA_prediction - TATA_Test_Y.reshape(-1, 5))/np.abs(TATA_Test_Y.reshape(-1, 5)))\n",
        "print(f'RMSE: {rmse}')\n",
        "print(f'MAPE: {mape}')"
      ],
      "execution_count": null,
      "outputs": [
        {
          "output_type": "stream",
          "name": "stdout",
          "text": [
            "RMSE: 71.39369486157453\n",
            "MAPE: 0.05502125818917773\n"
          ]
        }
      ]
    },
    {
      "cell_type": "markdown",
      "metadata": {
        "id": "2JhHyPLLYnUY"
      },
      "source": [
        "#Reliance"
      ]
    },
    {
      "cell_type": "code",
      "metadata": {
        "id": "Ss34732uYmXB",
        "colab": {
          "base_uri": "https://localhost:8080/",
          "height": 206
        },
        "outputId": "196a317c-cfba-4533-8e82-c802abcb3d93"
      },
      "source": [
        "RELIANCE.head()"
      ],
      "execution_count": null,
      "outputs": [
        {
          "output_type": "execute_result",
          "data": {
            "text/plain": [
              "   Unnamed: 0        DATE SERIES     OPEN     HIGH      LOW  PREV. CLOSE  \\\n",
              "0           0  2022-05-16     EQ  2434.45  2481.00  2416.65      2426.60   \n",
              "1           1  2022-05-13     EQ  2426.00  2478.00  2415.35      2399.40   \n",
              "2           2  2022-05-12     EQ  2427.50  2434.85  2370.00      2449.30   \n",
              "3           3  2022-05-11     EQ  2472.65  2484.95  2421.95      2474.65   \n",
              "4           4  2022-05-10     EQ  2495.00  2526.60  2458.00      2518.30   \n",
              "\n",
              "       LTP    CLOSE     VWAP    52W H   52W L   VOLUME         VALUE  \\\n",
              "0  2428.05  2427.20  2444.28  2856.15  1930.4  6201594  1.515841e+10   \n",
              "1  2431.45  2426.60  2451.67  2856.15  1906.0  8910998  2.184680e+10   \n",
              "2  2403.50  2399.40  2400.60  2856.15  1906.0  9456280  2.270075e+10   \n",
              "3  2450.75  2449.30  2454.29  2856.15  1906.0  7681157  1.885176e+10   \n",
              "4  2461.70  2474.65  2495.14  2856.15  1906.0  9004636  2.246785e+10   \n",
              "\n",
              "   NO OF TRADES    SYMBOL  \n",
              "0        244925  RELIANCE  \n",
              "1        408746  RELIANCE  \n",
              "2        359540  RELIANCE  \n",
              "3        325039  RELIANCE  \n",
              "4        329083  RELIANCE  "
            ],
            "text/html": [
              "\n",
              "  <div id=\"df-697139a1-216e-417a-8ffc-8af6862aba53\">\n",
              "    <div class=\"colab-df-container\">\n",
              "      <div>\n",
              "<style scoped>\n",
              "    .dataframe tbody tr th:only-of-type {\n",
              "        vertical-align: middle;\n",
              "    }\n",
              "\n",
              "    .dataframe tbody tr th {\n",
              "        vertical-align: top;\n",
              "    }\n",
              "\n",
              "    .dataframe thead th {\n",
              "        text-align: right;\n",
              "    }\n",
              "</style>\n",
              "<table border=\"1\" class=\"dataframe\">\n",
              "  <thead>\n",
              "    <tr style=\"text-align: right;\">\n",
              "      <th></th>\n",
              "      <th>Unnamed: 0</th>\n",
              "      <th>DATE</th>\n",
              "      <th>SERIES</th>\n",
              "      <th>OPEN</th>\n",
              "      <th>HIGH</th>\n",
              "      <th>LOW</th>\n",
              "      <th>PREV. CLOSE</th>\n",
              "      <th>LTP</th>\n",
              "      <th>CLOSE</th>\n",
              "      <th>VWAP</th>\n",
              "      <th>52W H</th>\n",
              "      <th>52W L</th>\n",
              "      <th>VOLUME</th>\n",
              "      <th>VALUE</th>\n",
              "      <th>NO OF TRADES</th>\n",
              "      <th>SYMBOL</th>\n",
              "    </tr>\n",
              "  </thead>\n",
              "  <tbody>\n",
              "    <tr>\n",
              "      <th>0</th>\n",
              "      <td>0</td>\n",
              "      <td>2022-05-16</td>\n",
              "      <td>EQ</td>\n",
              "      <td>2434.45</td>\n",
              "      <td>2481.00</td>\n",
              "      <td>2416.65</td>\n",
              "      <td>2426.60</td>\n",
              "      <td>2428.05</td>\n",
              "      <td>2427.20</td>\n",
              "      <td>2444.28</td>\n",
              "      <td>2856.15</td>\n",
              "      <td>1930.4</td>\n",
              "      <td>6201594</td>\n",
              "      <td>1.515841e+10</td>\n",
              "      <td>244925</td>\n",
              "      <td>RELIANCE</td>\n",
              "    </tr>\n",
              "    <tr>\n",
              "      <th>1</th>\n",
              "      <td>1</td>\n",
              "      <td>2022-05-13</td>\n",
              "      <td>EQ</td>\n",
              "      <td>2426.00</td>\n",
              "      <td>2478.00</td>\n",
              "      <td>2415.35</td>\n",
              "      <td>2399.40</td>\n",
              "      <td>2431.45</td>\n",
              "      <td>2426.60</td>\n",
              "      <td>2451.67</td>\n",
              "      <td>2856.15</td>\n",
              "      <td>1906.0</td>\n",
              "      <td>8910998</td>\n",
              "      <td>2.184680e+10</td>\n",
              "      <td>408746</td>\n",
              "      <td>RELIANCE</td>\n",
              "    </tr>\n",
              "    <tr>\n",
              "      <th>2</th>\n",
              "      <td>2</td>\n",
              "      <td>2022-05-12</td>\n",
              "      <td>EQ</td>\n",
              "      <td>2427.50</td>\n",
              "      <td>2434.85</td>\n",
              "      <td>2370.00</td>\n",
              "      <td>2449.30</td>\n",
              "      <td>2403.50</td>\n",
              "      <td>2399.40</td>\n",
              "      <td>2400.60</td>\n",
              "      <td>2856.15</td>\n",
              "      <td>1906.0</td>\n",
              "      <td>9456280</td>\n",
              "      <td>2.270075e+10</td>\n",
              "      <td>359540</td>\n",
              "      <td>RELIANCE</td>\n",
              "    </tr>\n",
              "    <tr>\n",
              "      <th>3</th>\n",
              "      <td>3</td>\n",
              "      <td>2022-05-11</td>\n",
              "      <td>EQ</td>\n",
              "      <td>2472.65</td>\n",
              "      <td>2484.95</td>\n",
              "      <td>2421.95</td>\n",
              "      <td>2474.65</td>\n",
              "      <td>2450.75</td>\n",
              "      <td>2449.30</td>\n",
              "      <td>2454.29</td>\n",
              "      <td>2856.15</td>\n",
              "      <td>1906.0</td>\n",
              "      <td>7681157</td>\n",
              "      <td>1.885176e+10</td>\n",
              "      <td>325039</td>\n",
              "      <td>RELIANCE</td>\n",
              "    </tr>\n",
              "    <tr>\n",
              "      <th>4</th>\n",
              "      <td>4</td>\n",
              "      <td>2022-05-10</td>\n",
              "      <td>EQ</td>\n",
              "      <td>2495.00</td>\n",
              "      <td>2526.60</td>\n",
              "      <td>2458.00</td>\n",
              "      <td>2518.30</td>\n",
              "      <td>2461.70</td>\n",
              "      <td>2474.65</td>\n",
              "      <td>2495.14</td>\n",
              "      <td>2856.15</td>\n",
              "      <td>1906.0</td>\n",
              "      <td>9004636</td>\n",
              "      <td>2.246785e+10</td>\n",
              "      <td>329083</td>\n",
              "      <td>RELIANCE</td>\n",
              "    </tr>\n",
              "  </tbody>\n",
              "</table>\n",
              "</div>\n",
              "      <button class=\"colab-df-convert\" onclick=\"convertToInteractive('df-697139a1-216e-417a-8ffc-8af6862aba53')\"\n",
              "              title=\"Convert this dataframe to an interactive table.\"\n",
              "              style=\"display:none;\">\n",
              "        \n",
              "  <svg xmlns=\"http://www.w3.org/2000/svg\" height=\"24px\"viewBox=\"0 0 24 24\"\n",
              "       width=\"24px\">\n",
              "    <path d=\"M0 0h24v24H0V0z\" fill=\"none\"/>\n",
              "    <path d=\"M18.56 5.44l.94 2.06.94-2.06 2.06-.94-2.06-.94-.94-2.06-.94 2.06-2.06.94zm-11 1L8.5 8.5l.94-2.06 2.06-.94-2.06-.94L8.5 2.5l-.94 2.06-2.06.94zm10 10l.94 2.06.94-2.06 2.06-.94-2.06-.94-.94-2.06-.94 2.06-2.06.94z\"/><path d=\"M17.41 7.96l-1.37-1.37c-.4-.4-.92-.59-1.43-.59-.52 0-1.04.2-1.43.59L10.3 9.45l-7.72 7.72c-.78.78-.78 2.05 0 2.83L4 21.41c.39.39.9.59 1.41.59.51 0 1.02-.2 1.41-.59l7.78-7.78 2.81-2.81c.8-.78.8-2.07 0-2.86zM5.41 20L4 18.59l7.72-7.72 1.47 1.35L5.41 20z\"/>\n",
              "  </svg>\n",
              "      </button>\n",
              "      \n",
              "  <style>\n",
              "    .colab-df-container {\n",
              "      display:flex;\n",
              "      flex-wrap:wrap;\n",
              "      gap: 12px;\n",
              "    }\n",
              "\n",
              "    .colab-df-convert {\n",
              "      background-color: #E8F0FE;\n",
              "      border: none;\n",
              "      border-radius: 50%;\n",
              "      cursor: pointer;\n",
              "      display: none;\n",
              "      fill: #1967D2;\n",
              "      height: 32px;\n",
              "      padding: 0 0 0 0;\n",
              "      width: 32px;\n",
              "    }\n",
              "\n",
              "    .colab-df-convert:hover {\n",
              "      background-color: #E2EBFA;\n",
              "      box-shadow: 0px 1px 2px rgba(60, 64, 67, 0.3), 0px 1px 3px 1px rgba(60, 64, 67, 0.15);\n",
              "      fill: #174EA6;\n",
              "    }\n",
              "\n",
              "    [theme=dark] .colab-df-convert {\n",
              "      background-color: #3B4455;\n",
              "      fill: #D2E3FC;\n",
              "    }\n",
              "\n",
              "    [theme=dark] .colab-df-convert:hover {\n",
              "      background-color: #434B5C;\n",
              "      box-shadow: 0px 1px 3px 1px rgba(0, 0, 0, 0.15);\n",
              "      filter: drop-shadow(0px 1px 2px rgba(0, 0, 0, 0.3));\n",
              "      fill: #FFFFFF;\n",
              "    }\n",
              "  </style>\n",
              "\n",
              "      <script>\n",
              "        const buttonEl =\n",
              "          document.querySelector('#df-697139a1-216e-417a-8ffc-8af6862aba53 button.colab-df-convert');\n",
              "        buttonEl.style.display =\n",
              "          google.colab.kernel.accessAllowed ? 'block' : 'none';\n",
              "\n",
              "        async function convertToInteractive(key) {\n",
              "          const element = document.querySelector('#df-697139a1-216e-417a-8ffc-8af6862aba53');\n",
              "          const dataTable =\n",
              "            await google.colab.kernel.invokeFunction('convertToInteractive',\n",
              "                                                     [key], {});\n",
              "          if (!dataTable) return;\n",
              "\n",
              "          const docLinkHtml = 'Like what you see? Visit the ' +\n",
              "            '<a target=\"_blank\" href=https://colab.research.google.com/notebooks/data_table.ipynb>data table notebook</a>'\n",
              "            + ' to learn more about interactive tables.';\n",
              "          element.innerHTML = '';\n",
              "          dataTable['output_type'] = 'display_data';\n",
              "          await google.colab.output.renderOutput(dataTable, element);\n",
              "          const docLink = document.createElement('div');\n",
              "          docLink.innerHTML = docLinkHtml;\n",
              "          element.appendChild(docLink);\n",
              "        }\n",
              "      </script>\n",
              "    </div>\n",
              "  </div>\n",
              "  "
            ]
          },
          "metadata": {},
          "execution_count": 44
        }
      ]
    },
    {
      "cell_type": "code",
      "source": [
        "RELIANCE = RELIANCE.drop(columns=['Unnamed: 0','SERIES','PREV. CLOSE','52W H','52W L','SYMBOL'])"
      ],
      "metadata": {
        "id": "hzS8fShDmM0V"
      },
      "execution_count": null,
      "outputs": []
    },
    {
      "cell_type": "code",
      "metadata": {
        "id": "n5JxMBTjZ_2Q",
        "colab": {
          "base_uri": "https://localhost:8080/"
        },
        "outputId": "2c34ae5a-c995-426e-8cb0-41100547164d"
      },
      "source": [
        "RELIANCE.info()"
      ],
      "execution_count": null,
      "outputs": [
        {
          "output_type": "stream",
          "name": "stdout",
          "text": [
            "<class 'pandas.core.frame.DataFrame'>\n",
            "RangeIndex: 1081 entries, 0 to 1080\n",
            "Data columns (total 10 columns):\n",
            " #   Column        Non-Null Count  Dtype  \n",
            "---  ------        --------------  -----  \n",
            " 0   DATE          1081 non-null   object \n",
            " 1   OPEN          1081 non-null   float64\n",
            " 2   HIGH          1081 non-null   float64\n",
            " 3   LOW           1081 non-null   float64\n",
            " 4   LTP           1081 non-null   float64\n",
            " 5   CLOSE         1081 non-null   float64\n",
            " 6   VWAP          1081 non-null   float64\n",
            " 7   VOLUME        1081 non-null   int64  \n",
            " 8   VALUE         1081 non-null   float64\n",
            " 9   NO OF TRADES  1081 non-null   int64  \n",
            "dtypes: float64(7), int64(2), object(1)\n",
            "memory usage: 84.6+ KB\n"
          ]
        }
      ]
    },
    {
      "cell_type": "code",
      "metadata": {
        "id": "SB2BNkTKaGnx"
      },
      "source": [
        "# Change Dtype of Date column\n",
        "RELIANCE[\"DATE\"] = pd.to_datetime(RELIANCE[\"DATE\"])"
      ],
      "execution_count": null,
      "outputs": []
    },
    {
      "cell_type": "markdown",
      "metadata": {
        "id": "ZPLEQ3pv6h2S"
      },
      "source": [
        "###Split the Data into Training and Test set\n",
        "    Training Period: 2018-01-01 - 2020-09-30\n",
        "\n",
        "    Testing Period:  2020-10-01 - 2022-05-17"
      ]
    },
    {
      "cell_type": "code",
      "metadata": {
        "id": "CATiVyQ4aZ93"
      },
      "source": [
        "RELIANCE_Date = '2020-11-01'\n",
        "RELIANCE_Train_X, RELIANCE_Train_Y, RELIANCE_Test_X, RELIANCE_Test_Y = Dataset(RELIANCE, RELIANCE_Date)"
      ],
      "execution_count": null,
      "outputs": []
    },
    {
      "cell_type": "markdown",
      "metadata": {
        "id": "toxFZOh914XG"
      },
      "source": [
        "### Model Fitting"
      ]
    },
    {
      "cell_type": "code",
      "metadata": {
        "id": "RV2GNSl6aaBf"
      },
      "source": [
        "RELIANCE_Model = Model()"
      ],
      "execution_count": null,
      "outputs": []
    },
    {
      "cell_type": "code",
      "metadata": {
        "id": "PPjOZW8AaaFD"
      },
      "source": [
        "RELIANCE_Model.compile(optimizer = tf.keras.optimizers.Adam(), loss = 'mse', metrics = tf.keras.metrics.RootMeanSquaredError())"
      ],
      "execution_count": null,
      "outputs": []
    },
    {
      "cell_type": "code",
      "metadata": {
        "id": "Fh9miHDgaaIk",
        "colab": {
          "base_uri": "https://localhost:8080/"
        },
        "outputId": "2596a77d-5cb7-4046-9039-42636f622a67"
      },
      "source": [
        "RELIANCE_hist = RELIANCE_Model.fit(RELIANCE_Train_X, RELIANCE_Train_Y, epochs = 200, validation_data = (RELIANCE_Test_X, RELIANCE_Test_Y), callbacks = [callback])"
      ],
      "execution_count": null,
      "outputs": [
        {
          "output_type": "stream",
          "name": "stdout",
          "text": [
            "Epoch 1/200\n",
            "5/5 [==============================] - 3s 186ms/step - loss: 1868723.5000 - root_mean_squared_error: 1367.0127 - val_loss: 5025701.0000 - val_root_mean_squared_error: 2241.8076 - lr: 0.0000e+00\n",
            "Epoch 2/200\n",
            "5/5 [==============================] - 0s 41ms/step - loss: 1868698.6250 - root_mean_squared_error: 1367.0035 - val_loss: 5025456.0000 - val_root_mean_squared_error: 2241.7529 - lr: 6.6667e-08\n",
            "Epoch 3/200\n",
            "5/5 [==============================] - 0s 40ms/step - loss: 1868605.6250 - root_mean_squared_error: 1366.9696 - val_loss: 5024895.5000 - val_root_mean_squared_error: 2241.6279 - lr: 1.3333e-07\n",
            "Epoch 4/200\n",
            "5/5 [==============================] - 0s 41ms/step - loss: 1868425.7500 - root_mean_squared_error: 1366.9037 - val_loss: 5024042.0000 - val_root_mean_squared_error: 2241.4373 - lr: 2.0000e-07\n",
            "Epoch 5/200\n",
            "5/5 [==============================] - 0s 40ms/step - loss: 1868179.5000 - root_mean_squared_error: 1366.8136 - val_loss: 5022822.5000 - val_root_mean_squared_error: 2241.1653 - lr: 2.6667e-07\n",
            "Epoch 6/200\n",
            "5/5 [==============================] - 0s 41ms/step - loss: 1867842.0000 - root_mean_squared_error: 1366.6901 - val_loss: 5021022.0000 - val_root_mean_squared_error: 2240.7637 - lr: 3.3333e-07\n",
            "Epoch 7/200\n",
            "5/5 [==============================] - 0s 42ms/step - loss: 1867437.8750 - root_mean_squared_error: 1366.5422 - val_loss: 5018651.0000 - val_root_mean_squared_error: 2240.2344 - lr: 4.0000e-07\n",
            "Epoch 8/200\n",
            "5/5 [==============================] - 0s 41ms/step - loss: 1866915.6250 - root_mean_squared_error: 1366.3512 - val_loss: 5015989.0000 - val_root_mean_squared_error: 2239.6404 - lr: 4.6667e-07\n",
            "Epoch 9/200\n",
            "5/5 [==============================] - 0s 40ms/step - loss: 1866240.6250 - root_mean_squared_error: 1366.1041 - val_loss: 5013039.0000 - val_root_mean_squared_error: 2238.9817 - lr: 5.3333e-07\n",
            "Epoch 10/200\n",
            "5/5 [==============================] - 0s 41ms/step - loss: 1865459.7500 - root_mean_squared_error: 1365.8185 - val_loss: 5009846.0000 - val_root_mean_squared_error: 2238.2683 - lr: 6.0000e-07\n",
            "Epoch 11/200\n",
            "5/5 [==============================] - 0s 43ms/step - loss: 1864721.3750 - root_mean_squared_error: 1365.5481 - val_loss: 5007102.0000 - val_root_mean_squared_error: 2237.6555 - lr: 6.6667e-07\n",
            "Epoch 12/200\n",
            "5/5 [==============================] - 0s 41ms/step - loss: 1863972.7500 - root_mean_squared_error: 1365.2739 - val_loss: 5004568.5000 - val_root_mean_squared_error: 2237.0894 - lr: 7.3333e-07\n",
            "Epoch 13/200\n",
            "5/5 [==============================] - 0s 41ms/step - loss: 1863136.8750 - root_mean_squared_error: 1364.9678 - val_loss: 5002316.5000 - val_root_mean_squared_error: 2236.5859 - lr: 8.0000e-07\n",
            "Epoch 14/200\n",
            "5/5 [==============================] - 0s 40ms/step - loss: 1862416.3750 - root_mean_squared_error: 1364.7036 - val_loss: 5000040.5000 - val_root_mean_squared_error: 2236.0771 - lr: 8.6667e-07\n",
            "Epoch 15/200\n",
            "5/5 [==============================] - 0s 42ms/step - loss: 1861784.7500 - root_mean_squared_error: 1364.4723 - val_loss: 4997561.5000 - val_root_mean_squared_error: 2235.5227 - lr: 9.3333e-07\n",
            "Epoch 16/200\n",
            "5/5 [==============================] - 0s 40ms/step - loss: 1861295.3750 - root_mean_squared_error: 1364.2930 - val_loss: 4994963.5000 - val_root_mean_squared_error: 2234.9414 - lr: 1.0000e-06\n",
            "Epoch 17/200\n",
            "5/5 [==============================] - 0s 43ms/step - loss: 1860797.8750 - root_mean_squared_error: 1364.1106 - val_loss: 4992067.5000 - val_root_mean_squared_error: 2234.2935 - lr: 1.0667e-06\n",
            "Epoch 18/200\n",
            "5/5 [==============================] - 0s 40ms/step - loss: 1860282.8750 - root_mean_squared_error: 1363.9219 - val_loss: 4989439.0000 - val_root_mean_squared_error: 2233.7053 - lr: 1.1333e-06\n",
            "Epoch 19/200\n",
            "5/5 [==============================] - 0s 41ms/step - loss: 1859764.5000 - root_mean_squared_error: 1363.7318 - val_loss: 4986848.5000 - val_root_mean_squared_error: 2233.1252 - lr: 1.2000e-06\n",
            "Epoch 20/200\n",
            "5/5 [==============================] - 0s 42ms/step - loss: 1859199.2500 - root_mean_squared_error: 1363.5247 - val_loss: 4984112.5000 - val_root_mean_squared_error: 2232.5127 - lr: 1.2667e-06\n",
            "Epoch 21/200\n",
            "5/5 [==============================] - 0s 50ms/step - loss: 1858604.7500 - root_mean_squared_error: 1363.3065 - val_loss: 4981171.5000 - val_root_mean_squared_error: 2231.8538 - lr: 1.3333e-06\n",
            "Epoch 22/200\n",
            "5/5 [==============================] - 0s 44ms/step - loss: 1857796.3750 - root_mean_squared_error: 1363.0100 - val_loss: 4977745.0000 - val_root_mean_squared_error: 2231.0859 - lr: 1.4000e-06\n",
            "Epoch 23/200\n",
            "5/5 [==============================] - 0s 40ms/step - loss: 1856643.3750 - root_mean_squared_error: 1362.5870 - val_loss: 4971442.5000 - val_root_mean_squared_error: 2229.6731 - lr: 1.4667e-06\n",
            "Epoch 24/200\n",
            "5/5 [==============================] - 0s 40ms/step - loss: 1855352.3750 - root_mean_squared_error: 1362.1133 - val_loss: 4966726.0000 - val_root_mean_squared_error: 2228.6152 - lr: 1.5333e-06\n",
            "Epoch 25/200\n",
            "5/5 [==============================] - 0s 40ms/step - loss: 1854042.0000 - root_mean_squared_error: 1361.6321 - val_loss: 4960932.0000 - val_root_mean_squared_error: 2227.3149 - lr: 1.6000e-06\n",
            "Epoch 26/200\n",
            "5/5 [==============================] - 0s 42ms/step - loss: 1852106.1250 - root_mean_squared_error: 1360.9211 - val_loss: 4954619.5000 - val_root_mean_squared_error: 2225.8975 - lr: 1.6667e-06\n",
            "Epoch 27/200\n",
            "5/5 [==============================] - 0s 40ms/step - loss: 1850117.8750 - root_mean_squared_error: 1360.1904 - val_loss: 4949772.0000 - val_root_mean_squared_error: 2224.8083 - lr: 1.7333e-06\n",
            "Epoch 28/200\n",
            "5/5 [==============================] - 0s 40ms/step - loss: 1848474.2500 - root_mean_squared_error: 1359.5861 - val_loss: 4944693.5000 - val_root_mean_squared_error: 2223.6665 - lr: 1.8000e-06\n",
            "Epoch 29/200\n",
            "5/5 [==============================] - 0s 41ms/step - loss: 1847056.5000 - root_mean_squared_error: 1359.0646 - val_loss: 4941148.5000 - val_root_mean_squared_error: 2222.8696 - lr: 1.8667e-06\n",
            "Epoch 30/200\n",
            "5/5 [==============================] - 0s 43ms/step - loss: 1845507.2500 - root_mean_squared_error: 1358.4945 - val_loss: 4937630.5000 - val_root_mean_squared_error: 2222.0779 - lr: 1.9333e-06\n",
            "Epoch 31/200\n",
            "5/5 [==============================] - 0s 39ms/step - loss: 1843832.3750 - root_mean_squared_error: 1357.8779 - val_loss: 4933714.5000 - val_root_mean_squared_error: 2221.1965 - lr: 2.0000e-06\n",
            "Epoch 32/200\n",
            "5/5 [==============================] - 0s 43ms/step - loss: 1842032.5000 - root_mean_squared_error: 1357.2150 - val_loss: 4930265.5000 - val_root_mean_squared_error: 2220.4202 - lr: 2.0667e-06\n",
            "Epoch 33/200\n",
            "5/5 [==============================] - 0s 41ms/step - loss: 1840285.8750 - root_mean_squared_error: 1356.5714 - val_loss: 4927007.0000 - val_root_mean_squared_error: 2219.6863 - lr: 2.1333e-06\n",
            "Epoch 34/200\n",
            "5/5 [==============================] - 0s 39ms/step - loss: 1838610.3750 - root_mean_squared_error: 1355.9537 - val_loss: 4923659.0000 - val_root_mean_squared_error: 2218.9321 - lr: 2.2000e-06\n",
            "Epoch 35/200\n",
            "5/5 [==============================] - 0s 44ms/step - loss: 1836840.5000 - root_mean_squared_error: 1355.3009 - val_loss: 4920119.0000 - val_root_mean_squared_error: 2218.1343 - lr: 2.2667e-06\n",
            "Epoch 36/200\n",
            "5/5 [==============================] - 0s 42ms/step - loss: 1835060.2500 - root_mean_squared_error: 1354.6439 - val_loss: 4916541.0000 - val_root_mean_squared_error: 2217.3274 - lr: 2.3333e-06\n",
            "Epoch 37/200\n",
            "5/5 [==============================] - 0s 41ms/step - loss: 1833245.3750 - root_mean_squared_error: 1353.9740 - val_loss: 4912934.0000 - val_root_mean_squared_error: 2216.5139 - lr: 2.4000e-06\n",
            "Epoch 38/200\n",
            "5/5 [==============================] - 0s 41ms/step - loss: 1831255.0000 - root_mean_squared_error: 1353.2386 - val_loss: 4908582.0000 - val_root_mean_squared_error: 2215.5320 - lr: 2.4667e-06\n",
            "Epoch 39/200\n",
            "5/5 [==============================] - 0s 41ms/step - loss: 1829426.0000 - root_mean_squared_error: 1352.5627 - val_loss: 4904266.5000 - val_root_mean_squared_error: 2214.5579 - lr: 2.5333e-06\n",
            "Epoch 40/200\n",
            "5/5 [==============================] - 0s 43ms/step - loss: 1827562.3750 - root_mean_squared_error: 1351.8737 - val_loss: 4899386.0000 - val_root_mean_squared_error: 2213.4556 - lr: 2.6000e-06\n",
            "Epoch 41/200\n",
            "5/5 [==============================] - 0s 43ms/step - loss: 1825604.7500 - root_mean_squared_error: 1351.1493 - val_loss: 4893710.5000 - val_root_mean_squared_error: 2212.1731 - lr: 2.6667e-06\n",
            "Epoch 42/200\n",
            "5/5 [==============================] - 0s 41ms/step - loss: 1823563.7500 - root_mean_squared_error: 1350.3939 - val_loss: 4887311.5000 - val_root_mean_squared_error: 2210.7266 - lr: 2.7333e-06\n",
            "Epoch 43/200\n",
            "5/5 [==============================] - 0s 41ms/step - loss: 1821370.7500 - root_mean_squared_error: 1349.5818 - val_loss: 4880727.5000 - val_root_mean_squared_error: 2209.2368 - lr: 2.8000e-06\n",
            "Epoch 44/200\n",
            "5/5 [==============================] - 0s 41ms/step - loss: 1819228.3750 - root_mean_squared_error: 1348.7878 - val_loss: 4874498.0000 - val_root_mean_squared_error: 2207.8264 - lr: 2.8667e-06\n",
            "Epoch 45/200\n",
            "5/5 [==============================] - 0s 44ms/step - loss: 1817113.0000 - root_mean_squared_error: 1348.0033 - val_loss: 4868786.0000 - val_root_mean_squared_error: 2206.5325 - lr: 2.9333e-06\n",
            "Epoch 46/200\n",
            "5/5 [==============================] - 0s 49ms/step - loss: 1815028.0000 - root_mean_squared_error: 1347.2299 - val_loss: 4862920.5000 - val_root_mean_squared_error: 2205.2031 - lr: 3.0000e-06\n",
            "Epoch 47/200\n",
            "5/5 [==============================] - 0s 44ms/step - loss: 1812930.3750 - root_mean_squared_error: 1346.4509 - val_loss: 4856432.5000 - val_root_mean_squared_error: 2203.7314 - lr: 3.0667e-06\n",
            "Epoch 48/200\n",
            "5/5 [==============================] - 0s 39ms/step - loss: 1810764.0000 - root_mean_squared_error: 1345.6462 - val_loss: 4850174.5000 - val_root_mean_squared_error: 2202.3113 - lr: 3.1333e-06\n",
            "Epoch 49/200\n",
            "5/5 [==============================] - 0s 41ms/step - loss: 1808447.3750 - root_mean_squared_error: 1344.7853 - val_loss: 4843943.5000 - val_root_mean_squared_error: 2200.8960 - lr: 3.2000e-06\n",
            "Epoch 50/200\n",
            "5/5 [==============================] - 0s 42ms/step - loss: 1806018.7500 - root_mean_squared_error: 1343.8820 - val_loss: 4837733.5000 - val_root_mean_squared_error: 2199.4849 - lr: 3.2667e-06\n",
            "Epoch 51/200\n",
            "5/5 [==============================] - 0s 43ms/step - loss: 1803600.7500 - root_mean_squared_error: 1342.9819 - val_loss: 4831640.0000 - val_root_mean_squared_error: 2198.0991 - lr: 3.3333e-06\n",
            "Epoch 52/200\n",
            "5/5 [==============================] - 0s 41ms/step - loss: 1801048.2500 - root_mean_squared_error: 1342.0315 - val_loss: 4825670.0000 - val_root_mean_squared_error: 2196.7407 - lr: 3.4000e-06\n",
            "Epoch 53/200\n",
            "5/5 [==============================] - 0s 105ms/step - loss: 1798456.8750 - root_mean_squared_error: 1341.0657 - val_loss: 4819775.0000 - val_root_mean_squared_error: 2195.3987 - lr: 3.4667e-06\n",
            "Epoch 54/200\n",
            "5/5 [==============================] - 0s 87ms/step - loss: 1795800.3750 - root_mean_squared_error: 1340.0748 - val_loss: 4813591.0000 - val_root_mean_squared_error: 2193.9897 - lr: 3.5333e-06\n",
            "Epoch 55/200\n",
            "5/5 [==============================] - 0s 50ms/step - loss: 1793139.8750 - root_mean_squared_error: 1339.0818 - val_loss: 4807221.0000 - val_root_mean_squared_error: 2192.5376 - lr: 3.6000e-06\n",
            "Epoch 56/200\n",
            "5/5 [==============================] - 0s 41ms/step - loss: 1790466.5000 - root_mean_squared_error: 1338.0830 - val_loss: 4800567.0000 - val_root_mean_squared_error: 2191.0195 - lr: 3.6667e-06\n",
            "Epoch 57/200\n",
            "5/5 [==============================] - 0s 42ms/step - loss: 1787742.0000 - root_mean_squared_error: 1337.0647 - val_loss: 4793452.5000 - val_root_mean_squared_error: 2189.3953 - lr: 3.7333e-06\n",
            "Epoch 58/200\n",
            "5/5 [==============================] - 0s 43ms/step - loss: 1784996.1250 - root_mean_squared_error: 1336.0375 - val_loss: 4786209.5000 - val_root_mean_squared_error: 2187.7407 - lr: 3.8000e-06\n",
            "Epoch 59/200\n",
            "5/5 [==============================] - 0s 41ms/step - loss: 1782321.1250 - root_mean_squared_error: 1335.0360 - val_loss: 4778749.5000 - val_root_mean_squared_error: 2186.0352 - lr: 3.8667e-06\n",
            "Epoch 60/200\n",
            "5/5 [==============================] - 0s 40ms/step - loss: 1779606.7500 - root_mean_squared_error: 1334.0189 - val_loss: 4771368.0000 - val_root_mean_squared_error: 2184.3462 - lr: 3.9333e-06\n",
            "Epoch 61/200\n",
            "5/5 [==============================] - 0s 41ms/step - loss: 1777002.1250 - root_mean_squared_error: 1333.0425 - val_loss: 4764006.0000 - val_root_mean_squared_error: 2182.6602 - lr: 4.0000e-06\n",
            "Epoch 62/200\n",
            "5/5 [==============================] - 0s 43ms/step - loss: 1774190.3750 - root_mean_squared_error: 1331.9874 - val_loss: 4756686.5000 - val_root_mean_squared_error: 2180.9829 - lr: 4.0667e-06\n",
            "Epoch 63/200\n",
            "5/5 [==============================] - 0s 42ms/step - loss: 1771388.3750 - root_mean_squared_error: 1330.9352 - val_loss: 4749165.0000 - val_root_mean_squared_error: 2179.2578 - lr: 4.1333e-06\n",
            "Epoch 64/200\n",
            "5/5 [==============================] - 0s 41ms/step - loss: 1768544.0000 - root_mean_squared_error: 1329.8662 - val_loss: 4741203.0000 - val_root_mean_squared_error: 2177.4304 - lr: 4.2000e-06\n",
            "Epoch 65/200\n",
            "5/5 [==============================] - 0s 42ms/step - loss: 1765565.8750 - root_mean_squared_error: 1328.7461 - val_loss: 4732984.5000 - val_root_mean_squared_error: 2175.5422 - lr: 4.2667e-06\n",
            "Epoch 66/200\n",
            "5/5 [==============================] - 0s 41ms/step - loss: 1762479.6250 - root_mean_squared_error: 1327.5841 - val_loss: 4724858.0000 - val_root_mean_squared_error: 2173.6738 - lr: 4.3333e-06\n",
            "Epoch 67/200\n",
            "5/5 [==============================] - 0s 44ms/step - loss: 1759476.7500 - root_mean_squared_error: 1326.4526 - val_loss: 4716798.0000 - val_root_mean_squared_error: 2171.8188 - lr: 4.4000e-06\n",
            "Epoch 68/200\n",
            "5/5 [==============================] - 0s 41ms/step - loss: 1756490.6250 - root_mean_squared_error: 1325.3267 - val_loss: 4708726.5000 - val_root_mean_squared_error: 2169.9600 - lr: 4.4667e-06\n",
            "Epoch 69/200\n",
            "5/5 [==============================] - 0s 41ms/step - loss: 1753475.8750 - root_mean_squared_error: 1324.1888 - val_loss: 4700677.0000 - val_root_mean_squared_error: 2168.1045 - lr: 4.5333e-06\n",
            "Epoch 70/200\n",
            "5/5 [==============================] - 0s 42ms/step - loss: 1750441.3750 - root_mean_squared_error: 1323.0425 - val_loss: 4692757.5000 - val_root_mean_squared_error: 2166.2771 - lr: 4.6000e-06\n",
            "Epoch 71/200\n",
            "5/5 [==============================] - 0s 41ms/step - loss: 1747485.0000 - root_mean_squared_error: 1321.9248 - val_loss: 4684685.5000 - val_root_mean_squared_error: 2164.4133 - lr: 4.6667e-06\n",
            "Epoch 72/200\n",
            "5/5 [==============================] - 0s 45ms/step - loss: 1744488.0000 - root_mean_squared_error: 1320.7906 - val_loss: 4676188.5000 - val_root_mean_squared_error: 2162.4497 - lr: 4.7333e-06\n",
            "Epoch 73/200\n",
            "5/5 [==============================] - 0s 44ms/step - loss: 1741444.3750 - root_mean_squared_error: 1319.6379 - val_loss: 4667885.0000 - val_root_mean_squared_error: 2160.5288 - lr: 4.8000e-06\n",
            "Epoch 74/200\n",
            "5/5 [==============================] - 0s 42ms/step - loss: 1738423.1250 - root_mean_squared_error: 1318.4928 - val_loss: 4659713.5000 - val_root_mean_squared_error: 2158.6370 - lr: 4.8667e-06\n",
            "Epoch 75/200\n",
            "5/5 [==============================] - 0s 42ms/step - loss: 1735205.6250 - root_mean_squared_error: 1317.2722 - val_loss: 4651498.0000 - val_root_mean_squared_error: 2156.7332 - lr: 4.9333e-06\n",
            "Epoch 76/200\n",
            "5/5 [==============================] - 0s 42ms/step - loss: 1732002.1250 - root_mean_squared_error: 1316.0555 - val_loss: 4642416.5000 - val_root_mean_squared_error: 2154.6267 - lr: 5.0000e-06\n",
            "Epoch 77/200\n",
            "5/5 [==============================] - 0s 44ms/step - loss: 1728659.6250 - root_mean_squared_error: 1314.7850 - val_loss: 4633487.0000 - val_root_mean_squared_error: 2152.5535 - lr: 5.0667e-06\n",
            "Epoch 78/200\n",
            "5/5 [==============================] - 0s 42ms/step - loss: 1725294.1250 - root_mean_squared_error: 1313.5045 - val_loss: 4624669.0000 - val_root_mean_squared_error: 2150.5044 - lr: 5.1333e-06\n",
            "Epoch 79/200\n",
            "5/5 [==============================] - 0s 43ms/step - loss: 1721835.5000 - root_mean_squared_error: 1312.1873 - val_loss: 4615492.0000 - val_root_mean_squared_error: 2148.3696 - lr: 5.2000e-06\n",
            "Epoch 80/200\n",
            "5/5 [==============================] - 0s 41ms/step - loss: 1718207.1250 - root_mean_squared_error: 1310.8040 - val_loss: 4605826.5000 - val_root_mean_squared_error: 2146.1189 - lr: 5.2667e-06\n",
            "Epoch 81/200\n",
            "5/5 [==============================] - 0s 44ms/step - loss: 1714453.8750 - root_mean_squared_error: 1309.3716 - val_loss: 4595185.5000 - val_root_mean_squared_error: 2143.6384 - lr: 5.3333e-06\n",
            "Epoch 82/200\n",
            "5/5 [==============================] - 0s 44ms/step - loss: 1710280.5000 - root_mean_squared_error: 1307.7770 - val_loss: 4585620.5000 - val_root_mean_squared_error: 2141.4062 - lr: 5.4000e-06\n",
            "Epoch 83/200\n",
            "5/5 [==============================] - 0s 41ms/step - loss: 1706058.8750 - root_mean_squared_error: 1306.1619 - val_loss: 4574009.5000 - val_root_mean_squared_error: 2138.6934 - lr: 5.4667e-06\n",
            "Epoch 84/200\n",
            "5/5 [==============================] - 0s 42ms/step - loss: 1701553.6250 - root_mean_squared_error: 1304.4362 - val_loss: 4558006.5000 - val_root_mean_squared_error: 2134.9487 - lr: 5.5333e-06\n",
            "Epoch 85/200\n",
            "5/5 [==============================] - 0s 41ms/step - loss: 1696797.6250 - root_mean_squared_error: 1302.6118 - val_loss: 4540794.0000 - val_root_mean_squared_error: 2130.9138 - lr: 5.6000e-06\n",
            "Epoch 86/200\n",
            "5/5 [==============================] - 0s 45ms/step - loss: 1691374.5000 - root_mean_squared_error: 1300.5286 - val_loss: 4523952.0000 - val_root_mean_squared_error: 2126.9585 - lr: 5.6667e-06\n",
            "Epoch 87/200\n",
            "5/5 [==============================] - 0s 40ms/step - loss: 1685539.8750 - root_mean_squared_error: 1298.2833 - val_loss: 4509888.5000 - val_root_mean_squared_error: 2123.6499 - lr: 5.7333e-06\n",
            "Epoch 88/200\n",
            "5/5 [==============================] - 0s 41ms/step - loss: 1679458.0000 - root_mean_squared_error: 1295.9391 - val_loss: 4500233.5000 - val_root_mean_squared_error: 2121.3752 - lr: 5.8000e-06\n",
            "Epoch 89/200\n",
            "5/5 [==============================] - 0s 42ms/step - loss: 1673604.5000 - root_mean_squared_error: 1293.6787 - val_loss: 4484252.0000 - val_root_mean_squared_error: 2117.6055 - lr: 5.8667e-06\n",
            "Epoch 90/200\n",
            "5/5 [==============================] - 0s 42ms/step - loss: 1666705.7500 - root_mean_squared_error: 1291.0095 - val_loss: 4455490.0000 - val_root_mean_squared_error: 2110.8032 - lr: 5.9333e-06\n",
            "Epoch 91/200\n",
            "5/5 [==============================] - 0s 43ms/step - loss: 1659074.1250 - root_mean_squared_error: 1288.0505 - val_loss: 4435353.0000 - val_root_mean_squared_error: 2106.0278 - lr: 6.0000e-06\n",
            "Epoch 92/200\n",
            "5/5 [==============================] - 0s 45ms/step - loss: 1651644.7500 - root_mean_squared_error: 1285.1633 - val_loss: 4419984.0000 - val_root_mean_squared_error: 2102.3757 - lr: 6.0667e-06\n",
            "Epoch 93/200\n",
            "5/5 [==============================] - 0s 42ms/step - loss: 1644890.0000 - root_mean_squared_error: 1282.5326 - val_loss: 4406633.0000 - val_root_mean_squared_error: 2099.1982 - lr: 6.1333e-06\n",
            "Epoch 94/200\n",
            "5/5 [==============================] - 0s 40ms/step - loss: 1638308.5000 - root_mean_squared_error: 1279.9641 - val_loss: 4392947.0000 - val_root_mean_squared_error: 2095.9358 - lr: 6.2000e-06\n",
            "Epoch 95/200\n",
            "5/5 [==============================] - 0s 41ms/step - loss: 1631766.0000 - root_mean_squared_error: 1277.4059 - val_loss: 4374779.5000 - val_root_mean_squared_error: 2091.5974 - lr: 6.2667e-06\n",
            "Epoch 96/200\n",
            "5/5 [==============================] - 0s 45ms/step - loss: 1624386.7500 - root_mean_squared_error: 1274.5143 - val_loss: 4351979.5000 - val_root_mean_squared_error: 2086.1399 - lr: 6.3333e-06\n",
            "Epoch 97/200\n",
            "5/5 [==============================] - 0s 43ms/step - loss: 1616067.5000 - root_mean_squared_error: 1271.2463 - val_loss: 4322560.5000 - val_root_mean_squared_error: 2079.0769 - lr: 6.4000e-06\n",
            "Epoch 98/200\n",
            "5/5 [==============================] - 0s 42ms/step - loss: 1606342.3750 - root_mean_squared_error: 1267.4156 - val_loss: 4295289.5000 - val_root_mean_squared_error: 2072.5081 - lr: 6.4667e-06\n",
            "Epoch 99/200\n",
            "5/5 [==============================] - 0s 43ms/step - loss: 1597731.5000 - root_mean_squared_error: 1264.0140 - val_loss: 4271152.0000 - val_root_mean_squared_error: 2066.6765 - lr: 6.5333e-06\n",
            "Epoch 100/200\n",
            "5/5 [==============================] - 0s 42ms/step - loss: 1588903.2500 - root_mean_squared_error: 1260.5170 - val_loss: 4245363.0000 - val_root_mean_squared_error: 2060.4277 - lr: 6.6000e-06\n",
            "Epoch 101/200\n",
            "5/5 [==============================] - 0s 45ms/step - loss: 1579784.7500 - root_mean_squared_error: 1256.8949 - val_loss: 4218262.0000 - val_root_mean_squared_error: 2053.8408 - lr: 6.6667e-06\n",
            "Epoch 102/200\n",
            "5/5 [==============================] - 0s 42ms/step - loss: 1570269.2500 - root_mean_squared_error: 1253.1039 - val_loss: 4185690.0000 - val_root_mean_squared_error: 2045.8959 - lr: 6.7333e-06\n",
            "Epoch 103/200\n",
            "5/5 [==============================] - 0s 46ms/step - loss: 1558743.1250 - root_mean_squared_error: 1248.4963 - val_loss: 4159839.2500 - val_root_mean_squared_error: 2039.5684 - lr: 6.8000e-06\n",
            "Epoch 104/200\n",
            "5/5 [==============================] - 0s 42ms/step - loss: 1546014.3750 - root_mean_squared_error: 1243.3882 - val_loss: 4117683.2500 - val_root_mean_squared_error: 2029.2075 - lr: 6.8667e-06\n",
            "Epoch 105/200\n",
            "5/5 [==============================] - 0s 42ms/step - loss: 1530339.5000 - root_mean_squared_error: 1237.0690 - val_loss: 4073442.2500 - val_root_mean_squared_error: 2018.2772 - lr: 6.9333e-06\n",
            "Epoch 106/200\n",
            "5/5 [==============================] - 0s 46ms/step - loss: 1513385.0000 - root_mean_squared_error: 1230.1971 - val_loss: 4024849.0000 - val_root_mean_squared_error: 2006.2025 - lr: 7.0000e-06\n",
            "Epoch 107/200\n",
            "5/5 [==============================] - 0s 42ms/step - loss: 1495636.2500 - root_mean_squared_error: 1222.9620 - val_loss: 3982083.0000 - val_root_mean_squared_error: 1995.5159 - lr: 7.0667e-06\n",
            "Epoch 108/200\n",
            "5/5 [==============================] - 0s 42ms/step - loss: 1479861.3750 - root_mean_squared_error: 1216.4955 - val_loss: 3941161.5000 - val_root_mean_squared_error: 1985.2358 - lr: 7.1333e-06\n",
            "Epoch 109/200\n",
            "5/5 [==============================] - 0s 43ms/step - loss: 1463899.7500 - root_mean_squared_error: 1209.9172 - val_loss: 3898788.7500 - val_root_mean_squared_error: 1974.5352 - lr: 7.2000e-06\n",
            "Epoch 110/200\n",
            "5/5 [==============================] - 0s 43ms/step - loss: 1447847.3750 - root_mean_squared_error: 1203.2653 - val_loss: 3857352.0000 - val_root_mean_squared_error: 1964.0142 - lr: 7.2667e-06\n",
            "Epoch 111/200\n",
            "5/5 [==============================] - 0s 44ms/step - loss: 1430473.5000 - root_mean_squared_error: 1196.0240 - val_loss: 3815442.7500 - val_root_mean_squared_error: 1953.3158 - lr: 7.3333e-06\n",
            "Epoch 112/200\n",
            "5/5 [==============================] - 0s 42ms/step - loss: 1412402.2500 - root_mean_squared_error: 1188.4453 - val_loss: 3767262.2500 - val_root_mean_squared_error: 1940.9437 - lr: 7.4000e-06\n",
            "Epoch 113/200\n",
            "5/5 [==============================] - 0s 43ms/step - loss: 1394477.0000 - root_mean_squared_error: 1180.8798 - val_loss: 3717316.7500 - val_root_mean_squared_error: 1928.0345 - lr: 7.4667e-06\n",
            "Epoch 114/200\n",
            "5/5 [==============================] - 0s 42ms/step - loss: 1377097.0000 - root_mean_squared_error: 1173.4977 - val_loss: 3669292.7500 - val_root_mean_squared_error: 1915.5397 - lr: 7.5333e-06\n",
            "Epoch 115/200\n",
            "5/5 [==============================] - 0s 44ms/step - loss: 1360569.7500 - root_mean_squared_error: 1166.4347 - val_loss: 3630124.2500 - val_root_mean_squared_error: 1905.2885 - lr: 7.6000e-06\n",
            "Epoch 116/200\n",
            "5/5 [==============================] - 0s 42ms/step - loss: 1344411.0000 - root_mean_squared_error: 1159.4875 - val_loss: 3585400.7500 - val_root_mean_squared_error: 1893.5155 - lr: 7.6667e-06\n",
            "Epoch 117/200\n",
            "5/5 [==============================] - 0s 43ms/step - loss: 1327726.1250 - root_mean_squared_error: 1152.2700 - val_loss: 3532118.2500 - val_root_mean_squared_error: 1879.3929 - lr: 7.7333e-06\n",
            "Epoch 118/200\n",
            "5/5 [==============================] - 0s 42ms/step - loss: 1309132.2500 - root_mean_squared_error: 1144.1732 - val_loss: 3483218.7500 - val_root_mean_squared_error: 1866.3383 - lr: 7.8000e-06\n",
            "Epoch 119/200\n",
            "5/5 [==============================] - 0s 43ms/step - loss: 1289302.8750 - root_mean_squared_error: 1135.4747 - val_loss: 3428886.5000 - val_root_mean_squared_error: 1851.7252 - lr: 7.8667e-06\n",
            "Epoch 120/200\n",
            "5/5 [==============================] - 0s 46ms/step - loss: 1266508.0000 - root_mean_squared_error: 1125.3925 - val_loss: 3378450.2500 - val_root_mean_squared_error: 1838.0562 - lr: 7.9333e-06\n",
            "Epoch 121/200\n",
            "5/5 [==============================] - 0s 44ms/step - loss: 1241626.1250 - root_mean_squared_error: 1114.2828 - val_loss: 3302017.7500 - val_root_mean_squared_error: 1817.1455 - lr: 8.0000e-06\n",
            "Epoch 122/200\n",
            "5/5 [==============================] - 0s 42ms/step - loss: 1218495.5000 - root_mean_squared_error: 1103.8547 - val_loss: 3236596.7500 - val_root_mean_squared_error: 1799.0544 - lr: 8.0667e-06\n",
            "Epoch 123/200\n",
            "5/5 [==============================] - 0s 42ms/step - loss: 1195771.5000 - root_mean_squared_error: 1093.5134 - val_loss: 3171748.2500 - val_root_mean_squared_error: 1780.9403 - lr: 8.1333e-06\n",
            "Epoch 124/200\n",
            "5/5 [==============================] - 0s 42ms/step - loss: 1170756.2500 - root_mean_squared_error: 1082.0149 - val_loss: 3102563.7500 - val_root_mean_squared_error: 1761.4095 - lr: 8.2000e-06\n",
            "Epoch 125/200\n",
            "5/5 [==============================] - 0s 47ms/step - loss: 1143679.7500 - root_mean_squared_error: 1069.4296 - val_loss: 3017764.7500 - val_root_mean_squared_error: 1737.1715 - lr: 8.2667e-06\n",
            "Epoch 126/200\n",
            "5/5 [==============================] - 0s 41ms/step - loss: 1114570.6250 - root_mean_squared_error: 1055.7323 - val_loss: 2942518.5000 - val_root_mean_squared_error: 1715.3771 - lr: 8.3333e-06\n",
            "Epoch 127/200\n",
            "5/5 [==============================] - 0s 44ms/step - loss: 1086538.5000 - root_mean_squared_error: 1042.3716 - val_loss: 2869001.7500 - val_root_mean_squared_error: 1693.8129 - lr: 8.4000e-06\n",
            "Epoch 128/200\n",
            "5/5 [==============================] - 0s 45ms/step - loss: 1057684.8750 - root_mean_squared_error: 1028.4381 - val_loss: 2793528.0000 - val_root_mean_squared_error: 1671.3850 - lr: 8.4667e-06\n",
            "Epoch 129/200\n",
            "5/5 [==============================] - 0s 44ms/step - loss: 1028379.2500 - root_mean_squared_error: 1014.0903 - val_loss: 2713441.7500 - val_root_mean_squared_error: 1647.2527 - lr: 8.5333e-06\n",
            "Epoch 130/200\n",
            "5/5 [==============================] - 0s 48ms/step - loss: 997187.4375 - root_mean_squared_error: 998.5927 - val_loss: 2617831.5000 - val_root_mean_squared_error: 1617.9714 - lr: 8.6000e-06\n",
            "Epoch 131/200\n",
            "5/5 [==============================] - 0s 41ms/step - loss: 964362.1875 - root_mean_squared_error: 982.0195 - val_loss: 2541152.5000 - val_root_mean_squared_error: 1594.0992 - lr: 8.6667e-06\n",
            "Epoch 132/200\n",
            "5/5 [==============================] - 0s 44ms/step - loss: 928427.9375 - root_mean_squared_error: 963.5497 - val_loss: 2463283.5000 - val_root_mean_squared_error: 1569.4850 - lr: 8.7333e-06\n",
            "Epoch 133/200\n",
            "5/5 [==============================] - 0s 43ms/step - loss: 891182.3750 - root_mean_squared_error: 944.0246 - val_loss: 2341631.5000 - val_root_mean_squared_error: 1530.2391 - lr: 8.8000e-06\n",
            "Epoch 134/200\n",
            "5/5 [==============================] - 0s 46ms/step - loss: 850365.1250 - root_mean_squared_error: 922.1525 - val_loss: 2235264.7500 - val_root_mean_squared_error: 1495.0801 - lr: 8.8667e-06\n",
            "Epoch 135/200\n",
            "5/5 [==============================] - 0s 43ms/step - loss: 808775.8125 - root_mean_squared_error: 899.3196 - val_loss: 2128475.0000 - val_root_mean_squared_error: 1458.9294 - lr: 8.9333e-06\n",
            "Epoch 136/200\n",
            "5/5 [==============================] - 0s 46ms/step - loss: 767866.8125 - root_mean_squared_error: 876.2801 - val_loss: 2016676.8750 - val_root_mean_squared_error: 1420.0975 - lr: 9.0000e-06\n",
            "Epoch 137/200\n",
            "5/5 [==============================] - 0s 45ms/step - loss: 707354.0625 - root_mean_squared_error: 841.0435 - val_loss: 1802529.7500 - val_root_mean_squared_error: 1342.5833 - lr: 9.0667e-06\n",
            "Epoch 138/200\n",
            "5/5 [==============================] - 0s 44ms/step - loss: 643744.2500 - root_mean_squared_error: 802.3367 - val_loss: 1685138.8750 - val_root_mean_squared_error: 1298.1290 - lr: 9.1333e-06\n",
            "Epoch 139/200\n",
            "5/5 [==============================] - 0s 46ms/step - loss: 602732.4375 - root_mean_squared_error: 776.3585 - val_loss: 1548741.5000 - val_root_mean_squared_error: 1244.4845 - lr: 9.2000e-06\n",
            "Epoch 140/200\n",
            "5/5 [==============================] - 0s 45ms/step - loss: 553877.1875 - root_mean_squared_error: 744.2292 - val_loss: 1416162.3750 - val_root_mean_squared_error: 1190.0261 - lr: 9.2667e-06\n",
            "Epoch 141/200\n",
            "5/5 [==============================] - 0s 42ms/step - loss: 507616.8750 - root_mean_squared_error: 712.4724 - val_loss: 1422900.7500 - val_root_mean_squared_error: 1192.8540 - lr: 9.3333e-06\n",
            "Epoch 142/200\n",
            "5/5 [==============================] - 0s 44ms/step - loss: 468897.6875 - root_mean_squared_error: 684.7611 - val_loss: 1203277.8750 - val_root_mean_squared_error: 1096.9402 - lr: 9.4000e-06\n",
            "Epoch 143/200\n",
            "5/5 [==============================] - 0s 47ms/step - loss: 430207.8750 - root_mean_squared_error: 655.9023 - val_loss: 1098994.7500 - val_root_mean_squared_error: 1048.3295 - lr: 9.4667e-06\n",
            "Epoch 144/200\n",
            "5/5 [==============================] - 0s 45ms/step - loss: 388627.4688 - root_mean_squared_error: 623.3999 - val_loss: 986594.7500 - val_root_mean_squared_error: 993.2748 - lr: 9.5333e-06\n",
            "Epoch 145/200\n",
            "5/5 [==============================] - 0s 44ms/step - loss: 344648.5625 - root_mean_squared_error: 587.0677 - val_loss: 874877.3750 - val_root_mean_squared_error: 935.3488 - lr: 9.6000e-06\n",
            "Epoch 146/200\n",
            "5/5 [==============================] - 0s 42ms/step - loss: 302167.9375 - root_mean_squared_error: 549.6981 - val_loss: 757696.6250 - val_root_mean_squared_error: 870.4576 - lr: 9.6667e-06\n",
            "Epoch 147/200\n",
            "5/5 [==============================] - 0s 45ms/step - loss: 263178.1875 - root_mean_squared_error: 513.0090 - val_loss: 677247.0625 - val_root_mean_squared_error: 822.9502 - lr: 9.7333e-06\n",
            "Epoch 148/200\n",
            "5/5 [==============================] - 0s 46ms/step - loss: 226980.5469 - root_mean_squared_error: 476.4247 - val_loss: 566805.8125 - val_root_mean_squared_error: 752.8651 - lr: 9.8000e-06\n",
            "Epoch 149/200\n",
            "5/5 [==============================] - 0s 44ms/step - loss: 187421.7344 - root_mean_squared_error: 432.9223 - val_loss: 454780.7500 - val_root_mean_squared_error: 674.3743 - lr: 9.8667e-06\n",
            "Epoch 150/200\n",
            "5/5 [==============================] - 0s 44ms/step - loss: 146475.4531 - root_mean_squared_error: 382.7211 - val_loss: 343672.5938 - val_root_mean_squared_error: 586.2360 - lr: 9.9333e-06\n",
            "Epoch 151/200\n",
            "5/5 [==============================] - 0s 43ms/step - loss: 115197.2422 - root_mean_squared_error: 339.4072 - val_loss: 268529.1875 - val_root_mean_squared_error: 518.1980 - lr: 1.0000e-05\n",
            "Epoch 152/200\n",
            "5/5 [==============================] - 0s 43ms/step - loss: 92045.2891 - root_mean_squared_error: 303.3897 - val_loss: 215307.4688 - val_root_mean_squared_error: 464.0124 - lr: 9.9005e-06\n",
            "Epoch 153/200\n",
            "5/5 [==============================] - 0s 45ms/step - loss: 71964.3438 - root_mean_squared_error: 268.2617 - val_loss: 172609.2344 - val_root_mean_squared_error: 415.4627 - lr: 9.8020e-06\n",
            "Epoch 154/200\n",
            "5/5 [==============================] - 0s 44ms/step - loss: 56155.1172 - root_mean_squared_error: 236.9707 - val_loss: 132756.3125 - val_root_mean_squared_error: 364.3574 - lr: 9.7045e-06\n",
            "Epoch 155/200\n",
            "5/5 [==============================] - 0s 41ms/step - loss: 44022.4883 - root_mean_squared_error: 209.8154 - val_loss: 104173.6172 - val_root_mean_squared_error: 322.7594 - lr: 9.6079e-06\n",
            "Epoch 156/200\n",
            "5/5 [==============================] - 0s 41ms/step - loss: 31616.2383 - root_mean_squared_error: 177.8096 - val_loss: 67467.2656 - val_root_mean_squared_error: 259.7446 - lr: 9.5123e-06\n",
            "Epoch 157/200\n",
            "5/5 [==============================] - 0s 41ms/step - loss: 23887.0078 - root_mean_squared_error: 154.5542 - val_loss: 49891.6484 - val_root_mean_squared_error: 223.3644 - lr: 9.4176e-06\n",
            "Epoch 158/200\n",
            "5/5 [==============================] - 0s 46ms/step - loss: 17717.6191 - root_mean_squared_error: 133.1075 - val_loss: 37874.9414 - val_root_mean_squared_error: 194.6148 - lr: 9.3239e-06\n",
            "Epoch 159/200\n",
            "5/5 [==============================] - 0s 43ms/step - loss: 13307.9150 - root_mean_squared_error: 115.3599 - val_loss: 31680.1797 - val_root_mean_squared_error: 177.9893 - lr: 9.2312e-06\n",
            "Epoch 160/200\n",
            "5/5 [==============================] - 0s 43ms/step - loss: 10855.7627 - root_mean_squared_error: 104.1910 - val_loss: 27169.8672 - val_root_mean_squared_error: 164.8328 - lr: 9.1393e-06\n",
            "Epoch 161/200\n",
            "5/5 [==============================] - 0s 43ms/step - loss: 9571.1533 - root_mean_squared_error: 97.8323 - val_loss: 24072.7832 - val_root_mean_squared_error: 155.1541 - lr: 9.0484e-06\n",
            "Epoch 162/200\n",
            "5/5 [==============================] - 0s 42ms/step - loss: 8610.1123 - root_mean_squared_error: 92.7907 - val_loss: 20971.8262 - val_root_mean_squared_error: 144.8165 - lr: 8.9583e-06\n",
            "Epoch 163/200\n",
            "5/5 [==============================] - 0s 47ms/step - loss: 7871.2412 - root_mean_squared_error: 88.7200 - val_loss: 18860.9492 - val_root_mean_squared_error: 137.3352 - lr: 8.8692e-06\n",
            "Epoch 164/200\n",
            "5/5 [==============================] - 0s 41ms/step - loss: 7213.7324 - root_mean_squared_error: 84.9337 - val_loss: 16929.7910 - val_root_mean_squared_error: 130.1145 - lr: 8.7810e-06\n",
            "Epoch 165/200\n",
            "5/5 [==============================] - 0s 43ms/step - loss: 6785.5737 - root_mean_squared_error: 82.3746 - val_loss: 15035.7021 - val_root_mean_squared_error: 122.6201 - lr: 8.6936e-06\n",
            "Epoch 166/200\n",
            "5/5 [==============================] - 0s 43ms/step - loss: 6388.7217 - root_mean_squared_error: 79.9295 - val_loss: 14189.8916 - val_root_mean_squared_error: 119.1213 - lr: 8.6071e-06\n",
            "Epoch 167/200\n",
            "5/5 [==============================] - 0s 43ms/step - loss: 6012.9053 - root_mean_squared_error: 77.5429 - val_loss: 13672.9424 - val_root_mean_squared_error: 116.9314 - lr: 8.5214e-06\n",
            "Epoch 168/200\n",
            "5/5 [==============================] - 0s 42ms/step - loss: 5733.7935 - root_mean_squared_error: 75.7218 - val_loss: 13009.4648 - val_root_mean_squared_error: 114.0590 - lr: 8.4366e-06\n",
            "Epoch 169/200\n",
            "5/5 [==============================] - 0s 42ms/step - loss: 5525.1846 - root_mean_squared_error: 74.3316 - val_loss: 12375.3828 - val_root_mean_squared_error: 111.2447 - lr: 8.3527e-06\n",
            "Epoch 170/200\n",
            "5/5 [==============================] - 0s 43ms/step - loss: 5329.7734 - root_mean_squared_error: 73.0053 - val_loss: 11866.3809 - val_root_mean_squared_error: 108.9329 - lr: 8.2696e-06\n",
            "Epoch 171/200\n",
            "5/5 [==============================] - 0s 41ms/step - loss: 5169.3047 - root_mean_squared_error: 71.8979 - val_loss: 11334.9121 - val_root_mean_squared_error: 106.4655 - lr: 8.1873e-06\n",
            "Epoch 172/200\n",
            "5/5 [==============================] - 0s 46ms/step - loss: 5025.8193 - root_mean_squared_error: 70.8930 - val_loss: 10861.1143 - val_root_mean_squared_error: 104.2167 - lr: 8.1058e-06\n",
            "Epoch 173/200\n",
            "5/5 [==============================] - 0s 44ms/step - loss: 4900.3682 - root_mean_squared_error: 70.0026 - val_loss: 10715.0654 - val_root_mean_squared_error: 103.5136 - lr: 8.0252e-06\n",
            "Epoch 174/200\n",
            "5/5 [==============================] - 0s 42ms/step - loss: 4799.1064 - root_mean_squared_error: 69.2756 - val_loss: 10458.9814 - val_root_mean_squared_error: 102.2692 - lr: 7.9453e-06\n",
            "Epoch 175/200\n",
            "5/5 [==============================] - 0s 44ms/step - loss: 4707.8916 - root_mean_squared_error: 68.6141 - val_loss: 10180.1094 - val_root_mean_squared_error: 100.8965 - lr: 7.8663e-06\n",
            "Epoch 176/200\n",
            "5/5 [==============================] - 0s 43ms/step - loss: 4632.7339 - root_mean_squared_error: 68.0642 - val_loss: 10061.2949 - val_root_mean_squared_error: 100.3060 - lr: 7.7880e-06\n",
            "Epoch 177/200\n",
            "5/5 [==============================] - 0s 45ms/step - loss: 4572.5747 - root_mean_squared_error: 67.6208 - val_loss: 9852.2881 - val_root_mean_squared_error: 99.2587 - lr: 7.7105e-06\n",
            "Epoch 178/200\n",
            "5/5 [==============================] - 0s 51ms/step - loss: 4510.9746 - root_mean_squared_error: 67.1638 - val_loss: 9618.7646 - val_root_mean_squared_error: 98.0753 - lr: 7.6338e-06\n",
            "Epoch 179/200\n",
            "5/5 [==============================] - 0s 42ms/step - loss: 4443.8032 - root_mean_squared_error: 66.6618 - val_loss: 9241.9521 - val_root_mean_squared_error: 96.1351 - lr: 7.5578e-06\n",
            "Epoch 180/200\n",
            "5/5 [==============================] - 0s 43ms/step - loss: 4397.5195 - root_mean_squared_error: 66.3138 - val_loss: 8945.0137 - val_root_mean_squared_error: 94.5781 - lr: 7.4826e-06\n",
            "Epoch 181/200\n",
            "5/5 [==============================] - 0s 51ms/step - loss: 4357.7871 - root_mean_squared_error: 66.0135 - val_loss: 8980.3662 - val_root_mean_squared_error: 94.7648 - lr: 7.4082e-06\n",
            "Epoch 182/200\n",
            "5/5 [==============================] - 0s 42ms/step - loss: 4308.3149 - root_mean_squared_error: 65.6378 - val_loss: 8747.9326 - val_root_mean_squared_error: 93.5304 - lr: 7.3345e-06\n",
            "Epoch 183/200\n",
            "5/5 [==============================] - 0s 44ms/step - loss: 4266.7192 - root_mean_squared_error: 65.3201 - val_loss: 8702.5312 - val_root_mean_squared_error: 93.2874 - lr: 7.2615e-06\n",
            "Epoch 184/200\n",
            "5/5 [==============================] - 0s 43ms/step - loss: 4245.1279 - root_mean_squared_error: 65.1546 - val_loss: 8914.7393 - val_root_mean_squared_error: 94.4179 - lr: 7.1892e-06\n",
            "Epoch 185/200\n",
            "5/5 [==============================] - 0s 44ms/step - loss: 4187.9819 - root_mean_squared_error: 64.7146 - val_loss: 8697.1035 - val_root_mean_squared_error: 93.2583 - lr: 7.1177e-06\n",
            "Epoch 186/200\n",
            "5/5 [==============================] - 0s 45ms/step - loss: 4152.6436 - root_mean_squared_error: 64.4410 - val_loss: 8519.7822 - val_root_mean_squared_error: 92.3027 - lr: 7.0469e-06\n",
            "Epoch 187/200\n",
            "5/5 [==============================] - 0s 46ms/step - loss: 4144.6831 - root_mean_squared_error: 64.3792 - val_loss: 8245.0479 - val_root_mean_squared_error: 90.8022 - lr: 6.9768e-06\n",
            "Epoch 188/200\n",
            "5/5 [==============================] - 0s 42ms/step - loss: 4086.7886 - root_mean_squared_error: 63.9280 - val_loss: 8502.8740 - val_root_mean_squared_error: 92.2110 - lr: 6.9073e-06\n",
            "Epoch 189/200\n",
            "5/5 [==============================] - 0s 45ms/step - loss: 4072.4668 - root_mean_squared_error: 63.8159 - val_loss: 8499.0645 - val_root_mean_squared_error: 92.1904 - lr: 6.8386e-06\n",
            "Epoch 190/200\n",
            "5/5 [==============================] - 0s 44ms/step - loss: 4038.4604 - root_mean_squared_error: 63.5489 - val_loss: 8151.6890 - val_root_mean_squared_error: 90.2867 - lr: 6.7706e-06\n",
            "Epoch 191/200\n",
            "5/5 [==============================] - 0s 49ms/step - loss: 4011.3035 - root_mean_squared_error: 63.3349 - val_loss: 8148.4434 - val_root_mean_squared_error: 90.2687 - lr: 6.7032e-06\n",
            "Epoch 192/200\n",
            "5/5 [==============================] - 0s 43ms/step - loss: 3981.8787 - root_mean_squared_error: 63.1021 - val_loss: 8500.7793 - val_root_mean_squared_error: 92.1997 - lr: 6.6365e-06\n",
            "Epoch 193/200\n",
            "5/5 [==============================] - 0s 45ms/step - loss: 3973.5603 - root_mean_squared_error: 63.0362 - val_loss: 8443.3350 - val_root_mean_squared_error: 91.8876 - lr: 6.5705e-06\n",
            "Epoch 194/200\n",
            "5/5 [==============================] - 0s 44ms/step - loss: 3924.1577 - root_mean_squared_error: 62.6431 - val_loss: 8275.5771 - val_root_mean_squared_error: 90.9702 - lr: 6.5051e-06\n",
            "Epoch 195/200\n",
            "5/5 [==============================] - 0s 42ms/step - loss: 3714.0564 - root_mean_squared_error: 60.9431 - val_loss: 7158.6084 - val_root_mean_squared_error: 84.6086 - lr: 6.4404e-06\n",
            "Epoch 196/200\n",
            "5/5 [==============================] - 0s 47ms/step - loss: 3671.5935 - root_mean_squared_error: 60.5937 - val_loss: 7124.0176 - val_root_mean_squared_error: 84.4039 - lr: 6.3763e-06\n",
            "Epoch 197/200\n",
            "5/5 [==============================] - 0s 44ms/step - loss: 3515.6604 - root_mean_squared_error: 59.2930 - val_loss: 8070.9385 - val_root_mean_squared_error: 89.8384 - lr: 6.3128e-06\n",
            "Epoch 198/200\n",
            "5/5 [==============================] - 0s 44ms/step - loss: 3550.0344 - root_mean_squared_error: 59.5822 - val_loss: 8007.2500 - val_root_mean_squared_error: 89.4832 - lr: 6.2500e-06\n",
            "Epoch 199/200\n",
            "5/5 [==============================] - 0s 45ms/step - loss: 3439.4810 - root_mean_squared_error: 58.6471 - val_loss: 7497.1294 - val_root_mean_squared_error: 86.5860 - lr: 6.1878e-06\n",
            "Epoch 200/200\n",
            "5/5 [==============================] - 0s 44ms/step - loss: 3433.5664 - root_mean_squared_error: 58.5966 - val_loss: 7416.5669 - val_root_mean_squared_error: 86.1195 - lr: 6.1263e-06\n"
          ]
        }
      ]
    },
    {
      "cell_type": "code",
      "metadata": {
        "id": "vp7tR-PBaaL8"
      },
      "source": [
        "history_dict = RELIANCE_hist.history\n",
        "\n",
        "loss = history_dict[\"loss\"]\n",
        "root_mean_squared_error = history_dict[\"root_mean_squared_error\"]\n",
        "val_loss = history_dict[\"val_loss\"]\n",
        "val_root_mean_squared_error = history_dict[\"val_root_mean_squared_error\"]\n",
        "\n",
        "epochs = range(1, len(loss) + 1)"
      ],
      "execution_count": null,
      "outputs": []
    },
    {
      "cell_type": "code",
      "metadata": {
        "id": "DcU99odHbA-f",
        "colab": {
          "base_uri": "https://localhost:8080/",
          "height": 345
        },
        "outputId": "a6309944-b3ba-4db8-f841-2784e9de0aa3"
      },
      "source": [
        "fig, (ax1, ax2) = plt.subplots(1, 2)\n",
        "\n",
        "fig.set_figheight(5)\n",
        "fig.set_figwidth(15)\n",
        "\n",
        "ax1.plot(epochs, loss, label = \"Training Loss\")\n",
        "ax1.plot(epochs, val_loss, label = \"Validation Loss\")\n",
        "ax1.set(xlabel = \"Epochs\", ylabel = \"Loss\")\n",
        "ax1.legend()\n",
        "\n",
        "ax2.plot(epochs, root_mean_squared_error, label = \"Training Root Mean Squared Error\")\n",
        "ax2.plot(epochs, val_root_mean_squared_error, label = \"Validation Root Mean Squared Error\")\n",
        "ax2.set(xlabel = \"Epochs\", ylabel = \"Loss\")\n",
        "ax2.legend()\n",
        "\n",
        "plt.show()"
      ],
      "execution_count": null,
      "outputs": [
        {
          "output_type": "display_data",
          "data": {
            "text/plain": [
              "<Figure size 1080x360 with 2 Axes>"
            ],
            "image/png": "[encoded data removed]"
          },
          "metadata": {
            "needs_background": "light"
          }
        }
      ]
    },
    {
      "cell_type": "markdown",
      "metadata": {
        "id": "YKZETIgK1MgM"
      },
      "source": [
        "### Predicting the closing stock price of Reliance"
      ]
    },
    {
      "cell_type": "code",
      "metadata": {
        "id": "W5on4_hjbFb1"
      },
      "source": [
        "RELIANCE_prediction = RELIANCE_Model.predict(RELIANCE_Test_X)"
      ],
      "execution_count": null,
      "outputs": []
    },
    {
      "cell_type": "code",
      "metadata": {
        "id": "jqwt0ivCbBdD",
        "colab": {
          "base_uri": "https://localhost:8080/",
          "height": 334
        },
        "outputId": "a9704f93-41a3-4d6d-e6d2-00d76214a71b"
      },
      "source": [
        "plt.figure(figsize=(20, 5))\n",
        "plt.plot(RELIANCE['DATE'][RELIANCE['DATE'] < '2020-11-07'], RELIANCE['VWAP'][RELIANCE['DATE'] < '2020-11-07'], label = 'Training')\n",
        "plt.plot(RELIANCE['DATE'][RELIANCE['DATE'] >= '2020-11-07'], RELIANCE['VWAP'][RELIANCE['DATE'] >= '2020-11-07'], label = 'Testing')\n",
        "plt.plot(RELIANCE['DATE'][RELIANCE['DATE'] >= '2020-11-07'], RELIANCE_prediction.reshape(-1), label = 'Predictions')\n",
        "plt.xlabel('Time')\n",
        "plt.ylabel('Closing Price')\n",
        "plt.legend(loc = 'best')\n",
        "plt.show()"
      ],
      "execution_count": null,
      "outputs": [
        {
          "output_type": "display_data",
          "data": {
            "text/plain": [
              "<Figure size 1440x360 with 1 Axes>"
            ],
            "image/png": "[encoded data removed]"
          },
          "metadata": {
            "needs_background": "light"
          }
        }
      ]
    },
    {
      "cell_type": "code",
      "metadata": {
        "id": "Xdol8v86bkj5",
        "colab": {
          "base_uri": "https://localhost:8080/"
        },
        "outputId": "4263984d-ff53-4689-ee79-92165c41b51c"
      },
      "source": [
        "rmse = math.sqrt(mean_squared_error(RELIANCE_Test_Y.reshape(-1, 5), RELIANCE_prediction))\n",
        "mape = np.mean(np.abs(RELIANCE_prediction - RELIANCE_Test_Y.reshape(-1, 5))/np.abs(RELIANCE_Test_Y.reshape(-1, 5)))\n",
        "print(f'RMSE: {rmse}')\n",
        "print(f'MAPE: {mape}')"
      ],
      "execution_count": null,
      "outputs": [
        {
          "output_type": "stream",
          "name": "stdout",
          "text": [
            "RMSE: 86.11948918337981\n",
            "MAPE: 0.02845556873071148\n"
          ]
        }
      ]
    },
    {
      "cell_type": "markdown",
      "metadata": {
        "id": "7QKWND5DTruk"
      },
      "source": [
        "#Wipro"
      ]
    },
    {
      "cell_type": "code",
      "metadata": {
        "id": "6qpItzGXT1gu",
        "colab": {
          "base_uri": "https://localhost:8080/",
          "height": 206
        },
        "outputId": "a2431dae-6a9c-461f-a7e8-01b377c7c30d"
      },
      "source": [
        "WIPRO.head()"
      ],
      "execution_count": null,
      "outputs": [
        {
          "output_type": "execute_result",
          "data": {
            "text/plain": [
              "   Unnamed: 0        DATE SERIES    OPEN    HIGH     LOW  PREV. CLOSE     LTP  \\\n",
              "0           0  2022-05-16     EQ  474.00  474.35  465.00       468.65  468.80   \n",
              "1           1  2022-05-13     EQ  479.50  479.50  467.00       473.80  468.80   \n",
              "2           2  2022-05-12     EQ  468.10  476.00  462.15       471.90  475.50   \n",
              "3           3  2022-05-11     EQ  480.05  481.95  462.55       477.65  475.95   \n",
              "4           4  2022-05-10     EQ  483.00  483.75  476.15       483.15  477.10   \n",
              "\n",
              "    CLOSE    VWAP   52W H   52W L    VOLUME         VALUE  NO OF TRADES SYMBOL  \n",
              "0  468.00  468.95  739.85  462.15   3657033  1.714979e+09         92711  WIPRO  \n",
              "1  468.65  472.26  739.85  462.15   8387659  3.961189e+09        203118  WIPRO  \n",
              "2  473.80  470.53  739.85  462.15   7286500  3.428524e+09        173792  WIPRO  \n",
              "3  471.90  470.86  739.85  462.55  10514671  4.950967e+09        218374  WIPRO  \n",
              "4  477.65  480.28  739.85  474.60   7484767  3.594800e+09        171652  WIPRO  "
            ],
            "text/html": [
              "\n",
              "  <div id=\"df-85fc3ada-4b62-4ac9-a2ed-22c47d8687bf\">\n",
              "    <div class=\"colab-df-container\">\n",
              "      <div>\n",
              "<style scoped>\n",
              "    .dataframe tbody tr th:only-of-type {\n",
              "        vertical-align: middle;\n",
              "    }\n",
              "\n",
              "    .dataframe tbody tr th {\n",
              "        vertical-align: top;\n",
              "    }\n",
              "\n",
              "    .dataframe thead th {\n",
              "        text-align: right;\n",
              "    }\n",
              "</style>\n",
              "<table border=\"1\" class=\"dataframe\">\n",
              "  <thead>\n",
              "    <tr style=\"text-align: right;\">\n",
              "      <th></th>\n",
              "      <th>Unnamed: 0</th>\n",
              "      <th>DATE</th>\n",
              "      <th>SERIES</th>\n",
              "      <th>OPEN</th>\n",
              "      <th>HIGH</th>\n",
              "      <th>LOW</th>\n",
              "      <th>PREV. CLOSE</th>\n",
              "      <th>LTP</th>\n",
              "      <th>CLOSE</th>\n",
              "      <th>VWAP</th>\n",
              "      <th>52W H</th>\n",
              "      <th>52W L</th>\n",
              "      <th>VOLUME</th>\n",
              "      <th>VALUE</th>\n",
              "      <th>NO OF TRADES</th>\n",
              "      <th>SYMBOL</th>\n",
              "    </tr>\n",
              "  </thead>\n",
              "  <tbody>\n",
              "    <tr>\n",
              "      <th>0</th>\n",
              "      <td>0</td>\n",
              "      <td>2022-05-16</td>\n",
              "      <td>EQ</td>\n",
              "      <td>474.00</td>\n",
              "      <td>474.35</td>\n",
              "      <td>465.00</td>\n",
              "      <td>468.65</td>\n",
              "      <td>468.80</td>\n",
              "      <td>468.00</td>\n",
              "      <td>468.95</td>\n",
              "      <td>739.85</td>\n",
              "      <td>462.15</td>\n",
              "      <td>3657033</td>\n",
              "      <td>1.714979e+09</td>\n",
              "      <td>92711</td>\n",
              "      <td>WIPRO</td>\n",
              "    </tr>\n",
              "    <tr>\n",
              "      <th>1</th>\n",
              "      <td>1</td>\n",
              "      <td>2022-05-13</td>\n",
              "      <td>EQ</td>\n",
              "      <td>479.50</td>\n",
              "      <td>479.50</td>\n",
              "      <td>467.00</td>\n",
              "      <td>473.80</td>\n",
              "      <td>468.80</td>\n",
              "      <td>468.65</td>\n",
              "      <td>472.26</td>\n",
              "      <td>739.85</td>\n",
              "      <td>462.15</td>\n",
              "      <td>8387659</td>\n",
              "      <td>3.961189e+09</td>\n",
              "      <td>203118</td>\n",
              "      <td>WIPRO</td>\n",
              "    </tr>\n",
              "    <tr>\n",
              "      <th>2</th>\n",
              "      <td>2</td>\n",
              "      <td>2022-05-12</td>\n",
              "      <td>EQ</td>\n",
              "      <td>468.10</td>\n",
              "      <td>476.00</td>\n",
              "      <td>462.15</td>\n",
              "      <td>471.90</td>\n",
              "      <td>475.50</td>\n",
              "      <td>473.80</td>\n",
              "      <td>470.53</td>\n",
              "      <td>739.85</td>\n",
              "      <td>462.15</td>\n",
              "      <td>7286500</td>\n",
              "      <td>3.428524e+09</td>\n",
              "      <td>173792</td>\n",
              "      <td>WIPRO</td>\n",
              "    </tr>\n",
              "    <tr>\n",
              "      <th>3</th>\n",
              "      <td>3</td>\n",
              "      <td>2022-05-11</td>\n",
              "      <td>EQ</td>\n",
              "      <td>480.05</td>\n",
              "      <td>481.95</td>\n",
              "      <td>462.55</td>\n",
              "      <td>477.65</td>\n",
              "      <td>475.95</td>\n",
              "      <td>471.90</td>\n",
              "      <td>470.86</td>\n",
              "      <td>739.85</td>\n",
              "      <td>462.55</td>\n",
              "      <td>10514671</td>\n",
              "      <td>4.950967e+09</td>\n",
              "      <td>218374</td>\n",
              "      <td>WIPRO</td>\n",
              "    </tr>\n",
              "    <tr>\n",
              "      <th>4</th>\n",
              "      <td>4</td>\n",
              "      <td>2022-05-10</td>\n",
              "      <td>EQ</td>\n",
              "      <td>483.00</td>\n",
              "      <td>483.75</td>\n",
              "      <td>476.15</td>\n",
              "      <td>483.15</td>\n",
              "      <td>477.10</td>\n",
              "      <td>477.65</td>\n",
              "      <td>480.28</td>\n",
              "      <td>739.85</td>\n",
              "      <td>474.60</td>\n",
              "      <td>7484767</td>\n",
              "      <td>3.594800e+09</td>\n",
              "      <td>171652</td>\n",
              "      <td>WIPRO</td>\n",
              "    </tr>\n",
              "  </tbody>\n",
              "</table>\n",
              "</div>\n",
              "      <button class=\"colab-df-convert\" onclick=\"convertToInteractive('df-85fc3ada-4b62-4ac9-a2ed-22c47d8687bf')\"\n",
              "              title=\"Convert this dataframe to an interactive table.\"\n",
              "              style=\"display:none;\">\n",
              "        \n",
              "  <svg xmlns=\"http://www.w3.org/2000/svg\" height=\"24px\"viewBox=\"0 0 24 24\"\n",
              "       width=\"24px\">\n",
              "    <path d=\"M0 0h24v24H0V0z\" fill=\"none\"/>\n",
              "    <path d=\"M18.56 5.44l.94 2.06.94-2.06 2.06-.94-2.06-.94-.94-2.06-.94 2.06-2.06.94zm-11 1L8.5 8.5l.94-2.06 2.06-.94-2.06-.94L8.5 2.5l-.94 2.06-2.06.94zm10 10l.94 2.06.94-2.06 2.06-.94-2.06-.94-.94-2.06-.94 2.06-2.06.94z\"/><path d=\"M17.41 7.96l-1.37-1.37c-.4-.4-.92-.59-1.43-.59-.52 0-1.04.2-1.43.59L10.3 9.45l-7.72 7.72c-.78.78-.78 2.05 0 2.83L4 21.41c.39.39.9.59 1.41.59.51 0 1.02-.2 1.41-.59l7.78-7.78 2.81-2.81c.8-.78.8-2.07 0-2.86zM5.41 20L4 18.59l7.72-7.72 1.47 1.35L5.41 20z\"/>\n",
              "  </svg>\n",
              "      </button>\n",
              "      \n",
              "  <style>\n",
              "    .colab-df-container {\n",
              "      display:flex;\n",
              "      flex-wrap:wrap;\n",
              "      gap: 12px;\n",
              "    }\n",
              "\n",
              "    .colab-df-convert {\n",
              "      background-color: #E8F0FE;\n",
              "      border: none;\n",
              "      border-radius: 50%;\n",
              "      cursor: pointer;\n",
              "      display: none;\n",
              "      fill: #1967D2;\n",
              "      height: 32px;\n",
              "      padding: 0 0 0 0;\n",
              "      width: 32px;\n",
              "    }\n",
              "\n",
              "    .colab-df-convert:hover {\n",
              "      background-color: #E2EBFA;\n",
              "      box-shadow: 0px 1px 2px rgba(60, 64, 67, 0.3), 0px 1px 3px 1px rgba(60, 64, 67, 0.15);\n",
              "      fill: #174EA6;\n",
              "    }\n",
              "\n",
              "    [theme=dark] .colab-df-convert {\n",
              "      background-color: #3B4455;\n",
              "      fill: #D2E3FC;\n",
              "    }\n",
              "\n",
              "    [theme=dark] .colab-df-convert:hover {\n",
              "      background-color: #434B5C;\n",
              "      box-shadow: 0px 1px 3px 1px rgba(0, 0, 0, 0.15);\n",
              "      filter: drop-shadow(0px 1px 2px rgba(0, 0, 0, 0.3));\n",
              "      fill: #FFFFFF;\n",
              "    }\n",
              "  </style>\n",
              "\n",
              "      <script>\n",
              "        const buttonEl =\n",
              "          document.querySelector('#df-85fc3ada-4b62-4ac9-a2ed-22c47d8687bf button.colab-df-convert');\n",
              "        buttonEl.style.display =\n",
              "          google.colab.kernel.accessAllowed ? 'block' : 'none';\n",
              "\n",
              "        async function convertToInteractive(key) {\n",
              "          const element = document.querySelector('#df-85fc3ada-4b62-4ac9-a2ed-22c47d8687bf');\n",
              "          const dataTable =\n",
              "            await google.colab.kernel.invokeFunction('convertToInteractive',\n",
              "                                                     [key], {});\n",
              "          if (!dataTable) return;\n",
              "\n",
              "          const docLinkHtml = 'Like what you see? Visit the ' +\n",
              "            '<a target=\"_blank\" href=https://colab.research.google.com/notebooks/data_table.ipynb>data table notebook</a>'\n",
              "            + ' to learn more about interactive tables.';\n",
              "          element.innerHTML = '';\n",
              "          dataTable['output_type'] = 'display_data';\n",
              "          await google.colab.output.renderOutput(dataTable, element);\n",
              "          const docLink = document.createElement('div');\n",
              "          docLink.innerHTML = docLinkHtml;\n",
              "          element.appendChild(docLink);\n",
              "        }\n",
              "      </script>\n",
              "    </div>\n",
              "  </div>\n",
              "  "
            ]
          },
          "metadata": {},
          "execution_count": 57
        }
      ]
    },
    {
      "cell_type": "code",
      "metadata": {
        "id": "E3MHxY8bT7a5",
        "colab": {
          "base_uri": "https://localhost:8080/"
        },
        "outputId": "7380b666-d08c-4637-bdf8-7d5b80010f39"
      },
      "source": [
        "WIPRO.info()"
      ],
      "execution_count": null,
      "outputs": [
        {
          "output_type": "stream",
          "name": "stdout",
          "text": [
            "<class 'pandas.core.frame.DataFrame'>\n",
            "RangeIndex: 1081 entries, 0 to 1080\n",
            "Data columns (total 16 columns):\n",
            " #   Column        Non-Null Count  Dtype  \n",
            "---  ------        --------------  -----  \n",
            " 0   Unnamed: 0    1081 non-null   int64  \n",
            " 1   DATE          1081 non-null   object \n",
            " 2   SERIES        1081 non-null   object \n",
            " 3   OPEN          1081 non-null   float64\n",
            " 4   HIGH          1081 non-null   float64\n",
            " 5   LOW           1081 non-null   float64\n",
            " 6   PREV. CLOSE   1081 non-null   float64\n",
            " 7   LTP           1081 non-null   float64\n",
            " 8   CLOSE         1081 non-null   float64\n",
            " 9   VWAP          1081 non-null   float64\n",
            " 10  52W H         1081 non-null   float64\n",
            " 11  52W L         1081 non-null   float64\n",
            " 12  VOLUME        1081 non-null   int64  \n",
            " 13  VALUE         1081 non-null   float64\n",
            " 14  NO OF TRADES  1081 non-null   int64  \n",
            " 15  SYMBOL        1081 non-null   object \n",
            "dtypes: float64(10), int64(3), object(3)\n",
            "memory usage: 135.2+ KB\n"
          ]
        }
      ]
    },
    {
      "cell_type": "code",
      "source": [
        "WIPRO = WIPRO.drop(columns=['Unnamed: 0','SERIES','PREV. CLOSE','52W H','52W L','SYMBOL'])"
      ],
      "metadata": {
        "id": "GcjMIIjdnuJc"
      },
      "execution_count": null,
      "outputs": []
    },
    {
      "cell_type": "code",
      "metadata": {
        "id": "hYeHjmqGT8sh"
      },
      "source": [
        "# Change Dtype of Date column\n",
        "WIPRO[\"DATE\"] = pd.to_datetime(WIPRO[\"DATE\"])"
      ],
      "execution_count": null,
      "outputs": []
    },
    {
      "cell_type": "markdown",
      "metadata": {
        "id": "KCrPxO3S6uPh"
      },
      "source": [
        "###Split the Data into Training and Test set\n",
        "    Training Period: 2018-01-01 - 2020-09-30\n",
        "\n",
        "    Testing Period:  2020-10-01 - 2022-05-17"
      ]
    },
    {
      "cell_type": "code",
      "metadata": {
        "id": "A10WQqexUJK2"
      },
      "source": [
        "WIPRO_Date = '2020-10-01'\n",
        "WIPRO_Train_X, WIPRO_Train_Y, WIPRO_Test_X, WIPRO_Test_Y = Dataset(WIPRO, WIPRO_Date)"
      ],
      "execution_count": null,
      "outputs": []
    },
    {
      "cell_type": "markdown",
      "metadata": {
        "id": "Vk8LE9OW1zco"
      },
      "source": [
        "### Model Fitting"
      ]
    },
    {
      "cell_type": "code",
      "metadata": {
        "id": "2b8w-sYTUTpq"
      },
      "source": [
        "WIPRO_Model = Model()"
      ],
      "execution_count": null,
      "outputs": []
    },
    {
      "cell_type": "code",
      "metadata": {
        "id": "Aav5PTMSUYzx"
      },
      "source": [
        "WIPRO_Model.compile(optimizer = tf.keras.optimizers.Adam(), loss = 'mse', metrics = tf.keras.metrics.RootMeanSquaredError())"
      ],
      "execution_count": null,
      "outputs": []
    },
    {
      "cell_type": "code",
      "metadata": {
        "id": "uMbnWIM9UhDx"
      },
      "source": [
        "WIPRO_hist = WIPRO_Model.fit(WIPRO_Train_X, WIPRO_Train_Y, epochs = 1000, validation_data = (WIPRO_Test_X, WIPRO_Test_Y), callbacks=[callback])"
      ],
      "execution_count": null,
      "outputs": []
    },
    {
      "cell_type": "code",
      "metadata": {
        "id": "E9ztdmCqUrec"
      },
      "source": [
        "history_dict = WIPRO_hist.history\n",
        "\n",
        "loss = history_dict[\"loss\"]\n",
        "root_mean_squared_error = history_dict[\"root_mean_squared_error\"]\n",
        "val_loss = history_dict[\"val_loss\"]\n",
        "val_root_mean_squared_error = history_dict[\"val_root_mean_squared_error\"]\n",
        "\n",
        "epochs = range(1, len(loss) + 1)"
      ],
      "execution_count": null,
      "outputs": []
    },
    {
      "cell_type": "code",
      "metadata": {
        "id": "zp60IGaqUw7-"
      },
      "source": [
        "fig, (ax1, ax2) = plt.subplots(1, 2)\n",
        "\n",
        "fig.set_figheight(5)\n",
        "fig.set_figwidth(15)\n",
        "\n",
        "ax1.plot(epochs, loss, label = \"Training Loss\")\n",
        "ax1.plot(epochs, val_loss, label = \"Validation Loss\")\n",
        "ax1.set(xlabel = \"Epochs\", ylabel = \"Loss\")\n",
        "ax1.legend()\n",
        "\n",
        "ax2.plot(epochs, root_mean_squared_error, label = \"Training Root Mean Squared Error\")\n",
        "ax2.plot(epochs, val_root_mean_squared_error, label = \"Validation Root Mean Squared Error\")\n",
        "ax2.set(xlabel = \"Epochs\", ylabel = \"Loss\")\n",
        "ax2.legend()\n",
        "\n",
        "plt.show()"
      ],
      "execution_count": null,
      "outputs": []
    },
    {
      "cell_type": "markdown",
      "metadata": {
        "id": "IzoKGAK71e2e"
      },
      "source": [
        "### Predicting the closing stock price of WIPRO"
      ]
    },
    {
      "cell_type": "code",
      "metadata": {
        "id": "aIR_MW2PU0OX"
      },
      "source": [
        "WIPRO_prediction = WIPRO_Model.predict(WIPRO_Test_X)"
      ],
      "execution_count": null,
      "outputs": []
    },
    {
      "cell_type": "code",
      "metadata": {
        "id": "h5tqUN3xU6m6"
      },
      "source": [
        "plt.figure(figsize=(20, 5))\n",
        "plt.plot(WIPRO['DATE'][WIPRO['DATE'] < '2020-10-12'], WIPRO['VWAP'][WIPRO['DATE'] < '2020-10-12'], label = 'Training')\n",
        "plt.plot(WIPRO['DATE'][WIPRO['DATE'] >= '2020-10-09'], WIPRO['VWAP'][WIPRO['DATE'] >= '2020-10-09'], label = 'Testing')\n",
        "plt.plot(WIPRO['DATE'][WIPRO['DATE'] >= '2020-10-12'], WIPRO_prediction.reshape(-1), label = 'Predictions')\n",
        "plt.xlabel('Time')\n",
        "plt.ylabel('Closing Price')\n",
        "plt.legend(loc = 'best')\n",
        "plt.show()"
      ],
      "execution_count": null,
      "outputs": []
    },
    {
      "cell_type": "code",
      "source": [
        ""
      ],
      "metadata": {
        "id": "sIFhmbKAv1xD"
      },
      "execution_count": null,
      "outputs": []
    },
    {
      "cell_type": "code",
      "metadata": {
        "id": "Q7U_uYv1U_Xf"
      },
      "source": [
        "rmse = math.sqrt(mean_squared_error(WIPRO_Test_Y.reshape(-1, 5), WIPRO_prediction))\n",
        "mape = np.mean(np.abs(WIPRO_prediction - WIPRO_Test_Y.reshape(-1, 5))/np.abs(WIPRO_Test_Y.reshape(-1, 5)))\n",
        "print(f'RMSE: {rmse}')\n",
        "print(f'MAPE: {mape}')"
      ],
      "execution_count": null,
      "outputs": []
    },
    {
      "cell_type": "markdown",
      "metadata": {
        "id": "SkK2GpHFVUM4"
      },
      "source": [
        "#TCS"
      ]
    },
    {
      "cell_type": "code",
      "metadata": {
        "id": "fUPDJfvkVXBS"
      },
      "source": [
        "TCS.head()"
      ],
      "execution_count": null,
      "outputs": []
    },
    {
      "cell_type": "code",
      "metadata": {
        "id": "-xF-HPHwVaK2"
      },
      "source": [
        "TCS.info()"
      ],
      "execution_count": null,
      "outputs": []
    },
    {
      "cell_type": "code",
      "metadata": {
        "id": "DnZTLxJ3Vczg"
      },
      "source": [
        "# Change Dtype of Date column\n",
        "TCS[\"DATE\"] = pd.to_datetime(TCS[\"DATE\"])"
      ],
      "execution_count": null,
      "outputs": []
    },
    {
      "cell_type": "markdown",
      "metadata": {
        "id": "8OeQGXjM6405"
      },
      "source": [
        "###Split the Data into Training and Test set\n",
        "    Training Period: 2018-01-01 - 2020-09-30\n",
        "\n",
        "    Testing Period:  2020-10-01 - 2022-05-17"
      ]
    },
    {
      "cell_type": "code",
      "metadata": {
        "id": "vzD9HTYoViBa"
      },
      "source": [
        "TCS_Date = '2020-11-01'\n",
        "TCS_Train_X, TCS_Train_Y, TCS_Test_X, TCS_Test_Y = Dataset(TCS, TCS_Date)"
      ],
      "execution_count": null,
      "outputs": []
    },
    {
      "cell_type": "markdown",
      "metadata": {
        "id": "Ir-w5AGj1oiK"
      },
      "source": [
        "### Model Fitting"
      ]
    },
    {
      "cell_type": "code",
      "metadata": {
        "id": "2LOoZH8NVpUj"
      },
      "source": [
        "TCS_Model = Model()"
      ],
      "execution_count": null,
      "outputs": []
    },
    {
      "cell_type": "code",
      "metadata": {
        "id": "qln_peIdVs7s"
      },
      "source": [
        "TCS_Model.compile(optimizer = tf.keras.optimizers.Adam(), loss = 'mse', metrics = tf.keras.metrics.RootMeanSquaredError())"
      ],
      "execution_count": null,
      "outputs": []
    },
    {
      "cell_type": "code",
      "metadata": {
        "id": "lo_MPS7aVwLg"
      },
      "source": [
        "TCS_hist = TCS_Model.fit(TCS_Train_X, TCS_Train_Y, epochs = 200, validation_data = (TCS_Test_X, TCS_Test_Y), callbacks=[callback])"
      ],
      "execution_count": null,
      "outputs": []
    },
    {
      "cell_type": "code",
      "metadata": {
        "id": "O3U9RoCMV5us"
      },
      "source": [
        "history_dict = TCS_hist.history\n",
        "\n",
        "loss = history_dict[\"loss\"]\n",
        "root_mean_squared_error = history_dict[\"root_mean_squared_error\"]\n",
        "val_loss = history_dict[\"val_loss\"]\n",
        "val_root_mean_squared_error = history_dict[\"val_root_mean_squared_error\"]\n",
        "\n",
        "epochs = range(1, len(loss) + 1)"
      ],
      "execution_count": null,
      "outputs": []
    },
    {
      "cell_type": "code",
      "metadata": {
        "id": "nOT_ddNYV9sX"
      },
      "source": [
        "fig, (ax1, ax2) = plt.subplots(1, 2)\n",
        "\n",
        "fig.set_figheight(5)\n",
        "fig.set_figwidth(15)\n",
        "\n",
        "ax1.plot(epochs, loss, label = \"Training Loss\")\n",
        "ax1.plot(epochs, val_loss, label = \"Validation Loss\")\n",
        "ax1.set(xlabel = \"Epochs\", ylabel = \"Loss\")\n",
        "ax1.legend()\n",
        "\n",
        "ax2.plot(epochs, root_mean_squared_error, label = \"Training Root Mean Squared Error\")\n",
        "ax2.plot(epochs, val_root_mean_squared_error, label = \"Validation Root Mean Squared Error\")\n",
        "ax2.set(xlabel = \"Epochs\", ylabel = \"Loss\")\n",
        "ax2.legend()\n",
        "\n",
        "plt.show()"
      ],
      "execution_count": null,
      "outputs": []
    },
    {
      "cell_type": "markdown",
      "metadata": {
        "id": "xnAosvbS1jIK"
      },
      "source": [
        "### Predicting the closing stock price of TCS"
      ]
    },
    {
      "cell_type": "code",
      "metadata": {
        "id": "ulvjzyNnWAKY"
      },
      "source": [
        "TCS_prediction = TCS_Model.predict(TCS_Test_X)"
      ],
      "execution_count": null,
      "outputs": []
    },
    {
      "cell_type": "code",
      "metadata": {
        "id": "yqz-_qZeWFPL"
      },
      "source": [
        "plt.figure(figsize=(20, 5))\n",
        "plt.plot(TCS['DATE'][TCS['DATE'] < '2020-11-07'], TCS['VWAP'][TCS['DATE'] < '2020-11-07'], label = 'Training')\n",
        "plt.plot(TCS['DATE'][TCS['DATE'] >= '2020-11-07'], TCS['VWAP'][TCS['DATE'] >= '2020-11-07'], label = 'Testing')\n",
        "plt.plot(TCS['DATE'][TCS['DATE'] >= '2020-11-07'], AMZN_prediction.reshape(-1), label = 'Predictions')\n",
        "plt.xlabel('Time')\n",
        "plt.ylabel('Closing Price')\n",
        "plt.legend(loc = 'best')\n",
        "plt.show()"
      ],
      "execution_count": null,
      "outputs": []
    },
    {
      "cell_type": "code",
      "metadata": {
        "id": "pdn-MQg6WJQu"
      },
      "source": [
        "rmse = math.sqrt(mean_squared_error(TCS_Test_Y.reshape(-1, 5), TCS_prediction))\n",
        "mape = np.mean(np.abs(TCS_prediction - TCS_Test_Y.reshape(-1, 5))/np.abs(TCS_Test_Y.reshape(-1, 5)))\n",
        "print(f'RMSE: {rmse}')\n",
        "print(f'MAPE: {mape}')"
      ],
      "execution_count": null,
      "outputs": []
    }
  ]
}